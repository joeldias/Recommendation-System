{
 "cells": [
  {
   "cell_type": "markdown",
   "metadata": {},
   "source": [
    "### Adventure Works Group - Recommendation Model\n",
    "\n",
    "The Goal - \n",
    "In solving these problems, we will build collaborative filtering models for recommending products to customers using purchase data. "
   ]
  },
  {
   "cell_type": "markdown",
   "metadata": {},
   "source": [
    "## The tool will also be able to search for a recommendation list based on a specified user, such that:\n",
    "Input: customer ID\n",
    "\n",
    "\n",
    "Returns: ranked list of items (product IDs), that the user is most likely to want to put in his/her (empty) “basket”"
   ]
  },
  {
   "cell_type": "markdown",
   "metadata": {},
   "source": [
    "#### 1. Import modules\n",
    "pandas and numpy for data manipulation\n",
    "\n",
    "turicreate for performing model selection and evaluation\n",
    "\n",
    "sklearn for splitting the data into train and test set\n"
   ]
  },
  {
   "cell_type": "code",
   "execution_count": 1,
   "metadata": {},
   "outputs": [
    {
     "name": "stderr",
     "output_type": "stream",
     "text": [
      "/Users/joeldias/anaconda3/lib/python3.6/site-packages/h5py/__init__.py:36: FutureWarning: Conversion of the second argument of issubdtype from `float` to `np.floating` is deprecated. In future, it will be treated as `np.float64 == np.dtype(float).type`.\n",
      "  from ._conv import register_converters as _register_converters\n",
      "/Users/joeldias/anaconda3/lib/python3.6/site-packages/sklearn/cross_validation.py:41: DeprecationWarning: This module was deprecated in version 0.18 in favor of the model_selection module into which all the refactored classes and functions are moved. Also note that the interface of the new CV iterators are different from that of this module. This module will be removed in 0.20.\n",
      "  \"This module will be removed in 0.20.\", DeprecationWarning)\n"
     ]
    }
   ],
   "source": [
    "%load_ext autoreload\n",
    "%autoreload 2\n",
    "\n",
    "import pandas as pd\n",
    "import numpy as np\n",
    "import time\n",
    "import turicreate as tc\n",
    "from sklearn.cross_validation import train_test_split\n",
    "\n",
    "import sys\n",
    "sys.path.append(\"..\")"
   ]
  },
  {
   "cell_type": "markdown",
   "metadata": {},
   "source": [
    "#### 2. Load data"
   ]
  },
  {
   "cell_type": "code",
   "execution_count": 2,
   "metadata": {},
   "outputs": [],
   "source": [
    "customers = pd.read_excel('/Users/joeldias/Desktop/Customers only.xlsx')"
   ]
  },
  {
   "cell_type": "code",
   "execution_count": 3,
   "metadata": {},
   "outputs": [],
   "source": [
    "data = pd.read_excel('/Users/joeldias/Desktop/CustomerPurchaseData.xlsx')"
   ]
  },
  {
   "cell_type": "code",
   "execution_count": 4,
   "metadata": {},
   "outputs": [
    {
     "data": {
      "text/html": [
       "<div>\n",
       "<style scoped>\n",
       "    .dataframe tbody tr th:only-of-type {\n",
       "        vertical-align: middle;\n",
       "    }\n",
       "\n",
       "    .dataframe tbody tr th {\n",
       "        vertical-align: top;\n",
       "    }\n",
       "\n",
       "    .dataframe thead th {\n",
       "        text-align: right;\n",
       "    }\n",
       "</style>\n",
       "<table border=\"1\" class=\"dataframe\">\n",
       "  <thead>\n",
       "    <tr style=\"text-align: right;\">\n",
       "      <th></th>\n",
       "      <th>CustomerID</th>\n",
       "      <th>ProductName</th>\n",
       "      <th>PurchaseCount</th>\n",
       "    </tr>\n",
       "  </thead>\n",
       "  <tbody>\n",
       "    <tr>\n",
       "      <th>0</th>\n",
       "      <td>11000</td>\n",
       "      <td>Touring-1000 Blue, 46</td>\n",
       "      <td>1</td>\n",
       "    </tr>\n",
       "    <tr>\n",
       "      <th>1</th>\n",
       "      <td>11000</td>\n",
       "      <td>Mountain-200 Silver, 38</td>\n",
       "      <td>1</td>\n",
       "    </tr>\n",
       "    <tr>\n",
       "      <th>2</th>\n",
       "      <td>11000</td>\n",
       "      <td>Touring Tire</td>\n",
       "      <td>1</td>\n",
       "    </tr>\n",
       "    <tr>\n",
       "      <th>3</th>\n",
       "      <td>11000</td>\n",
       "      <td>Mountain-100 Silver, 38</td>\n",
       "      <td>1</td>\n",
       "    </tr>\n",
       "    <tr>\n",
       "      <th>4</th>\n",
       "      <td>11000</td>\n",
       "      <td>Touring Tire Tube</td>\n",
       "      <td>1</td>\n",
       "    </tr>\n",
       "  </tbody>\n",
       "</table>\n",
       "</div>"
      ],
      "text/plain": [
       "   CustomerID              ProductName  PurchaseCount\n",
       "0       11000    Touring-1000 Blue, 46              1\n",
       "1       11000  Mountain-200 Silver, 38              1\n",
       "2       11000             Touring Tire              1\n",
       "3       11000  Mountain-100 Silver, 38              1\n",
       "4       11000        Touring Tire Tube              1"
      ]
     },
     "execution_count": 4,
     "metadata": {},
     "output_type": "execute_result"
    }
   ],
   "source": [
    "data.head()"
   ]
  },
  {
   "cell_type": "markdown",
   "metadata": {},
   "source": [
    "#### 3.1. Create dummy\n",
    "Dummy for marking whether a customer bought that item or not.\n",
    "If one buys an item, then purchase_dummy are marked as 1\n",
    "\n",
    "\n",
    "Why create a dummy instead of normalizing it. Normalizing the purchase count, say by each user, would not work because customers with different buying frequencies do not have the same taste. However, we can normalize items by purchase frequency across all users, which is done in the next section"
   ]
  },
  {
   "cell_type": "code",
   "execution_count": 5,
   "metadata": {},
   "outputs": [],
   "source": [
    "def create_data_dummy(data):\n",
    "    data_dummy = data.copy()\n",
    "    data_dummy['purchase_dummy'] = 1\n",
    "    return data_dummy\n",
    "data_dummy = create_data_dummy(data)"
   ]
  },
  {
   "cell_type": "markdown",
   "metadata": {},
   "source": [
    "#### 3.3. Normalize item values across users\n",
    "\n",
    "To do this, we normalize purchase frequency of each item across users by first creating a user-item matrix as follows"
   ]
  },
  {
   "cell_type": "code",
   "execution_count": 6,
   "metadata": {},
   "outputs": [],
   "source": [
    "df_matrix = pd.pivot_table(data, values='PurchaseCount', index='CustomerID', columns='ProductName')"
   ]
  },
  {
   "cell_type": "code",
   "execution_count": 7,
   "metadata": {},
   "outputs": [
    {
     "data": {
      "text/html": [
       "<div>\n",
       "<style scoped>\n",
       "    .dataframe tbody tr th:only-of-type {\n",
       "        vertical-align: middle;\n",
       "    }\n",
       "\n",
       "    .dataframe tbody tr th {\n",
       "        vertical-align: top;\n",
       "    }\n",
       "\n",
       "    .dataframe thead th {\n",
       "        text-align: right;\n",
       "    }\n",
       "</style>\n",
       "<table border=\"1\" class=\"dataframe\">\n",
       "  <thead>\n",
       "    <tr style=\"text-align: right;\">\n",
       "      <th>ProductName</th>\n",
       "      <th>AWC Logo Cap</th>\n",
       "      <th>All-Purpose Bike Stand</th>\n",
       "      <th>Bike Wash - Dissolver</th>\n",
       "      <th>Classic Vest, L</th>\n",
       "      <th>Classic Vest, M</th>\n",
       "      <th>Classic Vest, S</th>\n",
       "      <th>Fender Set - Mountain</th>\n",
       "      <th>HL Mountain Tire</th>\n",
       "      <th>HL Road Tire</th>\n",
       "      <th>Half-Finger Gloves, L</th>\n",
       "      <th>...</th>\n",
       "      <th>Touring-3000 Blue, 62</th>\n",
       "      <th>Touring-3000 Yellow, 44</th>\n",
       "      <th>Touring-3000 Yellow, 50</th>\n",
       "      <th>Touring-3000 Yellow, 54</th>\n",
       "      <th>Touring-3000 Yellow, 58</th>\n",
       "      <th>Touring-3000 Yellow, 62</th>\n",
       "      <th>Water Bottle - 30 oz.</th>\n",
       "      <th>Women's Mountain Shorts, L</th>\n",
       "      <th>Women's Mountain Shorts, M</th>\n",
       "      <th>Women's Mountain Shorts, S</th>\n",
       "    </tr>\n",
       "    <tr>\n",
       "      <th>CustomerID</th>\n",
       "      <th></th>\n",
       "      <th></th>\n",
       "      <th></th>\n",
       "      <th></th>\n",
       "      <th></th>\n",
       "      <th></th>\n",
       "      <th></th>\n",
       "      <th></th>\n",
       "      <th></th>\n",
       "      <th></th>\n",
       "      <th></th>\n",
       "      <th></th>\n",
       "      <th></th>\n",
       "      <th></th>\n",
       "      <th></th>\n",
       "      <th></th>\n",
       "      <th></th>\n",
       "      <th></th>\n",
       "      <th></th>\n",
       "      <th></th>\n",
       "      <th></th>\n",
       "    </tr>\n",
       "  </thead>\n",
       "  <tbody>\n",
       "    <tr>\n",
       "      <th>11000</th>\n",
       "      <td>NaN</td>\n",
       "      <td>NaN</td>\n",
       "      <td>NaN</td>\n",
       "      <td>NaN</td>\n",
       "      <td>NaN</td>\n",
       "      <td>NaN</td>\n",
       "      <td>1.0</td>\n",
       "      <td>NaN</td>\n",
       "      <td>NaN</td>\n",
       "      <td>NaN</td>\n",
       "      <td>...</td>\n",
       "      <td>NaN</td>\n",
       "      <td>NaN</td>\n",
       "      <td>NaN</td>\n",
       "      <td>NaN</td>\n",
       "      <td>NaN</td>\n",
       "      <td>NaN</td>\n",
       "      <td>NaN</td>\n",
       "      <td>NaN</td>\n",
       "      <td>NaN</td>\n",
       "      <td>NaN</td>\n",
       "    </tr>\n",
       "    <tr>\n",
       "      <th>11001</th>\n",
       "      <td>1.0</td>\n",
       "      <td>NaN</td>\n",
       "      <td>NaN</td>\n",
       "      <td>NaN</td>\n",
       "      <td>NaN</td>\n",
       "      <td>NaN</td>\n",
       "      <td>1.0</td>\n",
       "      <td>NaN</td>\n",
       "      <td>NaN</td>\n",
       "      <td>NaN</td>\n",
       "      <td>...</td>\n",
       "      <td>NaN</td>\n",
       "      <td>NaN</td>\n",
       "      <td>NaN</td>\n",
       "      <td>NaN</td>\n",
       "      <td>NaN</td>\n",
       "      <td>NaN</td>\n",
       "      <td>2.0</td>\n",
       "      <td>NaN</td>\n",
       "      <td>NaN</td>\n",
       "      <td>NaN</td>\n",
       "    </tr>\n",
       "    <tr>\n",
       "      <th>11002</th>\n",
       "      <td>NaN</td>\n",
       "      <td>NaN</td>\n",
       "      <td>NaN</td>\n",
       "      <td>NaN</td>\n",
       "      <td>NaN</td>\n",
       "      <td>NaN</td>\n",
       "      <td>NaN</td>\n",
       "      <td>NaN</td>\n",
       "      <td>NaN</td>\n",
       "      <td>NaN</td>\n",
       "      <td>...</td>\n",
       "      <td>NaN</td>\n",
       "      <td>NaN</td>\n",
       "      <td>NaN</td>\n",
       "      <td>NaN</td>\n",
       "      <td>NaN</td>\n",
       "      <td>NaN</td>\n",
       "      <td>NaN</td>\n",
       "      <td>NaN</td>\n",
       "      <td>NaN</td>\n",
       "      <td>NaN</td>\n",
       "    </tr>\n",
       "    <tr>\n",
       "      <th>11003</th>\n",
       "      <td>1.0</td>\n",
       "      <td>NaN</td>\n",
       "      <td>NaN</td>\n",
       "      <td>NaN</td>\n",
       "      <td>NaN</td>\n",
       "      <td>NaN</td>\n",
       "      <td>NaN</td>\n",
       "      <td>NaN</td>\n",
       "      <td>NaN</td>\n",
       "      <td>NaN</td>\n",
       "      <td>...</td>\n",
       "      <td>NaN</td>\n",
       "      <td>NaN</td>\n",
       "      <td>NaN</td>\n",
       "      <td>NaN</td>\n",
       "      <td>NaN</td>\n",
       "      <td>NaN</td>\n",
       "      <td>1.0</td>\n",
       "      <td>NaN</td>\n",
       "      <td>NaN</td>\n",
       "      <td>NaN</td>\n",
       "    </tr>\n",
       "    <tr>\n",
       "      <th>11004</th>\n",
       "      <td>NaN</td>\n",
       "      <td>NaN</td>\n",
       "      <td>NaN</td>\n",
       "      <td>NaN</td>\n",
       "      <td>NaN</td>\n",
       "      <td>NaN</td>\n",
       "      <td>1.0</td>\n",
       "      <td>NaN</td>\n",
       "      <td>NaN</td>\n",
       "      <td>NaN</td>\n",
       "      <td>...</td>\n",
       "      <td>NaN</td>\n",
       "      <td>NaN</td>\n",
       "      <td>NaN</td>\n",
       "      <td>NaN</td>\n",
       "      <td>NaN</td>\n",
       "      <td>NaN</td>\n",
       "      <td>NaN</td>\n",
       "      <td>NaN</td>\n",
       "      <td>NaN</td>\n",
       "      <td>NaN</td>\n",
       "    </tr>\n",
       "  </tbody>\n",
       "</table>\n",
       "<p>5 rows × 130 columns</p>\n",
       "</div>"
      ],
      "text/plain": [
       "ProductName  AWC Logo Cap  All-Purpose Bike Stand  Bike Wash - Dissolver  \\\n",
       "CustomerID                                                                 \n",
       "11000                 NaN                     NaN                    NaN   \n",
       "11001                 1.0                     NaN                    NaN   \n",
       "11002                 NaN                     NaN                    NaN   \n",
       "11003                 1.0                     NaN                    NaN   \n",
       "11004                 NaN                     NaN                    NaN   \n",
       "\n",
       "ProductName  Classic Vest, L  Classic Vest, M  Classic Vest, S  \\\n",
       "CustomerID                                                       \n",
       "11000                    NaN              NaN              NaN   \n",
       "11001                    NaN              NaN              NaN   \n",
       "11002                    NaN              NaN              NaN   \n",
       "11003                    NaN              NaN              NaN   \n",
       "11004                    NaN              NaN              NaN   \n",
       "\n",
       "ProductName  Fender Set - Mountain  HL Mountain Tire  HL Road Tire  \\\n",
       "CustomerID                                                           \n",
       "11000                          1.0               NaN           NaN   \n",
       "11001                          1.0               NaN           NaN   \n",
       "11002                          NaN               NaN           NaN   \n",
       "11003                          NaN               NaN           NaN   \n",
       "11004                          1.0               NaN           NaN   \n",
       "\n",
       "ProductName  Half-Finger Gloves, L             ...              \\\n",
       "CustomerID                                     ...               \n",
       "11000                          NaN             ...               \n",
       "11001                          NaN             ...               \n",
       "11002                          NaN             ...               \n",
       "11003                          NaN             ...               \n",
       "11004                          NaN             ...               \n",
       "\n",
       "ProductName  Touring-3000 Blue, 62  Touring-3000 Yellow, 44  \\\n",
       "CustomerID                                                    \n",
       "11000                          NaN                      NaN   \n",
       "11001                          NaN                      NaN   \n",
       "11002                          NaN                      NaN   \n",
       "11003                          NaN                      NaN   \n",
       "11004                          NaN                      NaN   \n",
       "\n",
       "ProductName  Touring-3000 Yellow, 50  Touring-3000 Yellow, 54  \\\n",
       "CustomerID                                                      \n",
       "11000                            NaN                      NaN   \n",
       "11001                            NaN                      NaN   \n",
       "11002                            NaN                      NaN   \n",
       "11003                            NaN                      NaN   \n",
       "11004                            NaN                      NaN   \n",
       "\n",
       "ProductName  Touring-3000 Yellow, 58  Touring-3000 Yellow, 62  \\\n",
       "CustomerID                                                      \n",
       "11000                            NaN                      NaN   \n",
       "11001                            NaN                      NaN   \n",
       "11002                            NaN                      NaN   \n",
       "11003                            NaN                      NaN   \n",
       "11004                            NaN                      NaN   \n",
       "\n",
       "ProductName  Water Bottle - 30 oz.  Women's Mountain Shorts, L  \\\n",
       "CustomerID                                                       \n",
       "11000                          NaN                         NaN   \n",
       "11001                          2.0                         NaN   \n",
       "11002                          NaN                         NaN   \n",
       "11003                          1.0                         NaN   \n",
       "11004                          NaN                         NaN   \n",
       "\n",
       "ProductName  Women's Mountain Shorts, M  Women's Mountain Shorts, S  \n",
       "CustomerID                                                           \n",
       "11000                               NaN                         NaN  \n",
       "11001                               NaN                         NaN  \n",
       "11002                               NaN                         NaN  \n",
       "11003                               NaN                         NaN  \n",
       "11004                               NaN                         NaN  \n",
       "\n",
       "[5 rows x 130 columns]"
      ]
     },
     "execution_count": 7,
     "metadata": {},
     "output_type": "execute_result"
    }
   ],
   "source": [
    "df_matrix.head()"
   ]
  },
  {
   "cell_type": "code",
   "execution_count": 8,
   "metadata": {},
   "outputs": [],
   "source": [
    "df_matrix_norm = (df_matrix-df_matrix.min())/(df_matrix.max()-df_matrix.min())"
   ]
  },
  {
   "cell_type": "code",
   "execution_count": 9,
   "metadata": {
    "scrolled": true
   },
   "outputs": [
    {
     "data": {
      "text/html": [
       "<div>\n",
       "<style scoped>\n",
       "    .dataframe tbody tr th:only-of-type {\n",
       "        vertical-align: middle;\n",
       "    }\n",
       "\n",
       "    .dataframe tbody tr th {\n",
       "        vertical-align: top;\n",
       "    }\n",
       "\n",
       "    .dataframe thead th {\n",
       "        text-align: right;\n",
       "    }\n",
       "</style>\n",
       "<table border=\"1\" class=\"dataframe\">\n",
       "  <thead>\n",
       "    <tr style=\"text-align: right;\">\n",
       "      <th>ProductName</th>\n",
       "      <th>AWC Logo Cap</th>\n",
       "      <th>All-Purpose Bike Stand</th>\n",
       "      <th>Bike Wash - Dissolver</th>\n",
       "      <th>Classic Vest, L</th>\n",
       "      <th>Classic Vest, M</th>\n",
       "      <th>Classic Vest, S</th>\n",
       "      <th>Fender Set - Mountain</th>\n",
       "      <th>HL Mountain Tire</th>\n",
       "      <th>HL Road Tire</th>\n",
       "      <th>Half-Finger Gloves, L</th>\n",
       "      <th>...</th>\n",
       "      <th>Touring-3000 Blue, 62</th>\n",
       "      <th>Touring-3000 Yellow, 44</th>\n",
       "      <th>Touring-3000 Yellow, 50</th>\n",
       "      <th>Touring-3000 Yellow, 54</th>\n",
       "      <th>Touring-3000 Yellow, 58</th>\n",
       "      <th>Touring-3000 Yellow, 62</th>\n",
       "      <th>Water Bottle - 30 oz.</th>\n",
       "      <th>Women's Mountain Shorts, L</th>\n",
       "      <th>Women's Mountain Shorts, M</th>\n",
       "      <th>Women's Mountain Shorts, S</th>\n",
       "    </tr>\n",
       "    <tr>\n",
       "      <th>CustomerID</th>\n",
       "      <th></th>\n",
       "      <th></th>\n",
       "      <th></th>\n",
       "      <th></th>\n",
       "      <th></th>\n",
       "      <th></th>\n",
       "      <th></th>\n",
       "      <th></th>\n",
       "      <th></th>\n",
       "      <th></th>\n",
       "      <th></th>\n",
       "      <th></th>\n",
       "      <th></th>\n",
       "      <th></th>\n",
       "      <th></th>\n",
       "      <th></th>\n",
       "      <th></th>\n",
       "      <th></th>\n",
       "      <th></th>\n",
       "      <th></th>\n",
       "      <th></th>\n",
       "    </tr>\n",
       "  </thead>\n",
       "  <tbody>\n",
       "    <tr>\n",
       "      <th>11000</th>\n",
       "      <td>NaN</td>\n",
       "      <td>NaN</td>\n",
       "      <td>NaN</td>\n",
       "      <td>NaN</td>\n",
       "      <td>NaN</td>\n",
       "      <td>NaN</td>\n",
       "      <td>0.0</td>\n",
       "      <td>NaN</td>\n",
       "      <td>NaN</td>\n",
       "      <td>NaN</td>\n",
       "      <td>...</td>\n",
       "      <td>NaN</td>\n",
       "      <td>NaN</td>\n",
       "      <td>NaN</td>\n",
       "      <td>NaN</td>\n",
       "      <td>NaN</td>\n",
       "      <td>NaN</td>\n",
       "      <td>NaN</td>\n",
       "      <td>NaN</td>\n",
       "      <td>NaN</td>\n",
       "      <td>NaN</td>\n",
       "    </tr>\n",
       "    <tr>\n",
       "      <th>11001</th>\n",
       "      <td>0.0</td>\n",
       "      <td>NaN</td>\n",
       "      <td>NaN</td>\n",
       "      <td>NaN</td>\n",
       "      <td>NaN</td>\n",
       "      <td>NaN</td>\n",
       "      <td>0.0</td>\n",
       "      <td>NaN</td>\n",
       "      <td>NaN</td>\n",
       "      <td>NaN</td>\n",
       "      <td>...</td>\n",
       "      <td>NaN</td>\n",
       "      <td>NaN</td>\n",
       "      <td>NaN</td>\n",
       "      <td>NaN</td>\n",
       "      <td>NaN</td>\n",
       "      <td>NaN</td>\n",
       "      <td>0.25</td>\n",
       "      <td>NaN</td>\n",
       "      <td>NaN</td>\n",
       "      <td>NaN</td>\n",
       "    </tr>\n",
       "    <tr>\n",
       "      <th>11002</th>\n",
       "      <td>NaN</td>\n",
       "      <td>NaN</td>\n",
       "      <td>NaN</td>\n",
       "      <td>NaN</td>\n",
       "      <td>NaN</td>\n",
       "      <td>NaN</td>\n",
       "      <td>NaN</td>\n",
       "      <td>NaN</td>\n",
       "      <td>NaN</td>\n",
       "      <td>NaN</td>\n",
       "      <td>...</td>\n",
       "      <td>NaN</td>\n",
       "      <td>NaN</td>\n",
       "      <td>NaN</td>\n",
       "      <td>NaN</td>\n",
       "      <td>NaN</td>\n",
       "      <td>NaN</td>\n",
       "      <td>NaN</td>\n",
       "      <td>NaN</td>\n",
       "      <td>NaN</td>\n",
       "      <td>NaN</td>\n",
       "    </tr>\n",
       "    <tr>\n",
       "      <th>11003</th>\n",
       "      <td>0.0</td>\n",
       "      <td>NaN</td>\n",
       "      <td>NaN</td>\n",
       "      <td>NaN</td>\n",
       "      <td>NaN</td>\n",
       "      <td>NaN</td>\n",
       "      <td>NaN</td>\n",
       "      <td>NaN</td>\n",
       "      <td>NaN</td>\n",
       "      <td>NaN</td>\n",
       "      <td>...</td>\n",
       "      <td>NaN</td>\n",
       "      <td>NaN</td>\n",
       "      <td>NaN</td>\n",
       "      <td>NaN</td>\n",
       "      <td>NaN</td>\n",
       "      <td>NaN</td>\n",
       "      <td>0.00</td>\n",
       "      <td>NaN</td>\n",
       "      <td>NaN</td>\n",
       "      <td>NaN</td>\n",
       "    </tr>\n",
       "    <tr>\n",
       "      <th>11004</th>\n",
       "      <td>NaN</td>\n",
       "      <td>NaN</td>\n",
       "      <td>NaN</td>\n",
       "      <td>NaN</td>\n",
       "      <td>NaN</td>\n",
       "      <td>NaN</td>\n",
       "      <td>0.0</td>\n",
       "      <td>NaN</td>\n",
       "      <td>NaN</td>\n",
       "      <td>NaN</td>\n",
       "      <td>...</td>\n",
       "      <td>NaN</td>\n",
       "      <td>NaN</td>\n",
       "      <td>NaN</td>\n",
       "      <td>NaN</td>\n",
       "      <td>NaN</td>\n",
       "      <td>NaN</td>\n",
       "      <td>NaN</td>\n",
       "      <td>NaN</td>\n",
       "      <td>NaN</td>\n",
       "      <td>NaN</td>\n",
       "    </tr>\n",
       "  </tbody>\n",
       "</table>\n",
       "<p>5 rows × 130 columns</p>\n",
       "</div>"
      ],
      "text/plain": [
       "ProductName  AWC Logo Cap  All-Purpose Bike Stand  Bike Wash - Dissolver  \\\n",
       "CustomerID                                                                 \n",
       "11000                 NaN                     NaN                    NaN   \n",
       "11001                 0.0                     NaN                    NaN   \n",
       "11002                 NaN                     NaN                    NaN   \n",
       "11003                 0.0                     NaN                    NaN   \n",
       "11004                 NaN                     NaN                    NaN   \n",
       "\n",
       "ProductName  Classic Vest, L  Classic Vest, M  Classic Vest, S  \\\n",
       "CustomerID                                                       \n",
       "11000                    NaN              NaN              NaN   \n",
       "11001                    NaN              NaN              NaN   \n",
       "11002                    NaN              NaN              NaN   \n",
       "11003                    NaN              NaN              NaN   \n",
       "11004                    NaN              NaN              NaN   \n",
       "\n",
       "ProductName  Fender Set - Mountain  HL Mountain Tire  HL Road Tire  \\\n",
       "CustomerID                                                           \n",
       "11000                          0.0               NaN           NaN   \n",
       "11001                          0.0               NaN           NaN   \n",
       "11002                          NaN               NaN           NaN   \n",
       "11003                          NaN               NaN           NaN   \n",
       "11004                          0.0               NaN           NaN   \n",
       "\n",
       "ProductName  Half-Finger Gloves, L             ...              \\\n",
       "CustomerID                                     ...               \n",
       "11000                          NaN             ...               \n",
       "11001                          NaN             ...               \n",
       "11002                          NaN             ...               \n",
       "11003                          NaN             ...               \n",
       "11004                          NaN             ...               \n",
       "\n",
       "ProductName  Touring-3000 Blue, 62  Touring-3000 Yellow, 44  \\\n",
       "CustomerID                                                    \n",
       "11000                          NaN                      NaN   \n",
       "11001                          NaN                      NaN   \n",
       "11002                          NaN                      NaN   \n",
       "11003                          NaN                      NaN   \n",
       "11004                          NaN                      NaN   \n",
       "\n",
       "ProductName  Touring-3000 Yellow, 50  Touring-3000 Yellow, 54  \\\n",
       "CustomerID                                                      \n",
       "11000                            NaN                      NaN   \n",
       "11001                            NaN                      NaN   \n",
       "11002                            NaN                      NaN   \n",
       "11003                            NaN                      NaN   \n",
       "11004                            NaN                      NaN   \n",
       "\n",
       "ProductName  Touring-3000 Yellow, 58  Touring-3000 Yellow, 62  \\\n",
       "CustomerID                                                      \n",
       "11000                            NaN                      NaN   \n",
       "11001                            NaN                      NaN   \n",
       "11002                            NaN                      NaN   \n",
       "11003                            NaN                      NaN   \n",
       "11004                            NaN                      NaN   \n",
       "\n",
       "ProductName  Water Bottle - 30 oz.  Women's Mountain Shorts, L  \\\n",
       "CustomerID                                                       \n",
       "11000                          NaN                         NaN   \n",
       "11001                         0.25                         NaN   \n",
       "11002                          NaN                         NaN   \n",
       "11003                         0.00                         NaN   \n",
       "11004                          NaN                         NaN   \n",
       "\n",
       "ProductName  Women's Mountain Shorts, M  Women's Mountain Shorts, S  \n",
       "CustomerID                                                           \n",
       "11000                               NaN                         NaN  \n",
       "11001                               NaN                         NaN  \n",
       "11002                               NaN                         NaN  \n",
       "11003                               NaN                         NaN  \n",
       "11004                               NaN                         NaN  \n",
       "\n",
       "[5 rows x 130 columns]"
      ]
     },
     "execution_count": 9,
     "metadata": {},
     "output_type": "execute_result"
    }
   ],
   "source": [
    "df_matrix_norm.head()"
   ]
  },
  {
   "cell_type": "markdown",
   "metadata": {},
   "source": [
    "#### Create a table for input to the modeling"
   ]
  },
  {
   "cell_type": "code",
   "execution_count": 1,
   "metadata": {},
   "outputs": [
    {
     "ename": "NameError",
     "evalue": "name 'df_matrix_norm' is not defined",
     "output_type": "error",
     "traceback": [
      "\u001b[1;31m---------------------------------------------------------------------------\u001b[0m",
      "\u001b[1;31mNameError\u001b[0m                                 Traceback (most recent call last)",
      "\u001b[1;32m<ipython-input-1-c38720ae130b>\u001b[0m in \u001b[0;36m<module>\u001b[1;34m()\u001b[0m\n\u001b[0;32m      1\u001b[0m \u001b[1;33m\u001b[0m\u001b[0m\n\u001b[1;32m----> 2\u001b[1;33m \u001b[0md\u001b[0m \u001b[1;33m=\u001b[0m \u001b[0mdf_matrix_norm\u001b[0m\u001b[1;33m.\u001b[0m\u001b[0mreset_index\u001b[0m\u001b[1;33m(\u001b[0m\u001b[1;33m)\u001b[0m\u001b[1;33m\u001b[0m\u001b[0m\n\u001b[0m\u001b[0;32m      3\u001b[0m \u001b[0md\u001b[0m\u001b[1;33m.\u001b[0m\u001b[0mindex\u001b[0m\u001b[1;33m.\u001b[0m\u001b[0mnames\u001b[0m \u001b[1;33m=\u001b[0m \u001b[1;33m[\u001b[0m\u001b[1;34m'scaled_purchase_freq'\u001b[0m\u001b[1;33m]\u001b[0m\u001b[1;33m\u001b[0m\u001b[0m\n\u001b[0;32m      4\u001b[0m \u001b[0mdata_norm\u001b[0m \u001b[1;33m=\u001b[0m \u001b[0mpd\u001b[0m\u001b[1;33m.\u001b[0m\u001b[0mmelt\u001b[0m\u001b[1;33m(\u001b[0m\u001b[0md\u001b[0m\u001b[1;33m,\u001b[0m \u001b[0mid_vars\u001b[0m\u001b[1;33m=\u001b[0m\u001b[1;33m[\u001b[0m\u001b[1;34m'CustomerID'\u001b[0m\u001b[1;33m]\u001b[0m\u001b[1;33m,\u001b[0m \u001b[0mvalue_name\u001b[0m\u001b[1;33m=\u001b[0m\u001b[1;34m'scaled_purchase_freq'\u001b[0m\u001b[1;33m)\u001b[0m\u001b[1;33m.\u001b[0m\u001b[0mdropna\u001b[0m\u001b[1;33m(\u001b[0m\u001b[1;33m)\u001b[0m\u001b[1;33m\u001b[0m\u001b[0m\n\u001b[0;32m      5\u001b[0m \u001b[0mprint\u001b[0m\u001b[1;33m(\u001b[0m\u001b[0mdata_norm\u001b[0m\u001b[1;33m.\u001b[0m\u001b[0mshape\u001b[0m\u001b[1;33m)\u001b[0m\u001b[1;33m\u001b[0m\u001b[0m\n",
      "\u001b[1;31mNameError\u001b[0m: name 'df_matrix_norm' is not defined"
     ]
    }
   ],
   "source": [
    "\n",
    "d = df_matrix_norm.reset_index() \n",
    "d.index.names = ['scaled_purchase_freq'] \n",
    "data_norm = pd.melt(d, id_vars=['CustomerID'], value_name='scaled_purchase_freq').dropna()\n",
    "print(data_norm.shape)\n",
    "data_norm.head()"
   ]
  },
  {
   "cell_type": "markdown",
   "metadata": {},
   "source": [
    "#### The above steps can be combined to a single function as defined below:"
   ]
  },
  {
   "cell_type": "code",
   "execution_count": 11,
   "metadata": {},
   "outputs": [],
   "source": [
    "def normalize_data(data):\n",
    "    df_matrix = pd.pivot_table(data, values='purchase_count', index='customerId', columns='productId')\n",
    "    df_matrix_norm = (df_matrix-df_matrix.min())/(df_matrix.max()-df_matrix.min())\n",
    "    d = df_matrix_norm.reset_index()\n",
    "    d.index.names = ['scaled_purchase_freq']\n",
    "    return pd.melt(d, id_vars=['customerId'], value_name='scaled_purchase_freq').dropna()"
   ]
  },
  {
   "cell_type": "markdown",
   "metadata": {},
   "source": [
    "#### 4. Split train and test set\n",
    "Splitting the data into training and testing sets is an important part of evaluating predictive modeling, in this case a collaborative filtering model. Typically, we use a larger portion of the data for training and a smaller portion for testing.\n",
    "\n",
    "We use 80:20 ratio for our train-test set size.\n",
    "\n",
    "Our training portion will be used to develop a predictive model, while the other to evaluate the model’s performance.\n",
    "Let’s define a splitting function below."
   ]
  },
  {
   "cell_type": "code",
   "execution_count": 12,
   "metadata": {},
   "outputs": [],
   "source": [
    "def split_data(data):\n",
    "    '''\n",
    "    Splits dataset into training and test set.\n",
    "    \n",
    "    Args:\n",
    "        data (pandas.DataFrame)\n",
    "        \n",
    "    Returns\n",
    "        train_data (tc.SFrame)\n",
    "        test_data (tc.SFrame)\n",
    "    '''\n",
    "    train, test = train_test_split(data, test_size = .2)\n",
    "    train_data = tc.SFrame(train)\n",
    "    test_data = tc.SFrame(test)\n",
    "    return train_data, test_data"
   ]
  },
  {
   "cell_type": "markdown",
   "metadata": {},
   "source": [
    "#### Now that we have three datasets with purchase counts, purchase dummy, and scaled purchase counts, we would like to split each for modeling."
   ]
  },
  {
   "cell_type": "code",
   "execution_count": 13,
   "metadata": {},
   "outputs": [],
   "source": [
    "train_data, test_data = split_data(data)\n",
    "train_data_dummy, test_data_dummy = split_data(data_dummy)\n",
    "train_data_norm, test_data_norm = split_data(data_norm)"
   ]
  },
  {
   "cell_type": "markdown",
   "metadata": {},
   "source": [
    "#### 5. Define Models using Turicreate library\n",
    "\n",
    "Before running a more complicated approach such as collaborative filtering, we should run a baseline model to compare and evaluate models. Since baseline typically uses a very simple approach, techniques used beyond this approach should be chosen if they show relatively better accuracy and complexity. In this case, we will be using popularity model.\n",
    "\n",
    "A more complicated but common approach to predict purchase items is collaborative filtering. We will discuss more about the popularity model and collaborative filtering in the later section. For now, let’s first define our variables to use in the models:"
   ]
  },
  {
   "cell_type": "code",
   "execution_count": 14,
   "metadata": {},
   "outputs": [],
   "source": [
    "# constant variables to define field names include:\n",
    "user_id = 'CustomerID'\n",
    "item_id = 'ProductName'\n",
    "users_to_recommend = list(customers[user_id])\n",
    "n_rec = 10 # number of items to recommend\n",
    "n_display = 30 # to display the first few rows in an output dataset\n",
    "\n",
    "# Create excel sheet customers and read to customers as in ref sheet\n"
   ]
  },
  {
   "cell_type": "markdown",
   "metadata": {},
   "source": [
    "#### Turicreate has made it easy for us to call a modeling technique, so let’s define our function for all models as follows:"
   ]
  },
  {
   "cell_type": "code",
   "execution_count": 15,
   "metadata": {},
   "outputs": [],
   "source": [
    "def model(train_data, name, user_id, item_id, target, users_to_recommend, n_rec, n_display):\n",
    "    if name == 'popularity':\n",
    "        model = tc.popularity_recommender.create(train_data, \n",
    "                                                    user_id=user_id, \n",
    "                                                    item_id=item_id, \n",
    "                                                    target=target)\n",
    "    elif name == 'cosine':\n",
    "        model = tc.item_similarity_recommender.create(train_data, \n",
    "                                                    user_id=user_id, \n",
    "                                                    item_id=item_id, \n",
    "                                                    target=target, \n",
    "                                                    similarity_type='cosine')\n",
    "    elif name == 'pearson':\n",
    "        model = tc.item_similarity_recommender.create(train_data, \n",
    "                                                    user_id=user_id, \n",
    "                                                    item_id=item_id, \n",
    "                                                    target=target, \n",
    "                                                    similarity_type='pearson')\n",
    "        \n",
    "    recom = model.recommend(users=users_to_recommend, k=n_rec)\n",
    "    recom.print_rows(n_display)\n",
    "    return model"
   ]
  },
  {
   "cell_type": "markdown",
   "metadata": {},
   "source": [
    "#### 6. Popularity Model as Baseline\n",
    "The popularity model takes the most popular items for recommendation. These items are products with the highest number of sells across customers.\n",
    "\n",
    "Training data is used for model selection\n"
   ]
  },
  {
   "cell_type": "markdown",
   "metadata": {},
   "source": [
    "#### i. Using purchase count"
   ]
  },
  {
   "cell_type": "code",
   "execution_count": 16,
   "metadata": {},
   "outputs": [
    {
     "data": {
      "text/html": [
       "<pre>Recsys training: model = popularity</pre>"
      ],
      "text/plain": [
       "Recsys training: model = popularity"
      ]
     },
     "metadata": {},
     "output_type": "display_data"
    },
    {
     "data": {
      "text/html": [
       "<pre>Preparing data set.</pre>"
      ],
      "text/plain": [
       "Preparing data set."
      ]
     },
     "metadata": {},
     "output_type": "display_data"
    },
    {
     "data": {
      "text/html": [
       "<pre>    Data has 47137 observations with 17732 users and 130 items.</pre>"
      ],
      "text/plain": [
       "    Data has 47137 observations with 17732 users and 130 items."
      ]
     },
     "metadata": {},
     "output_type": "display_data"
    },
    {
     "data": {
      "text/html": [
       "<pre>    Data prepared in: 0.057594s</pre>"
      ],
      "text/plain": [
       "    Data prepared in: 0.057594s"
      ]
     },
     "metadata": {},
     "output_type": "display_data"
    },
    {
     "data": {
      "text/html": [
       "<pre>47137 observations to process; with 130 unique items.</pre>"
      ],
      "text/plain": [
       "47137 observations to process; with 130 unique items."
      ]
     },
     "metadata": {},
     "output_type": "display_data"
    },
    {
     "data": {
      "text/html": [
       "<pre>recommendations finished on 1000/18484 queries. users per second: 246609</pre>"
      ],
      "text/plain": [
       "recommendations finished on 1000/18484 queries. users per second: 246609"
      ]
     },
     "metadata": {},
     "output_type": "display_data"
    },
    {
     "data": {
      "text/html": [
       "<pre>recommendations finished on 2000/18484 queries. users per second: 355051</pre>"
      ],
      "text/plain": [
       "recommendations finished on 2000/18484 queries. users per second: 355051"
      ]
     },
     "metadata": {},
     "output_type": "display_data"
    },
    {
     "data": {
      "text/html": [
       "<pre>recommendations finished on 3000/18484 queries. users per second: 410228</pre>"
      ],
      "text/plain": [
       "recommendations finished on 3000/18484 queries. users per second: 410228"
      ]
     },
     "metadata": {},
     "output_type": "display_data"
    },
    {
     "data": {
      "text/html": [
       "<pre>recommendations finished on 4000/18484 queries. users per second: 432479</pre>"
      ],
      "text/plain": [
       "recommendations finished on 4000/18484 queries. users per second: 432479"
      ]
     },
     "metadata": {},
     "output_type": "display_data"
    },
    {
     "data": {
      "text/html": [
       "<pre>recommendations finished on 5000/18484 queries. users per second: 441345</pre>"
      ],
      "text/plain": [
       "recommendations finished on 5000/18484 queries. users per second: 441345"
      ]
     },
     "metadata": {},
     "output_type": "display_data"
    },
    {
     "data": {
      "text/html": [
       "<pre>recommendations finished on 6000/18484 queries. users per second: 406669</pre>"
      ],
      "text/plain": [
       "recommendations finished on 6000/18484 queries. users per second: 406669"
      ]
     },
     "metadata": {},
     "output_type": "display_data"
    },
    {
     "data": {
      "text/html": [
       "<pre>recommendations finished on 7000/18484 queries. users per second: 384954</pre>"
      ],
      "text/plain": [
       "recommendations finished on 7000/18484 queries. users per second: 384954"
      ]
     },
     "metadata": {},
     "output_type": "display_data"
    },
    {
     "data": {
      "text/html": [
       "<pre>recommendations finished on 8000/18484 queries. users per second: 307751</pre>"
      ],
      "text/plain": [
       "recommendations finished on 8000/18484 queries. users per second: 307751"
      ]
     },
     "metadata": {},
     "output_type": "display_data"
    },
    {
     "data": {
      "text/html": [
       "<pre>recommendations finished on 9000/18484 queries. users per second: 298408</pre>"
      ],
      "text/plain": [
       "recommendations finished on 9000/18484 queries. users per second: 298408"
      ]
     },
     "metadata": {},
     "output_type": "display_data"
    },
    {
     "data": {
      "text/html": [
       "<pre>recommendations finished on 10000/18484 queries. users per second: 298089</pre>"
      ],
      "text/plain": [
       "recommendations finished on 10000/18484 queries. users per second: 298089"
      ]
     },
     "metadata": {},
     "output_type": "display_data"
    },
    {
     "data": {
      "text/html": [
       "<pre>recommendations finished on 11000/18484 queries. users per second: 306057</pre>"
      ],
      "text/plain": [
       "recommendations finished on 11000/18484 queries. users per second: 306057"
      ]
     },
     "metadata": {},
     "output_type": "display_data"
    },
    {
     "data": {
      "text/html": [
       "<pre>recommendations finished on 12000/18484 queries. users per second: 314531</pre>"
      ],
      "text/plain": [
       "recommendations finished on 12000/18484 queries. users per second: 314531"
      ]
     },
     "metadata": {},
     "output_type": "display_data"
    },
    {
     "data": {
      "text/html": [
       "<pre>recommendations finished on 13000/18484 queries. users per second: 324773</pre>"
      ],
      "text/plain": [
       "recommendations finished on 13000/18484 queries. users per second: 324773"
      ]
     },
     "metadata": {},
     "output_type": "display_data"
    },
    {
     "data": {
      "text/html": [
       "<pre>recommendations finished on 14000/18484 queries. users per second: 323917</pre>"
      ],
      "text/plain": [
       "recommendations finished on 14000/18484 queries. users per second: 323917"
      ]
     },
     "metadata": {},
     "output_type": "display_data"
    },
    {
     "data": {
      "text/html": [
       "<pre>recommendations finished on 15000/18484 queries. users per second: 324408</pre>"
      ],
      "text/plain": [
       "recommendations finished on 15000/18484 queries. users per second: 324408"
      ]
     },
     "metadata": {},
     "output_type": "display_data"
    },
    {
     "data": {
      "text/html": [
       "<pre>recommendations finished on 16000/18484 queries. users per second: 322210</pre>"
      ],
      "text/plain": [
       "recommendations finished on 16000/18484 queries. users per second: 322210"
      ]
     },
     "metadata": {},
     "output_type": "display_data"
    },
    {
     "data": {
      "text/html": [
       "<pre>recommendations finished on 17000/18484 queries. users per second: 321635</pre>"
      ],
      "text/plain": [
       "recommendations finished on 17000/18484 queries. users per second: 321635"
      ]
     },
     "metadata": {},
     "output_type": "display_data"
    },
    {
     "data": {
      "text/html": [
       "<pre>recommendations finished on 18000/18484 queries. users per second: 317416</pre>"
      ],
      "text/plain": [
       "recommendations finished on 18000/18484 queries. users per second: 317416"
      ]
     },
     "metadata": {},
     "output_type": "display_data"
    },
    {
     "name": "stdout",
     "output_type": "stream",
     "text": [
      "+------------+------------------------+--------------------+------+\n",
      "| CustomerID |      ProductName       |       score        | rank |\n",
      "+------------+------------------------+--------------------+------+\n",
      "|   11000    |  Patch Kit/8 Patches   | 1.084774356811472  |  1   |\n",
      "|   11000    |     Road Tire Tube     | 1.0689265536723165 |  2   |\n",
      "|   11000    |      HL Road Tire      | 1.0578386605783867 |  3   |\n",
      "|   11000    | Water Bottle - 30 oz.  | 1.0411084043848964 |  4   |\n",
      "|   11000    | Bike Wash - Dissolver  | 1.0410764872521245 |  5   |\n",
      "|   11000    |    LL Mountain Tire    | 1.0408472012102874 |  6   |\n",
      "|   11000    |   Mountain Tire Tube   | 1.0406330196749358 |  7   |\n",
      "|   11000    |      ML Road Tire      | 1.0383522727272727 |  8   |\n",
      "|   11000    | Mountain-200 Black, 46 | 1.0359408033826638 |  9   |\n",
      "|   11000    | Sport-100 Helmet, Blue | 1.0347137637028014 |  10  |\n",
      "|   11001    |  Patch Kit/8 Patches   | 1.084774356811472  |  1   |\n",
      "|   11001    |     Road Tire Tube     | 1.0689265536723165 |  2   |\n",
      "|   11001    |      HL Road Tire      | 1.0578386605783867 |  3   |\n",
      "|   11001    |   Touring Tire Tube    | 1.0436681222707425 |  4   |\n",
      "|   11001    | Bike Wash - Dissolver  | 1.0410764872521245 |  5   |\n",
      "|   11001    |    LL Mountain Tire    | 1.0408472012102874 |  6   |\n",
      "|   11001    |   Mountain Tire Tube   | 1.0406330196749358 |  7   |\n",
      "|   11001    | Sport-100 Helmet, Red  | 1.0391583869082408 |  8   |\n",
      "|   11001    |      ML Road Tire      | 1.0383522727272727 |  9   |\n",
      "|   11001    | Mountain-200 Black, 46 | 1.0359408033826638 |  10  |\n",
      "|   11002    |  Patch Kit/8 Patches   | 1.084774356811472  |  1   |\n",
      "|   11002    |     Road Tire Tube     | 1.0689265536723165 |  2   |\n",
      "|   11002    |      HL Road Tire      | 1.0578386605783867 |  3   |\n",
      "|   11002    |   Touring Tire Tube    | 1.0436681222707425 |  4   |\n",
      "|   11002    | Water Bottle - 30 oz.  | 1.0411084043848964 |  5   |\n",
      "|   11002    | Bike Wash - Dissolver  | 1.0410764872521245 |  6   |\n",
      "|   11002    |    LL Mountain Tire    | 1.0408472012102874 |  7   |\n",
      "|   11002    |   Mountain Tire Tube   | 1.0406330196749358 |  8   |\n",
      "|   11002    | Sport-100 Helmet, Red  | 1.0391583869082408 |  9   |\n",
      "|   11002    |      ML Road Tire      | 1.0383522727272727 |  10  |\n",
      "+------------+------------------------+--------------------+------+\n",
      "[184840 rows x 4 columns]\n",
      "\n"
     ]
    }
   ],
   "source": [
    "name = 'popularity'\n",
    "target = 'PurchaseCount'\n",
    "popularity = model(train_data, name, user_id, item_id, target, users_to_recommend, n_rec, n_display)"
   ]
  },
  {
   "cell_type": "markdown",
   "metadata": {},
   "source": [
    "#### ii. Using purchase dummy"
   ]
  },
  {
   "cell_type": "code",
   "execution_count": 17,
   "metadata": {},
   "outputs": [
    {
     "data": {
      "text/html": [
       "<pre>Recsys training: model = popularity</pre>"
      ],
      "text/plain": [
       "Recsys training: model = popularity"
      ]
     },
     "metadata": {},
     "output_type": "display_data"
    },
    {
     "data": {
      "text/html": [
       "<pre>Warning: Ignoring columns PurchaseCount;</pre>"
      ],
      "text/plain": [
       "Warning: Ignoring columns PurchaseCount;"
      ]
     },
     "metadata": {},
     "output_type": "display_data"
    },
    {
     "data": {
      "text/html": [
       "<pre>    To use these columns in scoring predictions, use a model that allows the use of additional features.</pre>"
      ],
      "text/plain": [
       "    To use these columns in scoring predictions, use a model that allows the use of additional features."
      ]
     },
     "metadata": {},
     "output_type": "display_data"
    },
    {
     "data": {
      "text/html": [
       "<pre>Preparing data set.</pre>"
      ],
      "text/plain": [
       "Preparing data set."
      ]
     },
     "metadata": {},
     "output_type": "display_data"
    },
    {
     "data": {
      "text/html": [
       "<pre>    Data has 47137 observations with 17782 users and 130 items.</pre>"
      ],
      "text/plain": [
       "    Data has 47137 observations with 17782 users and 130 items."
      ]
     },
     "metadata": {},
     "output_type": "display_data"
    },
    {
     "data": {
      "text/html": [
       "<pre>    Data prepared in: 0.068849s</pre>"
      ],
      "text/plain": [
       "    Data prepared in: 0.068849s"
      ]
     },
     "metadata": {},
     "output_type": "display_data"
    },
    {
     "data": {
      "text/html": [
       "<pre>47137 observations to process; with 130 unique items.</pre>"
      ],
      "text/plain": [
       "47137 observations to process; with 130 unique items."
      ]
     },
     "metadata": {},
     "output_type": "display_data"
    },
    {
     "data": {
      "text/html": [
       "<pre>recommendations finished on 1000/18484 queries. users per second: 134174</pre>"
      ],
      "text/plain": [
       "recommendations finished on 1000/18484 queries. users per second: 134174"
      ]
     },
     "metadata": {},
     "output_type": "display_data"
    },
    {
     "data": {
      "text/html": [
       "<pre>recommendations finished on 2000/18484 queries. users per second: 204207</pre>"
      ],
      "text/plain": [
       "recommendations finished on 2000/18484 queries. users per second: 204207"
      ]
     },
     "metadata": {},
     "output_type": "display_data"
    },
    {
     "data": {
      "text/html": [
       "<pre>recommendations finished on 3000/18484 queries. users per second: 239196</pre>"
      ],
      "text/plain": [
       "recommendations finished on 3000/18484 queries. users per second: 239196"
      ]
     },
     "metadata": {},
     "output_type": "display_data"
    },
    {
     "data": {
      "text/html": [
       "<pre>recommendations finished on 4000/18484 queries. users per second: 257898</pre>"
      ],
      "text/plain": [
       "recommendations finished on 4000/18484 queries. users per second: 257898"
      ]
     },
     "metadata": {},
     "output_type": "display_data"
    },
    {
     "data": {
      "text/html": [
       "<pre>recommendations finished on 5000/18484 queries. users per second: 261465</pre>"
      ],
      "text/plain": [
       "recommendations finished on 5000/18484 queries. users per second: 261465"
      ]
     },
     "metadata": {},
     "output_type": "display_data"
    },
    {
     "data": {
      "text/html": [
       "<pre>recommendations finished on 6000/18484 queries. users per second: 239597</pre>"
      ],
      "text/plain": [
       "recommendations finished on 6000/18484 queries. users per second: 239597"
      ]
     },
     "metadata": {},
     "output_type": "display_data"
    },
    {
     "data": {
      "text/html": [
       "<pre>recommendations finished on 7000/18484 queries. users per second: 251337</pre>"
      ],
      "text/plain": [
       "recommendations finished on 7000/18484 queries. users per second: 251337"
      ]
     },
     "metadata": {},
     "output_type": "display_data"
    },
    {
     "data": {
      "text/html": [
       "<pre>recommendations finished on 8000/18484 queries. users per second: 257541</pre>"
      ],
      "text/plain": [
       "recommendations finished on 8000/18484 queries. users per second: 257541"
      ]
     },
     "metadata": {},
     "output_type": "display_data"
    },
    {
     "data": {
      "text/html": [
       "<pre>recommendations finished on 9000/18484 queries. users per second: 261241</pre>"
      ],
      "text/plain": [
       "recommendations finished on 9000/18484 queries. users per second: 261241"
      ]
     },
     "metadata": {},
     "output_type": "display_data"
    },
    {
     "data": {
      "text/html": [
       "<pre>recommendations finished on 10000/18484 queries. users per second: 258091</pre>"
      ],
      "text/plain": [
       "recommendations finished on 10000/18484 queries. users per second: 258091"
      ]
     },
     "metadata": {},
     "output_type": "display_data"
    },
    {
     "data": {
      "text/html": [
       "<pre>recommendations finished on 11000/18484 queries. users per second: 257358</pre>"
      ],
      "text/plain": [
       "recommendations finished on 11000/18484 queries. users per second: 257358"
      ]
     },
     "metadata": {},
     "output_type": "display_data"
    },
    {
     "data": {
      "text/html": [
       "<pre>recommendations finished on 12000/18484 queries. users per second: 261506</pre>"
      ],
      "text/plain": [
       "recommendations finished on 12000/18484 queries. users per second: 261506"
      ]
     },
     "metadata": {},
     "output_type": "display_data"
    },
    {
     "data": {
      "text/html": [
       "<pre>recommendations finished on 13000/18484 queries. users per second: 266957</pre>"
      ],
      "text/plain": [
       "recommendations finished on 13000/18484 queries. users per second: 266957"
      ]
     },
     "metadata": {},
     "output_type": "display_data"
    },
    {
     "data": {
      "text/html": [
       "<pre>recommendations finished on 14000/18484 queries. users per second: 267293</pre>"
      ],
      "text/plain": [
       "recommendations finished on 14000/18484 queries. users per second: 267293"
      ]
     },
     "metadata": {},
     "output_type": "display_data"
    },
    {
     "data": {
      "text/html": [
       "<pre>recommendations finished on 15000/18484 queries. users per second: 267695</pre>"
      ],
      "text/plain": [
       "recommendations finished on 15000/18484 queries. users per second: 267695"
      ]
     },
     "metadata": {},
     "output_type": "display_data"
    },
    {
     "data": {
      "text/html": [
       "<pre>recommendations finished on 16000/18484 queries. users per second: 264668</pre>"
      ],
      "text/plain": [
       "recommendations finished on 16000/18484 queries. users per second: 264668"
      ]
     },
     "metadata": {},
     "output_type": "display_data"
    },
    {
     "data": {
      "text/html": [
       "<pre>recommendations finished on 17000/18484 queries. users per second: 264287</pre>"
      ],
      "text/plain": [
       "recommendations finished on 17000/18484 queries. users per second: 264287"
      ]
     },
     "metadata": {},
     "output_type": "display_data"
    },
    {
     "data": {
      "text/html": [
       "<pre>recommendations finished on 18000/18484 queries. users per second: 261176</pre>"
      ],
      "text/plain": [
       "recommendations finished on 18000/18484 queries. users per second: 261176"
      ]
     },
     "metadata": {},
     "output_type": "display_data"
    },
    {
     "name": "stdout",
     "output_type": "stream",
     "text": [
      "+------------+--------------------------------+-------+------+\n",
      "| CustomerID |          ProductName           | score | rank |\n",
      "+------------+--------------------------------+-------+------+\n",
      "|   11000    |     Road-550-W Yellow, 44      |  1.0  |  1   |\n",
      "|   11000    |     Water Bottle - 30 oz.      |  1.0  |  2   |\n",
      "|   11000    |    Mountain-200 Silver, 42     |  1.0  |  3   |\n",
      "|   11000    | Short-Sleeve Classic Jersey, L |  1.0  |  4   |\n",
      "|   11000    |       Road-750 Black, 48       |  1.0  |  5   |\n",
      "|   11000    |     Sport-100 Helmet, Blue     |  1.0  |  6   |\n",
      "|   11000    |   Women's Mountain Shorts, M   |  1.0  |  7   |\n",
      "|   11000    |         Road Tire Tube         |  1.0  |  8   |\n",
      "|   11000    |          LL Road Tire          |  1.0  |  9   |\n",
      "|   11000    |     Mountain-500 Black, 42     |  1.0  |  10  |\n",
      "|   11001    |        HL Mountain Tire        |  1.0  |  1   |\n",
      "|   11001    |     Road-550-W Yellow, 44      |  1.0  |  2   |\n",
      "|   11001    |    Mountain-200 Silver, 42     |  1.0  |  3   |\n",
      "|   11001    | Short-Sleeve Classic Jersey, L |  1.0  |  4   |\n",
      "|   11001    |       Road-750 Black, 48       |  1.0  |  5   |\n",
      "|   11001    |     Sport-100 Helmet, Blue     |  1.0  |  6   |\n",
      "|   11001    |   Women's Mountain Shorts, M   |  1.0  |  7   |\n",
      "|   11001    |         Road Tire Tube         |  1.0  |  8   |\n",
      "|   11001    |          LL Road Tire          |  1.0  |  9   |\n",
      "|   11001    |     Mountain-500 Black, 42     |  1.0  |  10  |\n",
      "|   11002    |        HL Mountain Tire        |  1.0  |  1   |\n",
      "|   11002    |     Road-550-W Yellow, 44      |  1.0  |  2   |\n",
      "|   11002    |     Water Bottle - 30 oz.      |  1.0  |  3   |\n",
      "|   11002    |    Mountain-200 Silver, 42     |  1.0  |  4   |\n",
      "|   11002    | Short-Sleeve Classic Jersey, L |  1.0  |  5   |\n",
      "|   11002    |       Road-750 Black, 48       |  1.0  |  6   |\n",
      "|   11002    |   Women's Mountain Shorts, M   |  1.0  |  7   |\n",
      "|   11002    |         Road Tire Tube         |  1.0  |  8   |\n",
      "|   11002    |          LL Road Tire          |  1.0  |  9   |\n",
      "|   11002    |     Mountain-500 Black, 42     |  1.0  |  10  |\n",
      "+------------+--------------------------------+-------+------+\n",
      "[184840 rows x 4 columns]\n",
      "\n"
     ]
    }
   ],
   "source": [
    "\n",
    "name = 'popularity'\n",
    "target = 'purchase_dummy'\n",
    "pop_dummy = model(train_data_dummy, name, user_id, item_id, target, users_to_recommend, n_rec, n_display)"
   ]
  },
  {
   "cell_type": "markdown",
   "metadata": {},
   "source": [
    "#### iii. Using scaled purchase count"
   ]
  },
  {
   "cell_type": "code",
   "execution_count": 18,
   "metadata": {},
   "outputs": [
    {
     "data": {
      "text/html": [
       "<pre>Recsys training: model = popularity</pre>"
      ],
      "text/plain": [
       "Recsys training: model = popularity"
      ]
     },
     "metadata": {},
     "output_type": "display_data"
    },
    {
     "data": {
      "text/html": [
       "<pre>Preparing data set.</pre>"
      ],
      "text/plain": [
       "Preparing data set."
      ]
     },
     "metadata": {},
     "output_type": "display_data"
    },
    {
     "data": {
      "text/html": [
       "<pre>    Data has 37046 observations with 16239 users and 52 items.</pre>"
      ],
      "text/plain": [
       "    Data has 37046 observations with 16239 users and 52 items."
      ]
     },
     "metadata": {},
     "output_type": "display_data"
    },
    {
     "data": {
      "text/html": [
       "<pre>    Data prepared in: 0.060439s</pre>"
      ],
      "text/plain": [
       "    Data prepared in: 0.060439s"
      ]
     },
     "metadata": {},
     "output_type": "display_data"
    },
    {
     "data": {
      "text/html": [
       "<pre>37046 observations to process; with 52 unique items.</pre>"
      ],
      "text/plain": [
       "37046 observations to process; with 52 unique items."
      ]
     },
     "metadata": {},
     "output_type": "display_data"
    },
    {
     "data": {
      "text/html": [
       "<pre>recommendations finished on 1000/18484 queries. users per second: 153563</pre>"
      ],
      "text/plain": [
       "recommendations finished on 1000/18484 queries. users per second: 153563"
      ]
     },
     "metadata": {},
     "output_type": "display_data"
    },
    {
     "data": {
      "text/html": [
       "<pre>recommendations finished on 2000/18484 queries. users per second: 245670</pre>"
      ],
      "text/plain": [
       "recommendations finished on 2000/18484 queries. users per second: 245670"
      ]
     },
     "metadata": {},
     "output_type": "display_data"
    },
    {
     "data": {
      "text/html": [
       "<pre>recommendations finished on 3000/18484 queries. users per second: 258821</pre>"
      ],
      "text/plain": [
       "recommendations finished on 3000/18484 queries. users per second: 258821"
      ]
     },
     "metadata": {},
     "output_type": "display_data"
    },
    {
     "data": {
      "text/html": [
       "<pre>recommendations finished on 4000/18484 queries. users per second: 291758</pre>"
      ],
      "text/plain": [
       "recommendations finished on 4000/18484 queries. users per second: 291758"
      ]
     },
     "metadata": {},
     "output_type": "display_data"
    },
    {
     "data": {
      "text/html": [
       "<pre>recommendations finished on 5000/18484 queries. users per second: 287489</pre>"
      ],
      "text/plain": [
       "recommendations finished on 5000/18484 queries. users per second: 287489"
      ]
     },
     "metadata": {},
     "output_type": "display_data"
    },
    {
     "data": {
      "text/html": [
       "<pre>recommendations finished on 6000/18484 queries. users per second: 308928</pre>"
      ],
      "text/plain": [
       "recommendations finished on 6000/18484 queries. users per second: 308928"
      ]
     },
     "metadata": {},
     "output_type": "display_data"
    },
    {
     "data": {
      "text/html": [
       "<pre>recommendations finished on 7000/18484 queries. users per second: 299069</pre>"
      ],
      "text/plain": [
       "recommendations finished on 7000/18484 queries. users per second: 299069"
      ]
     },
     "metadata": {},
     "output_type": "display_data"
    },
    {
     "data": {
      "text/html": [
       "<pre>recommendations finished on 8000/18484 queries. users per second: 320873</pre>"
      ],
      "text/plain": [
       "recommendations finished on 8000/18484 queries. users per second: 320873"
      ]
     },
     "metadata": {},
     "output_type": "display_data"
    },
    {
     "data": {
      "text/html": [
       "<pre>recommendations finished on 9000/18484 queries. users per second: 345715</pre>"
      ],
      "text/plain": [
       "recommendations finished on 9000/18484 queries. users per second: 345715"
      ]
     },
     "metadata": {},
     "output_type": "display_data"
    },
    {
     "data": {
      "text/html": [
       "<pre>recommendations finished on 10000/18484 queries. users per second: 368963</pre>"
      ],
      "text/plain": [
       "recommendations finished on 10000/18484 queries. users per second: 368963"
      ]
     },
     "metadata": {},
     "output_type": "display_data"
    },
    {
     "data": {
      "text/html": [
       "<pre>recommendations finished on 11000/18484 queries. users per second: 373312</pre>"
      ],
      "text/plain": [
       "recommendations finished on 11000/18484 queries. users per second: 373312"
      ]
     },
     "metadata": {},
     "output_type": "display_data"
    },
    {
     "data": {
      "text/html": [
       "<pre>recommendations finished on 12000/18484 queries. users per second: 374135</pre>"
      ],
      "text/plain": [
       "recommendations finished on 12000/18484 queries. users per second: 374135"
      ]
     },
     "metadata": {},
     "output_type": "display_data"
    },
    {
     "data": {
      "text/html": [
       "<pre>recommendations finished on 13000/18484 queries. users per second: 363504</pre>"
      ],
      "text/plain": [
       "recommendations finished on 13000/18484 queries. users per second: 363504"
      ]
     },
     "metadata": {},
     "output_type": "display_data"
    },
    {
     "data": {
      "text/html": [
       "<pre>recommendations finished on 14000/18484 queries. users per second: 335506</pre>"
      ],
      "text/plain": [
       "recommendations finished on 14000/18484 queries. users per second: 335506"
      ]
     },
     "metadata": {},
     "output_type": "display_data"
    },
    {
     "data": {
      "text/html": [
       "<pre>recommendations finished on 15000/18484 queries. users per second: 331991</pre>"
      ],
      "text/plain": [
       "recommendations finished on 15000/18484 queries. users per second: 331991"
      ]
     },
     "metadata": {},
     "output_type": "display_data"
    },
    {
     "data": {
      "text/html": [
       "<pre>recommendations finished on 16000/18484 queries. users per second: 336346</pre>"
      ],
      "text/plain": [
       "recommendations finished on 16000/18484 queries. users per second: 336346"
      ]
     },
     "metadata": {},
     "output_type": "display_data"
    },
    {
     "data": {
      "text/html": [
       "<pre>recommendations finished on 17000/18484 queries. users per second: 338726</pre>"
      ],
      "text/plain": [
       "recommendations finished on 17000/18484 queries. users per second: 338726"
      ]
     },
     "metadata": {},
     "output_type": "display_data"
    },
    {
     "data": {
      "text/html": [
       "<pre>recommendations finished on 18000/18484 queries. users per second: 314950</pre>"
      ],
      "text/plain": [
       "recommendations finished on 18000/18484 queries. users per second: 314950"
      ]
     },
     "metadata": {},
     "output_type": "display_data"
    },
    {
     "name": "stdout",
     "output_type": "stream",
     "text": [
      "+------------+-------------------------+----------------------+------+\n",
      "| CustomerID |       ProductName       |        score         | rank |\n",
      "+------------+-------------------------+----------------------+------+\n",
      "|   11000    |  Mountain-200 Black, 46 | 0.033126293995859216 |  1   |\n",
      "|   11000    |  Mountain-200 Black, 38 | 0.029545454545454545 |  2   |\n",
      "|   11000    |    Road-250 Black, 52   | 0.02880658436213992  |  3   |\n",
      "|   11000    |    Road-250 Black, 48   | 0.02390438247011952  |  4   |\n",
      "|   11000    |  Half-Finger Gloves, S  | 0.020833333333333332 |  5   |\n",
      "|   11000    | Mountain-200 Silver, 42 | 0.020833333333333332 |  6   |\n",
      "|   11000    |  All-Purpose Bike Stand | 0.02040816326530612  |  7   |\n",
      "|   11000    |     Road-250 Red, 58    | 0.02040816326530612  |  8   |\n",
      "|   11000    |    Road-250 Black, 58   | 0.019417475728155338 |  9   |\n",
      "|   11000    |    Road-250 Black, 44   | 0.018779342723004695 |  10  |\n",
      "|   11001    |  Mountain-200 Black, 46 | 0.033126293995859216 |  1   |\n",
      "|   11001    |  Mountain-200 Black, 38 | 0.029545454545454545 |  2   |\n",
      "|   11001    |    Road-250 Black, 52   | 0.02880658436213992  |  3   |\n",
      "|   11001    |    Road-250 Black, 48   | 0.02390438247011952  |  4   |\n",
      "|   11001    |  Half-Finger Gloves, S  | 0.020833333333333332 |  5   |\n",
      "|   11001    | Mountain-200 Silver, 42 | 0.020833333333333332 |  6   |\n",
      "|   11001    |  All-Purpose Bike Stand | 0.02040816326530612  |  7   |\n",
      "|   11001    |     Road-250 Red, 58    | 0.02040816326530612  |  8   |\n",
      "|   11001    |    Road-250 Black, 58   | 0.019417475728155338 |  9   |\n",
      "|   11001    |    Road-250 Black, 44   | 0.018779342723004695 |  10  |\n",
      "|   11002    |  Mountain-200 Black, 46 | 0.033126293995859216 |  1   |\n",
      "|   11002    |    Road-250 Black, 52   | 0.02880658436213992  |  2   |\n",
      "|   11002    |    Road-250 Black, 48   | 0.02390438247011952  |  3   |\n",
      "|   11002    | Mountain-200 Silver, 38 | 0.021231422505307854 |  4   |\n",
      "|   11002    |  Half-Finger Gloves, S  | 0.020833333333333332 |  5   |\n",
      "|   11002    | Mountain-200 Silver, 42 | 0.020833333333333332 |  6   |\n",
      "|   11002    |  All-Purpose Bike Stand | 0.02040816326530612  |  7   |\n",
      "|   11002    |     Road-250 Red, 58    | 0.02040816326530612  |  8   |\n",
      "|   11002    |    Road-250 Black, 58   | 0.019417475728155338 |  9   |\n",
      "|   11002    |    Road-250 Black, 44   | 0.018779342723004695 |  10  |\n",
      "+------------+-------------------------+----------------------+------+\n",
      "[184840 rows x 4 columns]\n",
      "\n"
     ]
    }
   ],
   "source": [
    "name = 'popularity'\n",
    "target = 'scaled_purchase_freq'\n",
    "pop_norm = model(train_data_norm, name, user_id, item_id, target, users_to_recommend, n_rec, n_display)"
   ]
  },
  {
   "cell_type": "markdown",
   "metadata": {},
   "source": [
    "#### 6.1. Baseline Summary\n",
    "\n",
    "Once we created the model, we predicted the recommendation items using scores by popularity. As you can tell for each model results above, the rows show the first 30 records with 10 recommendations. These 30 records include 3 users and their recommended items, along with score and descending ranks.\n",
    "\n",
    "In the result, although different models have different recommendation list, each user is recommended the same list of 10 items. This is because popularity is calculated by taking the most popular items across all users."
   ]
  },
  {
   "cell_type": "markdown",
   "metadata": {},
   "source": [
    "#### 7. Collaborative Filtering Model\n",
    "In collaborative filtering, we would recommend items based on how similar users purchase items. For instance, if customer 1 and customer 2 bought similar items, e.g. 1 bought X, Y, Z and 2 bought X, Y, we would recommend an item Z to customer 2.\n",
    "\n",
    "7.1. Methodology\n",
    "To define similarity across users, we use the following steps:\n",
    "\n",
    "1. Create a user-item matrix, where index values represent unique customer IDs and column values represent unique product IDs\n",
    "\n",
    "2. Create an item-to-item similarity matrix. The idea is to calculate how similar a product is to another product. There are a number of ways of calculating this. In steps 7.2 and 7.3, we use cosine or pearson similarity measure, respectively.\n",
    "\n",
    "To calculate similarity between products X and Y, look at all customers who have purchased both these items. For example, both X and Y have been purchased by customers 1 and 2.\n",
    "\n",
    "We then create two item-vectors, v1 for item X and v2 for item Y, in the user-space of (1, 2) and then find the cosine or pearson angle/distance between these vectors. A zero angle or overlapping vectors with cosine value of 1 means total similarity (or per user, across all items, there is same rating) and an angle of 90 degree would mean cosine of 0 or no similarity.\n",
    "\n",
    "3. For each customer, we then predict his likelihood to buy a product (or his purchase counts) for products that he had not bought.\n",
    "\n",
    "For our example, we will calculate rating for user 2 in the case of item Z (target item). To calculate this we weigh the just-calculated similarity-measure between the target item and other items that customer has already bought. The weighing factor is the purchase counts given by the user to items already bought by him.\n",
    "\n",
    "We then scale this weighted sum with the sum of similarity-measures so that the calculated rating remains within a predefined limits. Thus, the predicted rating for item Z for user 2 would be calculated using similarity measures.\n"
   ]
  },
  {
   "cell_type": "markdown",
   "metadata": {},
   "source": [
    "#### 7.2. Cosine similarity\n",
    "Similarity is the cosine of the angle between the 2 vectors of the item vectors of A and B"
   ]
  },
  {
   "cell_type": "markdown",
   "metadata": {},
   "source": [
    "#### i. Using purchase count"
   ]
  },
  {
   "cell_type": "code",
   "execution_count": 19,
   "metadata": {
    "scrolled": false
   },
   "outputs": [
    {
     "data": {
      "text/html": [
       "<pre>Recsys training: model = item_similarity</pre>"
      ],
      "text/plain": [
       "Recsys training: model = item_similarity"
      ]
     },
     "metadata": {},
     "output_type": "display_data"
    },
    {
     "data": {
      "text/html": [
       "<pre>Preparing data set.</pre>"
      ],
      "text/plain": [
       "Preparing data set."
      ]
     },
     "metadata": {},
     "output_type": "display_data"
    },
    {
     "data": {
      "text/html": [
       "<pre>    Data has 47137 observations with 17732 users and 130 items.</pre>"
      ],
      "text/plain": [
       "    Data has 47137 observations with 17732 users and 130 items."
      ]
     },
     "metadata": {},
     "output_type": "display_data"
    },
    {
     "data": {
      "text/html": [
       "<pre>    Data prepared in: 0.053869s</pre>"
      ],
      "text/plain": [
       "    Data prepared in: 0.053869s"
      ]
     },
     "metadata": {},
     "output_type": "display_data"
    },
    {
     "data": {
      "text/html": [
       "<pre>Training model from provided data.</pre>"
      ],
      "text/plain": [
       "Training model from provided data."
      ]
     },
     "metadata": {},
     "output_type": "display_data"
    },
    {
     "data": {
      "text/html": [
       "<pre>Gathering per-item and per-user statistics.</pre>"
      ],
      "text/plain": [
       "Gathering per-item and per-user statistics."
      ]
     },
     "metadata": {},
     "output_type": "display_data"
    },
    {
     "data": {
      "text/html": [
       "<pre>+--------------------------------+------------+</pre>"
      ],
      "text/plain": [
       "+--------------------------------+------------+"
      ]
     },
     "metadata": {},
     "output_type": "display_data"
    },
    {
     "data": {
      "text/html": [
       "<pre>| Elapsed Time (Item Statistics) | % Complete |</pre>"
      ],
      "text/plain": [
       "| Elapsed Time (Item Statistics) | % Complete |"
      ]
     },
     "metadata": {},
     "output_type": "display_data"
    },
    {
     "data": {
      "text/html": [
       "<pre>+--------------------------------+------------+</pre>"
      ],
      "text/plain": [
       "+--------------------------------+------------+"
      ]
     },
     "metadata": {},
     "output_type": "display_data"
    },
    {
     "data": {
      "text/html": [
       "<pre>| 1.026ms                        | 39.25      |</pre>"
      ],
      "text/plain": [
       "| 1.026ms                        | 39.25      |"
      ]
     },
     "metadata": {},
     "output_type": "display_data"
    },
    {
     "data": {
      "text/html": [
       "<pre>| 4.482ms                        | 100        |</pre>"
      ],
      "text/plain": [
       "| 4.482ms                        | 100        |"
      ]
     },
     "metadata": {},
     "output_type": "display_data"
    },
    {
     "data": {
      "text/html": [
       "<pre>+--------------------------------+------------+</pre>"
      ],
      "text/plain": [
       "+--------------------------------+------------+"
      ]
     },
     "metadata": {},
     "output_type": "display_data"
    },
    {
     "data": {
      "text/html": [
       "<pre>Setting up lookup tables.</pre>"
      ],
      "text/plain": [
       "Setting up lookup tables."
      ]
     },
     "metadata": {},
     "output_type": "display_data"
    },
    {
     "data": {
      "text/html": [
       "<pre>Processing data in one pass using dense lookup tables.</pre>"
      ],
      "text/plain": [
       "Processing data in one pass using dense lookup tables."
      ]
     },
     "metadata": {},
     "output_type": "display_data"
    },
    {
     "data": {
      "text/html": [
       "<pre>+-------------------------------------+------------------+-----------------+</pre>"
      ],
      "text/plain": [
       "+-------------------------------------+------------------+-----------------+"
      ]
     },
     "metadata": {},
     "output_type": "display_data"
    },
    {
     "data": {
      "text/html": [
       "<pre>| Elapsed Time (Constructing Lookups) | Total % Complete | Items Processed |</pre>"
      ],
      "text/plain": [
       "| Elapsed Time (Constructing Lookups) | Total % Complete | Items Processed |"
      ]
     },
     "metadata": {},
     "output_type": "display_data"
    },
    {
     "data": {
      "text/html": [
       "<pre>+-------------------------------------+------------------+-----------------+</pre>"
      ],
      "text/plain": [
       "+-------------------------------------+------------------+-----------------+"
      ]
     },
     "metadata": {},
     "output_type": "display_data"
    },
    {
     "data": {
      "text/html": [
       "<pre>| 5.206ms                             | 0                | 0               |</pre>"
      ],
      "text/plain": [
       "| 5.206ms                             | 0                | 0               |"
      ]
     },
     "metadata": {},
     "output_type": "display_data"
    },
    {
     "data": {
      "text/html": [
       "<pre>| 9.934ms                             | 100              | 130             |</pre>"
      ],
      "text/plain": [
       "| 9.934ms                             | 100              | 130             |"
      ]
     },
     "metadata": {},
     "output_type": "display_data"
    },
    {
     "data": {
      "text/html": [
       "<pre>+-------------------------------------+------------------+-----------------+</pre>"
      ],
      "text/plain": [
       "+-------------------------------------+------------------+-----------------+"
      ]
     },
     "metadata": {},
     "output_type": "display_data"
    },
    {
     "data": {
      "text/html": [
       "<pre>Finalizing lookup tables.</pre>"
      ],
      "text/plain": [
       "Finalizing lookup tables."
      ]
     },
     "metadata": {},
     "output_type": "display_data"
    },
    {
     "data": {
      "text/html": [
       "<pre>Generating candidate set for working with new users.</pre>"
      ],
      "text/plain": [
       "Generating candidate set for working with new users."
      ]
     },
     "metadata": {},
     "output_type": "display_data"
    },
    {
     "data": {
      "text/html": [
       "<pre>Finished training in 1.01707s</pre>"
      ],
      "text/plain": [
       "Finished training in 1.01707s"
      ]
     },
     "metadata": {},
     "output_type": "display_data"
    },
    {
     "data": {
      "text/html": [
       "<pre>recommendations finished on 1000/18484 queries. users per second: 33755.3</pre>"
      ],
      "text/plain": [
       "recommendations finished on 1000/18484 queries. users per second: 33755.3"
      ]
     },
     "metadata": {},
     "output_type": "display_data"
    },
    {
     "data": {
      "text/html": [
       "<pre>recommendations finished on 2000/18484 queries. users per second: 59183.9</pre>"
      ],
      "text/plain": [
       "recommendations finished on 2000/18484 queries. users per second: 59183.9"
      ]
     },
     "metadata": {},
     "output_type": "display_data"
    },
    {
     "data": {
      "text/html": [
       "<pre>recommendations finished on 3000/18484 queries. users per second: 65671.4</pre>"
      ],
      "text/plain": [
       "recommendations finished on 3000/18484 queries. users per second: 65671.4"
      ]
     },
     "metadata": {},
     "output_type": "display_data"
    },
    {
     "data": {
      "text/html": [
       "<pre>recommendations finished on 4000/18484 queries. users per second: 80778.7</pre>"
      ],
      "text/plain": [
       "recommendations finished on 4000/18484 queries. users per second: 80778.7"
      ]
     },
     "metadata": {},
     "output_type": "display_data"
    },
    {
     "data": {
      "text/html": [
       "<pre>recommendations finished on 5000/18484 queries. users per second: 89991.2</pre>"
      ],
      "text/plain": [
       "recommendations finished on 5000/18484 queries. users per second: 89991.2"
      ]
     },
     "metadata": {},
     "output_type": "display_data"
    },
    {
     "data": {
      "text/html": [
       "<pre>recommendations finished on 6000/18484 queries. users per second: 97820.2</pre>"
      ],
      "text/plain": [
       "recommendations finished on 6000/18484 queries. users per second: 97820.2"
      ]
     },
     "metadata": {},
     "output_type": "display_data"
    },
    {
     "data": {
      "text/html": [
       "<pre>recommendations finished on 7000/18484 queries. users per second: 107290</pre>"
      ],
      "text/plain": [
       "recommendations finished on 7000/18484 queries. users per second: 107290"
      ]
     },
     "metadata": {},
     "output_type": "display_data"
    },
    {
     "data": {
      "text/html": [
       "<pre>recommendations finished on 8000/18484 queries. users per second: 117569</pre>"
      ],
      "text/plain": [
       "recommendations finished on 8000/18484 queries. users per second: 117569"
      ]
     },
     "metadata": {},
     "output_type": "display_data"
    },
    {
     "data": {
      "text/html": [
       "<pre>recommendations finished on 9000/18484 queries. users per second: 128425</pre>"
      ],
      "text/plain": [
       "recommendations finished on 9000/18484 queries. users per second: 128425"
      ]
     },
     "metadata": {},
     "output_type": "display_data"
    },
    {
     "data": {
      "text/html": [
       "<pre>recommendations finished on 10000/18484 queries. users per second: 133767</pre>"
      ],
      "text/plain": [
       "recommendations finished on 10000/18484 queries. users per second: 133767"
      ]
     },
     "metadata": {},
     "output_type": "display_data"
    },
    {
     "data": {
      "text/html": [
       "<pre>recommendations finished on 11000/18484 queries. users per second: 136690</pre>"
      ],
      "text/plain": [
       "recommendations finished on 11000/18484 queries. users per second: 136690"
      ]
     },
     "metadata": {},
     "output_type": "display_data"
    },
    {
     "data": {
      "text/html": [
       "<pre>recommendations finished on 12000/18484 queries. users per second: 138483</pre>"
      ],
      "text/plain": [
       "recommendations finished on 12000/18484 queries. users per second: 138483"
      ]
     },
     "metadata": {},
     "output_type": "display_data"
    },
    {
     "data": {
      "text/html": [
       "<pre>recommendations finished on 13000/18484 queries. users per second: 143252</pre>"
      ],
      "text/plain": [
       "recommendations finished on 13000/18484 queries. users per second: 143252"
      ]
     },
     "metadata": {},
     "output_type": "display_data"
    },
    {
     "data": {
      "text/html": [
       "<pre>recommendations finished on 14000/18484 queries. users per second: 139944</pre>"
      ],
      "text/plain": [
       "recommendations finished on 14000/18484 queries. users per second: 139944"
      ]
     },
     "metadata": {},
     "output_type": "display_data"
    },
    {
     "data": {
      "text/html": [
       "<pre>recommendations finished on 15000/18484 queries. users per second: 142716</pre>"
      ],
      "text/plain": [
       "recommendations finished on 15000/18484 queries. users per second: 142716"
      ]
     },
     "metadata": {},
     "output_type": "display_data"
    },
    {
     "data": {
      "text/html": [
       "<pre>recommendations finished on 16000/18484 queries. users per second: 147025</pre>"
      ],
      "text/plain": [
       "recommendations finished on 16000/18484 queries. users per second: 147025"
      ]
     },
     "metadata": {},
     "output_type": "display_data"
    },
    {
     "data": {
      "text/html": [
       "<pre>recommendations finished on 17000/18484 queries. users per second: 148161</pre>"
      ],
      "text/plain": [
       "recommendations finished on 17000/18484 queries. users per second: 148161"
      ]
     },
     "metadata": {},
     "output_type": "display_data"
    },
    {
     "data": {
      "text/html": [
       "<pre>recommendations finished on 18000/18484 queries. users per second: 146540</pre>"
      ],
      "text/plain": [
       "recommendations finished on 18000/18484 queries. users per second: 146540"
      ]
     },
     "metadata": {},
     "output_type": "display_data"
    },
    {
     "name": "stdout",
     "output_type": "stream",
     "text": [
      "+------------+-------------------------+---------------------+------+\n",
      "| CustomerID |       ProductName       |        score        | rank |\n",
      "+------------+-------------------------+---------------------+------+\n",
      "|   11000    |   Patch Kit/8 Patches   | 0.10993940383195877 |  1   |\n",
      "|   11000    |  Water Bottle - 30 oz.  | 0.09440415352582932 |  2   |\n",
      "|   11000    |      Road Tire Tube     |  0.0883534848690033 |  3   |\n",
      "|   11000    |   Mountain Bottle Cage  | 0.08455412834882736 |  4   |\n",
      "|   11000    |       AWC Logo Cap      | 0.08284298330545425 |  5   |\n",
      "|   11000    |  Sport-100 Helmet, Blue | 0.07985440641641617 |  6   |\n",
      "|   11000    |    Mountain Tire Tube   | 0.07619590312242508 |  7   |\n",
      "|   11000    |     HL Mountain Tire    |  0.0709715336561203 |  8   |\n",
      "|   11000    | Sport-100 Helmet, Black | 0.07075894623994827 |  9   |\n",
      "|   11000    |       HL Road Tire      | 0.07018416374921799 |  10  |\n",
      "|   11001    |  Sport-100 Helmet, Blue | 0.12026970585187276 |  1   |\n",
      "|   11001    |  Sport-100 Helmet, Red  | 0.11766162514686584 |  2   |\n",
      "|   11001    | Sport-100 Helmet, Black | 0.11446465055147807 |  3   |\n",
      "|   11001    |  Fender Set - Mountain  | 0.11001821358998616 |  4   |\n",
      "|   11001    | Hydration Pack - 70 oz. | 0.10473833481470744 |  5   |\n",
      "|   11001    |   Patch Kit/8 Patches   |  0.0988722840944926 |  6   |\n",
      "|   11001    |  Bike Wash - Dissolver  | 0.09857247273127238 |  7   |\n",
      "|   11001    |     HL Mountain Tire    | 0.09769560893376668 |  8   |\n",
      "|   11001    |    Touring Tire Tube    | 0.08873680233955383 |  9   |\n",
      "|   11001    |      Road Tire Tube     | 0.08677489558855693 |  10  |\n",
      "|   11002    |  Water Bottle - 30 oz.  | 0.10820996761322021 |  1   |\n",
      "|   11002    |    Touring Tire Tube    | 0.09873360395431519 |  2   |\n",
      "|   11002    |      Road Tire Tube     | 0.09595274925231934 |  3   |\n",
      "|   11002    |    Mountain Tire Tube   | 0.09482449293136597 |  4   |\n",
      "|   11002    |     Road Bottle Cage    | 0.08815518021583557 |  5   |\n",
      "|   11002    |       AWC Logo Cap      | 0.08539605140686035 |  6   |\n",
      "|   11002    |   Mountain Bottle Cage  | 0.08410477638244629 |  7   |\n",
      "|   11002    |       Touring Tire      | 0.08104246854782104 |  8   |\n",
      "|   11002    |     HL Mountain Tire    | 0.07870873808860779 |  9   |\n",
      "|   11002    |  Fender Set - Mountain  | 0.07049936056137085 |  10  |\n",
      "+------------+-------------------------+---------------------+------+\n",
      "[184840 rows x 4 columns]\n",
      "\n"
     ]
    }
   ],
   "source": [
    "name = 'cosine'\n",
    "target = 'PurchaseCount'\n",
    "cos = model(train_data, name, user_id, item_id, target, users_to_recommend, n_rec, n_display)"
   ]
  },
  {
   "cell_type": "markdown",
   "metadata": {},
   "source": [
    "#### ii. Using purchase dummy"
   ]
  },
  {
   "cell_type": "code",
   "execution_count": 20,
   "metadata": {
    "scrolled": false
   },
   "outputs": [
    {
     "data": {
      "text/html": [
       "<pre>Recsys training: model = item_similarity</pre>"
      ],
      "text/plain": [
       "Recsys training: model = item_similarity"
      ]
     },
     "metadata": {},
     "output_type": "display_data"
    },
    {
     "data": {
      "text/html": [
       "<pre>Warning: Ignoring columns PurchaseCount;</pre>"
      ],
      "text/plain": [
       "Warning: Ignoring columns PurchaseCount;"
      ]
     },
     "metadata": {},
     "output_type": "display_data"
    },
    {
     "data": {
      "text/html": [
       "<pre>    To use these columns in scoring predictions, use a model that allows the use of additional features.</pre>"
      ],
      "text/plain": [
       "    To use these columns in scoring predictions, use a model that allows the use of additional features."
      ]
     },
     "metadata": {},
     "output_type": "display_data"
    },
    {
     "data": {
      "text/html": [
       "<pre>Preparing data set.</pre>"
      ],
      "text/plain": [
       "Preparing data set."
      ]
     },
     "metadata": {},
     "output_type": "display_data"
    },
    {
     "data": {
      "text/html": [
       "<pre>    Data has 47137 observations with 17782 users and 130 items.</pre>"
      ],
      "text/plain": [
       "    Data has 47137 observations with 17782 users and 130 items."
      ]
     },
     "metadata": {},
     "output_type": "display_data"
    },
    {
     "data": {
      "text/html": [
       "<pre>    Data prepared in: 0.058967s</pre>"
      ],
      "text/plain": [
       "    Data prepared in: 0.058967s"
      ]
     },
     "metadata": {},
     "output_type": "display_data"
    },
    {
     "data": {
      "text/html": [
       "<pre>Training model from provided data.</pre>"
      ],
      "text/plain": [
       "Training model from provided data."
      ]
     },
     "metadata": {},
     "output_type": "display_data"
    },
    {
     "data": {
      "text/html": [
       "<pre>Gathering per-item and per-user statistics.</pre>"
      ],
      "text/plain": [
       "Gathering per-item and per-user statistics."
      ]
     },
     "metadata": {},
     "output_type": "display_data"
    },
    {
     "data": {
      "text/html": [
       "<pre>+--------------------------------+------------+</pre>"
      ],
      "text/plain": [
       "+--------------------------------+------------+"
      ]
     },
     "metadata": {},
     "output_type": "display_data"
    },
    {
     "data": {
      "text/html": [
       "<pre>| Elapsed Time (Item Statistics) | % Complete |</pre>"
      ],
      "text/plain": [
       "| Elapsed Time (Item Statistics) | % Complete |"
      ]
     },
     "metadata": {},
     "output_type": "display_data"
    },
    {
     "data": {
      "text/html": [
       "<pre>+--------------------------------+------------+</pre>"
      ],
      "text/plain": [
       "+--------------------------------+------------+"
      ]
     },
     "metadata": {},
     "output_type": "display_data"
    },
    {
     "data": {
      "text/html": [
       "<pre>| 278us                          | 16.75      |</pre>"
      ],
      "text/plain": [
       "| 278us                          | 16.75      |"
      ]
     },
     "metadata": {},
     "output_type": "display_data"
    },
    {
     "data": {
      "text/html": [
       "<pre>| 4.637ms                        | 100        |</pre>"
      ],
      "text/plain": [
       "| 4.637ms                        | 100        |"
      ]
     },
     "metadata": {},
     "output_type": "display_data"
    },
    {
     "data": {
      "text/html": [
       "<pre>+--------------------------------+------------+</pre>"
      ],
      "text/plain": [
       "+--------------------------------+------------+"
      ]
     },
     "metadata": {},
     "output_type": "display_data"
    },
    {
     "data": {
      "text/html": [
       "<pre>Setting up lookup tables.</pre>"
      ],
      "text/plain": [
       "Setting up lookup tables."
      ]
     },
     "metadata": {},
     "output_type": "display_data"
    },
    {
     "data": {
      "text/html": [
       "<pre>Processing data in one pass using dense lookup tables.</pre>"
      ],
      "text/plain": [
       "Processing data in one pass using dense lookup tables."
      ]
     },
     "metadata": {},
     "output_type": "display_data"
    },
    {
     "data": {
      "text/html": [
       "<pre>+-------------------------------------+------------------+-----------------+</pre>"
      ],
      "text/plain": [
       "+-------------------------------------+------------------+-----------------+"
      ]
     },
     "metadata": {},
     "output_type": "display_data"
    },
    {
     "data": {
      "text/html": [
       "<pre>| Elapsed Time (Constructing Lookups) | Total % Complete | Items Processed |</pre>"
      ],
      "text/plain": [
       "| Elapsed Time (Constructing Lookups) | Total % Complete | Items Processed |"
      ]
     },
     "metadata": {},
     "output_type": "display_data"
    },
    {
     "data": {
      "text/html": [
       "<pre>+-------------------------------------+------------------+-----------------+</pre>"
      ],
      "text/plain": [
       "+-------------------------------------+------------------+-----------------+"
      ]
     },
     "metadata": {},
     "output_type": "display_data"
    },
    {
     "data": {
      "text/html": [
       "<pre>| 6.07ms                              | 0                | 0               |</pre>"
      ],
      "text/plain": [
       "| 6.07ms                              | 0                | 0               |"
      ]
     },
     "metadata": {},
     "output_type": "display_data"
    },
    {
     "data": {
      "text/html": [
       "<pre>| 13.308ms                            | 100              | 130             |</pre>"
      ],
      "text/plain": [
       "| 13.308ms                            | 100              | 130             |"
      ]
     },
     "metadata": {},
     "output_type": "display_data"
    },
    {
     "data": {
      "text/html": [
       "<pre>+-------------------------------------+------------------+-----------------+</pre>"
      ],
      "text/plain": [
       "+-------------------------------------+------------------+-----------------+"
      ]
     },
     "metadata": {},
     "output_type": "display_data"
    },
    {
     "data": {
      "text/html": [
       "<pre>Finalizing lookup tables.</pre>"
      ],
      "text/plain": [
       "Finalizing lookup tables."
      ]
     },
     "metadata": {},
     "output_type": "display_data"
    },
    {
     "data": {
      "text/html": [
       "<pre>Generating candidate set for working with new users.</pre>"
      ],
      "text/plain": [
       "Generating candidate set for working with new users."
      ]
     },
     "metadata": {},
     "output_type": "display_data"
    },
    {
     "data": {
      "text/html": [
       "<pre>Finished training in 0.024491s</pre>"
      ],
      "text/plain": [
       "Finished training in 0.024491s"
      ]
     },
     "metadata": {},
     "output_type": "display_data"
    },
    {
     "data": {
      "text/html": [
       "<pre>recommendations finished on 1000/18484 queries. users per second: 76511.1</pre>"
      ],
      "text/plain": [
       "recommendations finished on 1000/18484 queries. users per second: 76511.1"
      ]
     },
     "metadata": {},
     "output_type": "display_data"
    },
    {
     "data": {
      "text/html": [
       "<pre>recommendations finished on 2000/18484 queries. users per second: 117103</pre>"
      ],
      "text/plain": [
       "recommendations finished on 2000/18484 queries. users per second: 117103"
      ]
     },
     "metadata": {},
     "output_type": "display_data"
    },
    {
     "data": {
      "text/html": [
       "<pre>recommendations finished on 3000/18484 queries. users per second: 136531</pre>"
      ],
      "text/plain": [
       "recommendations finished on 3000/18484 queries. users per second: 136531"
      ]
     },
     "metadata": {},
     "output_type": "display_data"
    },
    {
     "data": {
      "text/html": [
       "<pre>recommendations finished on 4000/18484 queries. users per second: 112101</pre>"
      ],
      "text/plain": [
       "recommendations finished on 4000/18484 queries. users per second: 112101"
      ]
     },
     "metadata": {},
     "output_type": "display_data"
    },
    {
     "data": {
      "text/html": [
       "<pre>recommendations finished on 5000/18484 queries. users per second: 112420</pre>"
      ],
      "text/plain": [
       "recommendations finished on 5000/18484 queries. users per second: 112420"
      ]
     },
     "metadata": {},
     "output_type": "display_data"
    },
    {
     "data": {
      "text/html": [
       "<pre>recommendations finished on 6000/18484 queries. users per second: 123312</pre>"
      ],
      "text/plain": [
       "recommendations finished on 6000/18484 queries. users per second: 123312"
      ]
     },
     "metadata": {},
     "output_type": "display_data"
    },
    {
     "data": {
      "text/html": [
       "<pre>recommendations finished on 7000/18484 queries. users per second: 133019</pre>"
      ],
      "text/plain": [
       "recommendations finished on 7000/18484 queries. users per second: 133019"
      ]
     },
     "metadata": {},
     "output_type": "display_data"
    },
    {
     "data": {
      "text/html": [
       "<pre>recommendations finished on 8000/18484 queries. users per second: 138634</pre>"
      ],
      "text/plain": [
       "recommendations finished on 8000/18484 queries. users per second: 138634"
      ]
     },
     "metadata": {},
     "output_type": "display_data"
    },
    {
     "data": {
      "text/html": [
       "<pre>recommendations finished on 9000/18484 queries. users per second: 141161</pre>"
      ],
      "text/plain": [
       "recommendations finished on 9000/18484 queries. users per second: 141161"
      ]
     },
     "metadata": {},
     "output_type": "display_data"
    },
    {
     "data": {
      "text/html": [
       "<pre>recommendations finished on 10000/18484 queries. users per second: 144371</pre>"
      ],
      "text/plain": [
       "recommendations finished on 10000/18484 queries. users per second: 144371"
      ]
     },
     "metadata": {},
     "output_type": "display_data"
    },
    {
     "data": {
      "text/html": [
       "<pre>recommendations finished on 11000/18484 queries. users per second: 151219</pre>"
      ],
      "text/plain": [
       "recommendations finished on 11000/18484 queries. users per second: 151219"
      ]
     },
     "metadata": {},
     "output_type": "display_data"
    },
    {
     "data": {
      "text/html": [
       "<pre>recommendations finished on 12000/18484 queries. users per second: 158443</pre>"
      ],
      "text/plain": [
       "recommendations finished on 12000/18484 queries. users per second: 158443"
      ]
     },
     "metadata": {},
     "output_type": "display_data"
    },
    {
     "data": {
      "text/html": [
       "<pre>recommendations finished on 13000/18484 queries. users per second: 157179</pre>"
      ],
      "text/plain": [
       "recommendations finished on 13000/18484 queries. users per second: 157179"
      ]
     },
     "metadata": {},
     "output_type": "display_data"
    },
    {
     "data": {
      "text/html": [
       "<pre>recommendations finished on 14000/18484 queries. users per second: 157325</pre>"
      ],
      "text/plain": [
       "recommendations finished on 14000/18484 queries. users per second: 157325"
      ]
     },
     "metadata": {},
     "output_type": "display_data"
    },
    {
     "data": {
      "text/html": [
       "<pre>recommendations finished on 15000/18484 queries. users per second: 160889</pre>"
      ],
      "text/plain": [
       "recommendations finished on 15000/18484 queries. users per second: 160889"
      ]
     },
     "metadata": {},
     "output_type": "display_data"
    },
    {
     "data": {
      "text/html": [
       "<pre>recommendations finished on 16000/18484 queries. users per second: 156040</pre>"
      ],
      "text/plain": [
       "recommendations finished on 16000/18484 queries. users per second: 156040"
      ]
     },
     "metadata": {},
     "output_type": "display_data"
    },
    {
     "data": {
      "text/html": [
       "<pre>recommendations finished on 17000/18484 queries. users per second: 158718</pre>"
      ],
      "text/plain": [
       "recommendations finished on 17000/18484 queries. users per second: 158718"
      ]
     },
     "metadata": {},
     "output_type": "display_data"
    },
    {
     "data": {
      "text/html": [
       "<pre>recommendations finished on 18000/18484 queries. users per second: 160509</pre>"
      ],
      "text/plain": [
       "recommendations finished on 18000/18484 queries. users per second: 160509"
      ]
     },
     "metadata": {},
     "output_type": "display_data"
    },
    {
     "name": "stdout",
     "output_type": "stream",
     "text": [
      "+------------+--------------------------------+----------------------+------+\n",
      "| CustomerID |          ProductName           |        score         | rank |\n",
      "+------------+--------------------------------+----------------------+------+\n",
      "|   11000    |     Water Bottle - 30 oz.      | 0.08419644832611084  |  1   |\n",
      "|   11000    |          AWC Logo Cap          | 0.08019295760563441  |  2   |\n",
      "|   11000    |      Mountain Bottle Cage      | 0.07766308954783849  |  3   |\n",
      "|   11000    |        HL Mountain Tire        | 0.07653546333312988  |  4   |\n",
      "|   11000    |      Patch Kit/8 Patches       | 0.07565557956695557  |  5   |\n",
      "|   11000    |       Mountain Tire Tube       | 0.07179322413035802  |  6   |\n",
      "|   11000    |     Sport-100 Helmet, Blue     |  0.0672506434576852  |  7   |\n",
      "|   11000    |    Sport-100 Helmet, Black     |  0.0637678929737636  |  8   |\n",
      "|   11000    |        Road Bottle Cage        | 0.05836418696812221  |  9   |\n",
      "|   11000    |    Hydration Pack - 70 oz.     | 0.053766838141850064 |  10  |\n",
      "|   11001    |     Sport-100 Helmet, Red      | 0.07871870199839275  |  1   |\n",
      "|   11001    |        HL Mountain Tire        | 0.07647748125924005  |  2   |\n",
      "|   11001    |     Sport-100 Helmet, Blue     |  0.0733568204773797  |  3   |\n",
      "|   11001    |       Mountain Tire Tube       | 0.06654467185338338  |  4   |\n",
      "|   11001    |    Hydration Pack - 70 oz.     | 0.06642082002427843  |  5   |\n",
      "|   11001    |     Mountain-200 Black, 46     |  0.0644194417529636  |  6   |\n",
      "|   11001    |     Mountain-200 Black, 42     | 0.06188857555389404  |  7   |\n",
      "|   11001    |     Bike Wash - Dissolver      | 0.056909786330329046 |  8   |\n",
      "|   11001    |     Mountain-200 Black, 38     | 0.05393647485309177  |  9   |\n",
      "|   11001    | Short-Sleeve Classic Jersey, M | 0.049635099040137395 |  10  |\n",
      "|   11002    |     Water Bottle - 30 oz.      | 0.06623318791389465  |  1   |\n",
      "|   11002    |      Mountain Bottle Cage      |  0.0589878112077713  |  2   |\n",
      "|   11002    |        HL Mountain Tire        | 0.058102622628211975 |  3   |\n",
      "|   11002    |     Fender Set - Mountain      | 0.057519763708114624 |  4   |\n",
      "|   11002    |        Road Bottle Cage        | 0.05600087344646454  |  5   |\n",
      "|   11002    |       Mountain Tire Tube       | 0.05599565804004669  |  6   |\n",
      "|   11002    |          Touring Tire          | 0.05102294683456421  |  7   |\n",
      "|   11002    |          AWC Logo Cap          | 0.05004262924194336  |  8   |\n",
      "|   11002    |       Touring Tire Tube        | 0.04895015060901642  |  9   |\n",
      "|   11002    |     Mountain-200 Black, 42     | 0.048628658056259155 |  10  |\n",
      "+------------+--------------------------------+----------------------+------+\n",
      "[184840 rows x 4 columns]\n",
      "\n"
     ]
    }
   ],
   "source": [
    "name = 'cosine'\n",
    "target = 'purchase_dummy'\n",
    "cos_dummy = model(train_data_dummy, name, user_id, item_id, target, users_to_recommend, n_rec, n_display)"
   ]
  },
  {
   "cell_type": "markdown",
   "metadata": {},
   "source": [
    "#### iii. Using scaled purchase count"
   ]
  },
  {
   "cell_type": "code",
   "execution_count": 21,
   "metadata": {
    "scrolled": false
   },
   "outputs": [
    {
     "data": {
      "text/html": [
       "<pre>Recsys training: model = item_similarity</pre>"
      ],
      "text/plain": [
       "Recsys training: model = item_similarity"
      ]
     },
     "metadata": {},
     "output_type": "display_data"
    },
    {
     "data": {
      "text/html": [
       "<pre>Preparing data set.</pre>"
      ],
      "text/plain": [
       "Preparing data set."
      ]
     },
     "metadata": {},
     "output_type": "display_data"
    },
    {
     "data": {
      "text/html": [
       "<pre>    Data has 37046 observations with 16239 users and 52 items.</pre>"
      ],
      "text/plain": [
       "    Data has 37046 observations with 16239 users and 52 items."
      ]
     },
     "metadata": {},
     "output_type": "display_data"
    },
    {
     "data": {
      "text/html": [
       "<pre>    Data prepared in: 0.05843s</pre>"
      ],
      "text/plain": [
       "    Data prepared in: 0.05843s"
      ]
     },
     "metadata": {},
     "output_type": "display_data"
    },
    {
     "data": {
      "text/html": [
       "<pre>Training model from provided data.</pre>"
      ],
      "text/plain": [
       "Training model from provided data."
      ]
     },
     "metadata": {},
     "output_type": "display_data"
    },
    {
     "data": {
      "text/html": [
       "<pre>Gathering per-item and per-user statistics.</pre>"
      ],
      "text/plain": [
       "Gathering per-item and per-user statistics."
      ]
     },
     "metadata": {},
     "output_type": "display_data"
    },
    {
     "data": {
      "text/html": [
       "<pre>+--------------------------------+------------+</pre>"
      ],
      "text/plain": [
       "+--------------------------------+------------+"
      ]
     },
     "metadata": {},
     "output_type": "display_data"
    },
    {
     "data": {
      "text/html": [
       "<pre>| Elapsed Time (Item Statistics) | % Complete |</pre>"
      ],
      "text/plain": [
       "| Elapsed Time (Item Statistics) | % Complete |"
      ]
     },
     "metadata": {},
     "output_type": "display_data"
    },
    {
     "data": {
      "text/html": [
       "<pre>+--------------------------------+------------+</pre>"
      ],
      "text/plain": [
       "+--------------------------------+------------+"
      ]
     },
     "metadata": {},
     "output_type": "display_data"
    },
    {
     "data": {
      "text/html": [
       "<pre>| 1.787ms                        | 24.5       |</pre>"
      ],
      "text/plain": [
       "| 1.787ms                        | 24.5       |"
      ]
     },
     "metadata": {},
     "output_type": "display_data"
    },
    {
     "data": {
      "text/html": [
       "<pre>| 3.614ms                        | 100        |</pre>"
      ],
      "text/plain": [
       "| 3.614ms                        | 100        |"
      ]
     },
     "metadata": {},
     "output_type": "display_data"
    },
    {
     "data": {
      "text/html": [
       "<pre>+--------------------------------+------------+</pre>"
      ],
      "text/plain": [
       "+--------------------------------+------------+"
      ]
     },
     "metadata": {},
     "output_type": "display_data"
    },
    {
     "data": {
      "text/html": [
       "<pre>Setting up lookup tables.</pre>"
      ],
      "text/plain": [
       "Setting up lookup tables."
      ]
     },
     "metadata": {},
     "output_type": "display_data"
    },
    {
     "data": {
      "text/html": [
       "<pre>Processing data in one pass using dense lookup tables.</pre>"
      ],
      "text/plain": [
       "Processing data in one pass using dense lookup tables."
      ]
     },
     "metadata": {},
     "output_type": "display_data"
    },
    {
     "data": {
      "text/html": [
       "<pre>+-------------------------------------+------------------+-----------------+</pre>"
      ],
      "text/plain": [
       "+-------------------------------------+------------------+-----------------+"
      ]
     },
     "metadata": {},
     "output_type": "display_data"
    },
    {
     "data": {
      "text/html": [
       "<pre>| Elapsed Time (Constructing Lookups) | Total % Complete | Items Processed |</pre>"
      ],
      "text/plain": [
       "| Elapsed Time (Constructing Lookups) | Total % Complete | Items Processed |"
      ]
     },
     "metadata": {},
     "output_type": "display_data"
    },
    {
     "data": {
      "text/html": [
       "<pre>+-------------------------------------+------------------+-----------------+</pre>"
      ],
      "text/plain": [
       "+-------------------------------------+------------------+-----------------+"
      ]
     },
     "metadata": {},
     "output_type": "display_data"
    },
    {
     "data": {
      "text/html": [
       "<pre>| 3.952ms                             | 0                | 0               |</pre>"
      ],
      "text/plain": [
       "| 3.952ms                             | 0                | 0               |"
      ]
     },
     "metadata": {},
     "output_type": "display_data"
    },
    {
     "data": {
      "text/html": [
       "<pre>| 8.495ms                             | 100              | 52              |</pre>"
      ],
      "text/plain": [
       "| 8.495ms                             | 100              | 52              |"
      ]
     },
     "metadata": {},
     "output_type": "display_data"
    },
    {
     "data": {
      "text/html": [
       "<pre>+-------------------------------------+------------------+-----------------+</pre>"
      ],
      "text/plain": [
       "+-------------------------------------+------------------+-----------------+"
      ]
     },
     "metadata": {},
     "output_type": "display_data"
    },
    {
     "data": {
      "text/html": [
       "<pre>Finalizing lookup tables.</pre>"
      ],
      "text/plain": [
       "Finalizing lookup tables."
      ]
     },
     "metadata": {},
     "output_type": "display_data"
    },
    {
     "data": {
      "text/html": [
       "<pre>Generating candidate set for working with new users.</pre>"
      ],
      "text/plain": [
       "Generating candidate set for working with new users."
      ]
     },
     "metadata": {},
     "output_type": "display_data"
    },
    {
     "data": {
      "text/html": [
       "<pre>Finished training in 0.015432s</pre>"
      ],
      "text/plain": [
       "Finished training in 0.015432s"
      ]
     },
     "metadata": {},
     "output_type": "display_data"
    },
    {
     "data": {
      "text/html": [
       "<pre>recommendations finished on 1000/18484 queries. users per second: 114758</pre>"
      ],
      "text/plain": [
       "recommendations finished on 1000/18484 queries. users per second: 114758"
      ]
     },
     "metadata": {},
     "output_type": "display_data"
    },
    {
     "data": {
      "text/html": [
       "<pre>recommendations finished on 2000/18484 queries. users per second: 168990</pre>"
      ],
      "text/plain": [
       "recommendations finished on 2000/18484 queries. users per second: 168990"
      ]
     },
     "metadata": {},
     "output_type": "display_data"
    },
    {
     "data": {
      "text/html": [
       "<pre>recommendations finished on 3000/18484 queries. users per second: 204123</pre>"
      ],
      "text/plain": [
       "recommendations finished on 3000/18484 queries. users per second: 204123"
      ]
     },
     "metadata": {},
     "output_type": "display_data"
    },
    {
     "data": {
      "text/html": [
       "<pre>recommendations finished on 4000/18484 queries. users per second: 214592</pre>"
      ],
      "text/plain": [
       "recommendations finished on 4000/18484 queries. users per second: 214592"
      ]
     },
     "metadata": {},
     "output_type": "display_data"
    },
    {
     "data": {
      "text/html": [
       "<pre>recommendations finished on 5000/18484 queries. users per second: 227790</pre>"
      ],
      "text/plain": [
       "recommendations finished on 5000/18484 queries. users per second: 227790"
      ]
     },
     "metadata": {},
     "output_type": "display_data"
    },
    {
     "data": {
      "text/html": [
       "<pre>recommendations finished on 6000/18484 queries. users per second: 218150</pre>"
      ],
      "text/plain": [
       "recommendations finished on 6000/18484 queries. users per second: 218150"
      ]
     },
     "metadata": {},
     "output_type": "display_data"
    },
    {
     "data": {
      "text/html": [
       "<pre>recommendations finished on 7000/18484 queries. users per second: 230521</pre>"
      ],
      "text/plain": [
       "recommendations finished on 7000/18484 queries. users per second: 230521"
      ]
     },
     "metadata": {},
     "output_type": "display_data"
    },
    {
     "data": {
      "text/html": [
       "<pre>recommendations finished on 8000/18484 queries. users per second: 242601</pre>"
      ],
      "text/plain": [
       "recommendations finished on 8000/18484 queries. users per second: 242601"
      ]
     },
     "metadata": {},
     "output_type": "display_data"
    },
    {
     "data": {
      "text/html": [
       "<pre>recommendations finished on 9000/18484 queries. users per second: 231327</pre>"
      ],
      "text/plain": [
       "recommendations finished on 9000/18484 queries. users per second: 231327"
      ]
     },
     "metadata": {},
     "output_type": "display_data"
    },
    {
     "data": {
      "text/html": [
       "<pre>recommendations finished on 10000/18484 queries. users per second: 241400</pre>"
      ],
      "text/plain": [
       "recommendations finished on 10000/18484 queries. users per second: 241400"
      ]
     },
     "metadata": {},
     "output_type": "display_data"
    },
    {
     "data": {
      "text/html": [
       "<pre>recommendations finished on 11000/18484 queries. users per second: 248959</pre>"
      ],
      "text/plain": [
       "recommendations finished on 11000/18484 queries. users per second: 248959"
      ]
     },
     "metadata": {},
     "output_type": "display_data"
    },
    {
     "data": {
      "text/html": [
       "<pre>recommendations finished on 12000/18484 queries. users per second: 225014</pre>"
      ],
      "text/plain": [
       "recommendations finished on 12000/18484 queries. users per second: 225014"
      ]
     },
     "metadata": {},
     "output_type": "display_data"
    },
    {
     "data": {
      "text/html": [
       "<pre>recommendations finished on 13000/18484 queries. users per second: 197683</pre>"
      ],
      "text/plain": [
       "recommendations finished on 13000/18484 queries. users per second: 197683"
      ]
     },
     "metadata": {},
     "output_type": "display_data"
    },
    {
     "data": {
      "text/html": [
       "<pre>recommendations finished on 14000/18484 queries. users per second: 195419</pre>"
      ],
      "text/plain": [
       "recommendations finished on 14000/18484 queries. users per second: 195419"
      ]
     },
     "metadata": {},
     "output_type": "display_data"
    },
    {
     "data": {
      "text/html": [
       "<pre>recommendations finished on 15000/18484 queries. users per second: 201643</pre>"
      ],
      "text/plain": [
       "recommendations finished on 15000/18484 queries. users per second: 201643"
      ]
     },
     "metadata": {},
     "output_type": "display_data"
    },
    {
     "data": {
      "text/html": [
       "<pre>recommendations finished on 16000/18484 queries. users per second: 200068</pre>"
      ],
      "text/plain": [
       "recommendations finished on 16000/18484 queries. users per second: 200068"
      ]
     },
     "metadata": {},
     "output_type": "display_data"
    },
    {
     "data": {
      "text/html": [
       "<pre>recommendations finished on 17000/18484 queries. users per second: 204268</pre>"
      ],
      "text/plain": [
       "recommendations finished on 17000/18484 queries. users per second: 204268"
      ]
     },
     "metadata": {},
     "output_type": "display_data"
    },
    {
     "data": {
      "text/html": [
       "<pre>recommendations finished on 18000/18484 queries. users per second: 207392</pre>"
      ],
      "text/plain": [
       "recommendations finished on 18000/18484 queries. users per second: 207392"
      ]
     },
     "metadata": {},
     "output_type": "display_data"
    },
    {
     "name": "stdout",
     "output_type": "stream",
     "text": [
      "+------------+--------------------------------+----------------------+------+\n",
      "| CustomerID |          ProductName           |        score         | rank |\n",
      "+------------+--------------------------------+----------------------+------+\n",
      "|   11000    | Short-Sleeve Classic Jersey, M |         0.0          |  1   |\n",
      "|   11000    |     Mountain-200 Black, 46     |         0.0          |  2   |\n",
      "|   11000    |          AWC Logo Cap          |         0.0          |  3   |\n",
      "|   11000    |    Touring-1000 Yellow, 46     |         0.0          |  4   |\n",
      "|   11000    |          ML Road Tire          |         0.0          |  5   |\n",
      "|   11000    |        Road Bottle Cage        |         0.0          |  6   |\n",
      "|   11000    |     Sport-100 Helmet, Blue     |         0.0          |  7   |\n",
      "|   11000    |     Mountain-200 Black, 42     |         0.0          |  8   |\n",
      "|   11000    |    Hydration Pack - 70 oz.     |         0.0          |  9   |\n",
      "|   11000    |     Water Bottle - 30 oz.      |         0.0          |  10  |\n",
      "|   11001    |         Road Tire Tube         | 0.013592949935368128 |  1   |\n",
      "|   11001    |        LL Mountain Tire        | 0.011747590133122035 |  2   |\n",
      "|   11001    |          HL Road Tire          | 0.011481421334402902 |  3   |\n",
      "|   11001    |          ML Road Tire          | 0.011450707912445068 |  4   |\n",
      "|   11001    |       Mountain Tire Tube       | 0.010875412396022252 |  5   |\n",
      "|   11001    |      Patch Kit/8 Patches       | 0.010112055710383825 |  6   |\n",
      "|   11001    |    Hydration Pack - 70 oz.     | 0.009855645043509347 |  7   |\n",
      "|   11001    |     Sport-100 Helmet, Blue     | 0.007870325020381383 |  8   |\n",
      "|   11001    |          LL Road Tire          | 0.007228919437953404 |  9   |\n",
      "|   11001    |     Half-Finger Gloves, S      | 0.006881024156297956 |  10  |\n",
      "|   11002    |       Mountain Tire Tube       |         0.0          |  1   |\n",
      "|   11002    | Short-Sleeve Classic Jersey, M |         0.0          |  2   |\n",
      "|   11002    |     Mountain-200 Black, 46     |         0.0          |  3   |\n",
      "|   11002    |          AWC Logo Cap          |         0.0          |  4   |\n",
      "|   11002    |     Fender Set - Mountain      |         0.0          |  5   |\n",
      "|   11002    |          ML Road Tire          |         0.0          |  6   |\n",
      "|   11002    |        Road Bottle Cage        |         0.0          |  7   |\n",
      "|   11002    |     Mountain-200 Black, 42     |         0.0          |  8   |\n",
      "|   11002    |    Hydration Pack - 70 oz.     |         0.0          |  9   |\n",
      "|   11002    |     Water Bottle - 30 oz.      |         0.0          |  10  |\n",
      "+------------+--------------------------------+----------------------+------+\n",
      "[184840 rows x 4 columns]\n",
      "\n"
     ]
    }
   ],
   "source": [
    "name = 'cosine' \n",
    "target = 'scaled_purchase_freq' \n",
    "cos_norm = model(train_data_norm, name, user_id, item_id, target, users_to_recommend, n_rec, n_display)"
   ]
  },
  {
   "cell_type": "markdown",
   "metadata": {},
   "source": [
    "#### 7.3. Pearson similarity\n",
    "Similarity is the pearson coefficient between the two vectors."
   ]
  },
  {
   "cell_type": "markdown",
   "metadata": {},
   "source": [
    "#### i. Using purchase count"
   ]
  },
  {
   "cell_type": "code",
   "execution_count": 22,
   "metadata": {
    "scrolled": false
   },
   "outputs": [
    {
     "data": {
      "text/html": [
       "<pre>Recsys training: model = item_similarity</pre>"
      ],
      "text/plain": [
       "Recsys training: model = item_similarity"
      ]
     },
     "metadata": {},
     "output_type": "display_data"
    },
    {
     "data": {
      "text/html": [
       "<pre>Preparing data set.</pre>"
      ],
      "text/plain": [
       "Preparing data set."
      ]
     },
     "metadata": {},
     "output_type": "display_data"
    },
    {
     "data": {
      "text/html": [
       "<pre>    Data has 47137 observations with 17732 users and 130 items.</pre>"
      ],
      "text/plain": [
       "    Data has 47137 observations with 17732 users and 130 items."
      ]
     },
     "metadata": {},
     "output_type": "display_data"
    },
    {
     "data": {
      "text/html": [
       "<pre>    Data prepared in: 0.059415s</pre>"
      ],
      "text/plain": [
       "    Data prepared in: 0.059415s"
      ]
     },
     "metadata": {},
     "output_type": "display_data"
    },
    {
     "data": {
      "text/html": [
       "<pre>Training model from provided data.</pre>"
      ],
      "text/plain": [
       "Training model from provided data."
      ]
     },
     "metadata": {},
     "output_type": "display_data"
    },
    {
     "data": {
      "text/html": [
       "<pre>Gathering per-item and per-user statistics.</pre>"
      ],
      "text/plain": [
       "Gathering per-item and per-user statistics."
      ]
     },
     "metadata": {},
     "output_type": "display_data"
    },
    {
     "data": {
      "text/html": [
       "<pre>+--------------------------------+------------+</pre>"
      ],
      "text/plain": [
       "+--------------------------------+------------+"
      ]
     },
     "metadata": {},
     "output_type": "display_data"
    },
    {
     "data": {
      "text/html": [
       "<pre>| Elapsed Time (Item Statistics) | % Complete |</pre>"
      ],
      "text/plain": [
       "| Elapsed Time (Item Statistics) | % Complete |"
      ]
     },
     "metadata": {},
     "output_type": "display_data"
    },
    {
     "data": {
      "text/html": [
       "<pre>+--------------------------------+------------+</pre>"
      ],
      "text/plain": [
       "+--------------------------------+------------+"
      ]
     },
     "metadata": {},
     "output_type": "display_data"
    },
    {
     "data": {
      "text/html": [
       "<pre>| 448us                          | 62         |</pre>"
      ],
      "text/plain": [
       "| 448us                          | 62         |"
      ]
     },
     "metadata": {},
     "output_type": "display_data"
    },
    {
     "data": {
      "text/html": [
       "<pre>| 3.055ms                        | 100        |</pre>"
      ],
      "text/plain": [
       "| 3.055ms                        | 100        |"
      ]
     },
     "metadata": {},
     "output_type": "display_data"
    },
    {
     "data": {
      "text/html": [
       "<pre>+--------------------------------+------------+</pre>"
      ],
      "text/plain": [
       "+--------------------------------+------------+"
      ]
     },
     "metadata": {},
     "output_type": "display_data"
    },
    {
     "data": {
      "text/html": [
       "<pre>Setting up lookup tables.</pre>"
      ],
      "text/plain": [
       "Setting up lookup tables."
      ]
     },
     "metadata": {},
     "output_type": "display_data"
    },
    {
     "data": {
      "text/html": [
       "<pre>Processing data in one pass using dense lookup tables.</pre>"
      ],
      "text/plain": [
       "Processing data in one pass using dense lookup tables."
      ]
     },
     "metadata": {},
     "output_type": "display_data"
    },
    {
     "data": {
      "text/html": [
       "<pre>+-------------------------------------+------------------+-----------------+</pre>"
      ],
      "text/plain": [
       "+-------------------------------------+------------------+-----------------+"
      ]
     },
     "metadata": {},
     "output_type": "display_data"
    },
    {
     "data": {
      "text/html": [
       "<pre>| Elapsed Time (Constructing Lookups) | Total % Complete | Items Processed |</pre>"
      ],
      "text/plain": [
       "| Elapsed Time (Constructing Lookups) | Total % Complete | Items Processed |"
      ]
     },
     "metadata": {},
     "output_type": "display_data"
    },
    {
     "data": {
      "text/html": [
       "<pre>+-------------------------------------+------------------+-----------------+</pre>"
      ],
      "text/plain": [
       "+-------------------------------------+------------------+-----------------+"
      ]
     },
     "metadata": {},
     "output_type": "display_data"
    },
    {
     "data": {
      "text/html": [
       "<pre>| 3.379ms                             | 0                | 0               |</pre>"
      ],
      "text/plain": [
       "| 3.379ms                             | 0                | 0               |"
      ]
     },
     "metadata": {},
     "output_type": "display_data"
    },
    {
     "data": {
      "text/html": [
       "<pre>| 7.256ms                             | 100              | 130             |</pre>"
      ],
      "text/plain": [
       "| 7.256ms                             | 100              | 130             |"
      ]
     },
     "metadata": {},
     "output_type": "display_data"
    },
    {
     "data": {
      "text/html": [
       "<pre>+-------------------------------------+------------------+-----------------+</pre>"
      ],
      "text/plain": [
       "+-------------------------------------+------------------+-----------------+"
      ]
     },
     "metadata": {},
     "output_type": "display_data"
    },
    {
     "data": {
      "text/html": [
       "<pre>Finalizing lookup tables.</pre>"
      ],
      "text/plain": [
       "Finalizing lookup tables."
      ]
     },
     "metadata": {},
     "output_type": "display_data"
    },
    {
     "data": {
      "text/html": [
       "<pre>Generating candidate set for working with new users.</pre>"
      ],
      "text/plain": [
       "Generating candidate set for working with new users."
      ]
     },
     "metadata": {},
     "output_type": "display_data"
    },
    {
     "data": {
      "text/html": [
       "<pre>Finished training in 0.01172s</pre>"
      ],
      "text/plain": [
       "Finished training in 0.01172s"
      ]
     },
     "metadata": {},
     "output_type": "display_data"
    },
    {
     "data": {
      "text/html": [
       "<pre>recommendations finished on 1000/18484 queries. users per second: 129769</pre>"
      ],
      "text/plain": [
       "recommendations finished on 1000/18484 queries. users per second: 129769"
      ]
     },
     "metadata": {},
     "output_type": "display_data"
    },
    {
     "data": {
      "text/html": [
       "<pre>recommendations finished on 2000/18484 queries. users per second: 109164</pre>"
      ],
      "text/plain": [
       "recommendations finished on 2000/18484 queries. users per second: 109164"
      ]
     },
     "metadata": {},
     "output_type": "display_data"
    },
    {
     "data": {
      "text/html": [
       "<pre>recommendations finished on 3000/18484 queries. users per second: 81252.4</pre>"
      ],
      "text/plain": [
       "recommendations finished on 3000/18484 queries. users per second: 81252.4"
      ]
     },
     "metadata": {},
     "output_type": "display_data"
    },
    {
     "data": {
      "text/html": [
       "<pre>recommendations finished on 4000/18484 queries. users per second: 81075.1</pre>"
      ],
      "text/plain": [
       "recommendations finished on 4000/18484 queries. users per second: 81075.1"
      ]
     },
     "metadata": {},
     "output_type": "display_data"
    },
    {
     "data": {
      "text/html": [
       "<pre>recommendations finished on 5000/18484 queries. users per second: 85086.1</pre>"
      ],
      "text/plain": [
       "recommendations finished on 5000/18484 queries. users per second: 85086.1"
      ]
     },
     "metadata": {},
     "output_type": "display_data"
    },
    {
     "data": {
      "text/html": [
       "<pre>recommendations finished on 6000/18484 queries. users per second: 97656.2</pre>"
      ],
      "text/plain": [
       "recommendations finished on 6000/18484 queries. users per second: 97656.2"
      ]
     },
     "metadata": {},
     "output_type": "display_data"
    },
    {
     "data": {
      "text/html": [
       "<pre>recommendations finished on 7000/18484 queries. users per second: 95763.2</pre>"
      ],
      "text/plain": [
       "recommendations finished on 7000/18484 queries. users per second: 95763.2"
      ]
     },
     "metadata": {},
     "output_type": "display_data"
    },
    {
     "data": {
      "text/html": [
       "<pre>recommendations finished on 8000/18484 queries. users per second: 93249.9</pre>"
      ],
      "text/plain": [
       "recommendations finished on 8000/18484 queries. users per second: 93249.9"
      ]
     },
     "metadata": {},
     "output_type": "display_data"
    },
    {
     "data": {
      "text/html": [
       "<pre>recommendations finished on 9000/18484 queries. users per second: 96710.8</pre>"
      ],
      "text/plain": [
       "recommendations finished on 9000/18484 queries. users per second: 96710.8"
      ]
     },
     "metadata": {},
     "output_type": "display_data"
    },
    {
     "data": {
      "text/html": [
       "<pre>recommendations finished on 10000/18484 queries. users per second: 95093.2</pre>"
      ],
      "text/plain": [
       "recommendations finished on 10000/18484 queries. users per second: 95093.2"
      ]
     },
     "metadata": {},
     "output_type": "display_data"
    },
    {
     "data": {
      "text/html": [
       "<pre>recommendations finished on 11000/18484 queries. users per second: 96106.8</pre>"
      ],
      "text/plain": [
       "recommendations finished on 11000/18484 queries. users per second: 96106.8"
      ]
     },
     "metadata": {},
     "output_type": "display_data"
    },
    {
     "data": {
      "text/html": [
       "<pre>recommendations finished on 12000/18484 queries. users per second: 97626.9</pre>"
      ],
      "text/plain": [
       "recommendations finished on 12000/18484 queries. users per second: 97626.9"
      ]
     },
     "metadata": {},
     "output_type": "display_data"
    },
    {
     "data": {
      "text/html": [
       "<pre>recommendations finished on 13000/18484 queries. users per second: 99342.8</pre>"
      ],
      "text/plain": [
       "recommendations finished on 13000/18484 queries. users per second: 99342.8"
      ]
     },
     "metadata": {},
     "output_type": "display_data"
    },
    {
     "data": {
      "text/html": [
       "<pre>recommendations finished on 14000/18484 queries. users per second: 104116</pre>"
      ],
      "text/plain": [
       "recommendations finished on 14000/18484 queries. users per second: 104116"
      ]
     },
     "metadata": {},
     "output_type": "display_data"
    },
    {
     "data": {
      "text/html": [
       "<pre>recommendations finished on 15000/18484 queries. users per second: 103816</pre>"
      ],
      "text/plain": [
       "recommendations finished on 15000/18484 queries. users per second: 103816"
      ]
     },
     "metadata": {},
     "output_type": "display_data"
    },
    {
     "data": {
      "text/html": [
       "<pre>recommendations finished on 16000/18484 queries. users per second: 102394</pre>"
      ],
      "text/plain": [
       "recommendations finished on 16000/18484 queries. users per second: 102394"
      ]
     },
     "metadata": {},
     "output_type": "display_data"
    },
    {
     "data": {
      "text/html": [
       "<pre>recommendations finished on 17000/18484 queries. users per second: 102748</pre>"
      ],
      "text/plain": [
       "recommendations finished on 17000/18484 queries. users per second: 102748"
      ]
     },
     "metadata": {},
     "output_type": "display_data"
    },
    {
     "data": {
      "text/html": [
       "<pre>recommendations finished on 18000/18484 queries. users per second: 103931</pre>"
      ],
      "text/plain": [
       "recommendations finished on 18000/18484 queries. users per second: 103931"
      ]
     },
     "metadata": {},
     "output_type": "display_data"
    },
    {
     "name": "stdout",
     "output_type": "stream",
     "text": [
      "+------------+-------------------------+--------------------+------+\n",
      "| CustomerID |       ProductName       |       score        | rank |\n",
      "+------------+-------------------------+--------------------+------+\n",
      "|   11000    |   Patch Kit/8 Patches   | 1.0770100769690956 |  1   |\n",
      "|   11000    |      Road Tire Tube     | 1.0611391546783484 |  2   |\n",
      "|   11000    |       HL Road Tire      | 1.050259952346937  |  3   |\n",
      "|   11000    |  Water Bottle - 30 oz.  | 1.0383609580862965 |  4   |\n",
      "|   11000    |    Mountain Tire Tube   | 1.0363986535560263 |  5   |\n",
      "|   11000    |  Bike Wash - Dissolver  | 1.0362966939300378 |  6   |\n",
      "|   11000    |  Mountain-200 Black, 46 | 1.0359359754064354 |  7   |\n",
      "|   11000    |     LL Mountain Tire    | 1.0343510846913135 |  8   |\n",
      "|   11000    |  Mountain-200 Black, 38 | 1.0330347599962206 |  9   |\n",
      "|   11000    |       ML Road Tire      | 1.0327007689259269 |  10  |\n",
      "|   11001    |   Patch Kit/8 Patches   | 1.1255128798179115 |  1   |\n",
      "|   11001    |      Road Tire Tube     | 1.1164463269171752 |  2   |\n",
      "|   11001    |       HL Road Tire      | 1.1147839050496182 |  3   |\n",
      "|   11001    |     LL Mountain Tire    | 1.0896850218991714 |  4   |\n",
      "|   11001    |    Touring Tire Tube    | 1.0893191011538497 |  5   |\n",
      "|   11001    |    Mountain Tire Tube   | 1.0720008977940851 |  6   |\n",
      "|   11001    |       ML Road Tire      | 1.070120177485726  |  7   |\n",
      "|   11001    |  Bike Wash - Dissolver  | 1.0677338202287832 |  8   |\n",
      "|   11001    |  Sport-100 Helmet, Blue | 1.0634370334038061 |  9   |\n",
      "|   11001    | Hydration Pack - 70 oz. | 1.060520828378444  |  10  |\n",
      "|   11002    |   Patch Kit/8 Patches   | 1.0790731725387062 |  1   |\n",
      "|   11002    |      Road Tire Tube     |  1.06134624356604  |  2   |\n",
      "|   11002    |       HL Road Tire      | 1.0495325447126787 |  3   |\n",
      "|   11002    |  Water Bottle - 30 oz.  | 1.0378882336485828 |  4   |\n",
      "|   11002    |    Touring Tire Tube    | 1.036771358230749  |  5   |\n",
      "|   11002    |    Mountain Tire Tube   | 1.036399212349571  |  6   |\n",
      "|   11002    |  Mountain-200 Black, 46 | 1.0359408033826623 |  7   |\n",
      "|   11002    |  Sport-100 Helmet, Red  | 1.0356233546359024 |  8   |\n",
      "|   11002    |  Bike Wash - Dissolver  | 1.0337430595845063 |  9   |\n",
      "|   11002    |  Mountain-200 Black, 38 | 1.0330396475770922 |  10  |\n",
      "+------------+-------------------------+--------------------+------+\n",
      "[184840 rows x 4 columns]\n",
      "\n"
     ]
    }
   ],
   "source": [
    "name = 'pearson'\n",
    "target = 'PurchaseCount'\n",
    "pear = model(train_data, name, user_id, item_id, target, users_to_recommend, n_rec, n_display)"
   ]
  },
  {
   "cell_type": "markdown",
   "metadata": {},
   "source": [
    "#### ii. Using purchase dummy"
   ]
  },
  {
   "cell_type": "code",
   "execution_count": 23,
   "metadata": {
    "scrolled": false
   },
   "outputs": [
    {
     "data": {
      "text/html": [
       "<pre>Recsys training: model = item_similarity</pre>"
      ],
      "text/plain": [
       "Recsys training: model = item_similarity"
      ]
     },
     "metadata": {},
     "output_type": "display_data"
    },
    {
     "data": {
      "text/html": [
       "<pre>Warning: Ignoring columns PurchaseCount;</pre>"
      ],
      "text/plain": [
       "Warning: Ignoring columns PurchaseCount;"
      ]
     },
     "metadata": {},
     "output_type": "display_data"
    },
    {
     "data": {
      "text/html": [
       "<pre>    To use these columns in scoring predictions, use a model that allows the use of additional features.</pre>"
      ],
      "text/plain": [
       "    To use these columns in scoring predictions, use a model that allows the use of additional features."
      ]
     },
     "metadata": {},
     "output_type": "display_data"
    },
    {
     "data": {
      "text/html": [
       "<pre>Preparing data set.</pre>"
      ],
      "text/plain": [
       "Preparing data set."
      ]
     },
     "metadata": {},
     "output_type": "display_data"
    },
    {
     "data": {
      "text/html": [
       "<pre>    Data has 47137 observations with 17782 users and 130 items.</pre>"
      ],
      "text/plain": [
       "    Data has 47137 observations with 17782 users and 130 items."
      ]
     },
     "metadata": {},
     "output_type": "display_data"
    },
    {
     "data": {
      "text/html": [
       "<pre>    Data prepared in: 0.057664s</pre>"
      ],
      "text/plain": [
       "    Data prepared in: 0.057664s"
      ]
     },
     "metadata": {},
     "output_type": "display_data"
    },
    {
     "data": {
      "text/html": [
       "<pre>Training model from provided data.</pre>"
      ],
      "text/plain": [
       "Training model from provided data."
      ]
     },
     "metadata": {},
     "output_type": "display_data"
    },
    {
     "data": {
      "text/html": [
       "<pre>Gathering per-item and per-user statistics.</pre>"
      ],
      "text/plain": [
       "Gathering per-item and per-user statistics."
      ]
     },
     "metadata": {},
     "output_type": "display_data"
    },
    {
     "data": {
      "text/html": [
       "<pre>+--------------------------------+------------+</pre>"
      ],
      "text/plain": [
       "+--------------------------------+------------+"
      ]
     },
     "metadata": {},
     "output_type": "display_data"
    },
    {
     "data": {
      "text/html": [
       "<pre>| Elapsed Time (Item Statistics) | % Complete |</pre>"
      ],
      "text/plain": [
       "| Elapsed Time (Item Statistics) | % Complete |"
      ]
     },
     "metadata": {},
     "output_type": "display_data"
    },
    {
     "data": {
      "text/html": [
       "<pre>+--------------------------------+------------+</pre>"
      ],
      "text/plain": [
       "+--------------------------------+------------+"
      ]
     },
     "metadata": {},
     "output_type": "display_data"
    },
    {
     "data": {
      "text/html": [
       "<pre>| 796us                          | 61.75      |</pre>"
      ],
      "text/plain": [
       "| 796us                          | 61.75      |"
      ]
     },
     "metadata": {},
     "output_type": "display_data"
    },
    {
     "data": {
      "text/html": [
       "<pre>| 4.218ms                        | 100        |</pre>"
      ],
      "text/plain": [
       "| 4.218ms                        | 100        |"
      ]
     },
     "metadata": {},
     "output_type": "display_data"
    },
    {
     "data": {
      "text/html": [
       "<pre>+--------------------------------+------------+</pre>"
      ],
      "text/plain": [
       "+--------------------------------+------------+"
      ]
     },
     "metadata": {},
     "output_type": "display_data"
    },
    {
     "data": {
      "text/html": [
       "<pre>Setting up lookup tables.</pre>"
      ],
      "text/plain": [
       "Setting up lookup tables."
      ]
     },
     "metadata": {},
     "output_type": "display_data"
    },
    {
     "data": {
      "text/html": [
       "<pre>Processing data in one pass using dense lookup tables.</pre>"
      ],
      "text/plain": [
       "Processing data in one pass using dense lookup tables."
      ]
     },
     "metadata": {},
     "output_type": "display_data"
    },
    {
     "data": {
      "text/html": [
       "<pre>+-------------------------------------+------------------+-----------------+</pre>"
      ],
      "text/plain": [
       "+-------------------------------------+------------------+-----------------+"
      ]
     },
     "metadata": {},
     "output_type": "display_data"
    },
    {
     "data": {
      "text/html": [
       "<pre>| Elapsed Time (Constructing Lookups) | Total % Complete | Items Processed |</pre>"
      ],
      "text/plain": [
       "| Elapsed Time (Constructing Lookups) | Total % Complete | Items Processed |"
      ]
     },
     "metadata": {},
     "output_type": "display_data"
    },
    {
     "data": {
      "text/html": [
       "<pre>+-------------------------------------+------------------+-----------------+</pre>"
      ],
      "text/plain": [
       "+-------------------------------------+------------------+-----------------+"
      ]
     },
     "metadata": {},
     "output_type": "display_data"
    },
    {
     "data": {
      "text/html": [
       "<pre>| 4.877ms                             | 0                | 0               |</pre>"
      ],
      "text/plain": [
       "| 4.877ms                             | 0                | 0               |"
      ]
     },
     "metadata": {},
     "output_type": "display_data"
    },
    {
     "data": {
      "text/html": [
       "<pre>| 9.975ms                             | 100              | 130             |</pre>"
      ],
      "text/plain": [
       "| 9.975ms                             | 100              | 130             |"
      ]
     },
     "metadata": {},
     "output_type": "display_data"
    },
    {
     "data": {
      "text/html": [
       "<pre>+-------------------------------------+------------------+-----------------+</pre>"
      ],
      "text/plain": [
       "+-------------------------------------+------------------+-----------------+"
      ]
     },
     "metadata": {},
     "output_type": "display_data"
    },
    {
     "data": {
      "text/html": [
       "<pre>Finalizing lookup tables.</pre>"
      ],
      "text/plain": [
       "Finalizing lookup tables."
      ]
     },
     "metadata": {},
     "output_type": "display_data"
    },
    {
     "data": {
      "text/html": [
       "<pre>Generating candidate set for working with new users.</pre>"
      ],
      "text/plain": [
       "Generating candidate set for working with new users."
      ]
     },
     "metadata": {},
     "output_type": "display_data"
    },
    {
     "data": {
      "text/html": [
       "<pre>Finished training in 0.014448s</pre>"
      ],
      "text/plain": [
       "Finished training in 0.014448s"
      ]
     },
     "metadata": {},
     "output_type": "display_data"
    },
    {
     "data": {
      "text/html": [
       "<pre>recommendations finished on 1000/18484 queries. users per second: 32379.2</pre>"
      ],
      "text/plain": [
       "recommendations finished on 1000/18484 queries. users per second: 32379.2"
      ]
     },
     "metadata": {},
     "output_type": "display_data"
    },
    {
     "data": {
      "text/html": [
       "<pre>recommendations finished on 2000/18484 queries. users per second: 40514.5</pre>"
      ],
      "text/plain": [
       "recommendations finished on 2000/18484 queries. users per second: 40514.5"
      ]
     },
     "metadata": {},
     "output_type": "display_data"
    },
    {
     "data": {
      "text/html": [
       "<pre>recommendations finished on 3000/18484 queries. users per second: 44945.2</pre>"
      ],
      "text/plain": [
       "recommendations finished on 3000/18484 queries. users per second: 44945.2"
      ]
     },
     "metadata": {},
     "output_type": "display_data"
    },
    {
     "data": {
      "text/html": [
       "<pre>recommendations finished on 4000/18484 queries. users per second: 46767.2</pre>"
      ],
      "text/plain": [
       "recommendations finished on 4000/18484 queries. users per second: 46767.2"
      ]
     },
     "metadata": {},
     "output_type": "display_data"
    },
    {
     "data": {
      "text/html": [
       "<pre>recommendations finished on 5000/18484 queries. users per second: 48003.1</pre>"
      ],
      "text/plain": [
       "recommendations finished on 5000/18484 queries. users per second: 48003.1"
      ]
     },
     "metadata": {},
     "output_type": "display_data"
    },
    {
     "data": {
      "text/html": [
       "<pre>recommendations finished on 6000/18484 queries. users per second: 48765.8</pre>"
      ],
      "text/plain": [
       "recommendations finished on 6000/18484 queries. users per second: 48765.8"
      ]
     },
     "metadata": {},
     "output_type": "display_data"
    },
    {
     "data": {
      "text/html": [
       "<pre>recommendations finished on 7000/18484 queries. users per second: 51252.8</pre>"
      ],
      "text/plain": [
       "recommendations finished on 7000/18484 queries. users per second: 51252.8"
      ]
     },
     "metadata": {},
     "output_type": "display_data"
    },
    {
     "data": {
      "text/html": [
       "<pre>recommendations finished on 8000/18484 queries. users per second: 51815.1</pre>"
      ],
      "text/plain": [
       "recommendations finished on 8000/18484 queries. users per second: 51815.1"
      ]
     },
     "metadata": {},
     "output_type": "display_data"
    },
    {
     "data": {
      "text/html": [
       "<pre>recommendations finished on 9000/18484 queries. users per second: 51471.8</pre>"
      ],
      "text/plain": [
       "recommendations finished on 9000/18484 queries. users per second: 51471.8"
      ]
     },
     "metadata": {},
     "output_type": "display_data"
    },
    {
     "data": {
      "text/html": [
       "<pre>recommendations finished on 10000/18484 queries. users per second: 50977.2</pre>"
      ],
      "text/plain": [
       "recommendations finished on 10000/18484 queries. users per second: 50977.2"
      ]
     },
     "metadata": {},
     "output_type": "display_data"
    },
    {
     "data": {
      "text/html": [
       "<pre>recommendations finished on 11000/18484 queries. users per second: 51204.7</pre>"
      ],
      "text/plain": [
       "recommendations finished on 11000/18484 queries. users per second: 51204.7"
      ]
     },
     "metadata": {},
     "output_type": "display_data"
    },
    {
     "data": {
      "text/html": [
       "<pre>recommendations finished on 12000/18484 queries. users per second: 50983.3</pre>"
      ],
      "text/plain": [
       "recommendations finished on 12000/18484 queries. users per second: 50983.3"
      ]
     },
     "metadata": {},
     "output_type": "display_data"
    },
    {
     "data": {
      "text/html": [
       "<pre>recommendations finished on 13000/18484 queries. users per second: 51276.4</pre>"
      ],
      "text/plain": [
       "recommendations finished on 13000/18484 queries. users per second: 51276.4"
      ]
     },
     "metadata": {},
     "output_type": "display_data"
    },
    {
     "data": {
      "text/html": [
       "<pre>recommendations finished on 14000/18484 queries. users per second: 52521.2</pre>"
      ],
      "text/plain": [
       "recommendations finished on 14000/18484 queries. users per second: 52521.2"
      ]
     },
     "metadata": {},
     "output_type": "display_data"
    },
    {
     "data": {
      "text/html": [
       "<pre>recommendations finished on 15000/18484 queries. users per second: 52597.3</pre>"
      ],
      "text/plain": [
       "recommendations finished on 15000/18484 queries. users per second: 52597.3"
      ]
     },
     "metadata": {},
     "output_type": "display_data"
    },
    {
     "data": {
      "text/html": [
       "<pre>recommendations finished on 16000/18484 queries. users per second: 53007</pre>"
      ],
      "text/plain": [
       "recommendations finished on 16000/18484 queries. users per second: 53007"
      ]
     },
     "metadata": {},
     "output_type": "display_data"
    },
    {
     "data": {
      "text/html": [
       "<pre>recommendations finished on 17000/18484 queries. users per second: 53000.9</pre>"
      ],
      "text/plain": [
       "recommendations finished on 17000/18484 queries. users per second: 53000.9"
      ]
     },
     "metadata": {},
     "output_type": "display_data"
    },
    {
     "data": {
      "text/html": [
       "<pre>recommendations finished on 18000/18484 queries. users per second: 53651.3</pre>"
      ],
      "text/plain": [
       "recommendations finished on 18000/18484 queries. users per second: 53651.3"
      ]
     },
     "metadata": {},
     "output_type": "display_data"
    },
    {
     "name": "stdout",
     "output_type": "stream",
     "text": [
      "+------------+--------------------------------+-------+------+\n",
      "| CustomerID |          ProductName           | score | rank |\n",
      "+------------+--------------------------------+-------+------+\n",
      "|   11000    |     Road-550-W Yellow, 44      |  0.0  |  1   |\n",
      "|   11000    |     Water Bottle - 30 oz.      |  0.0  |  2   |\n",
      "|   11000    |    Mountain-200 Silver, 42     |  0.0  |  3   |\n",
      "|   11000    | Short-Sleeve Classic Jersey, L |  0.0  |  4   |\n",
      "|   11000    |       Road-750 Black, 48       |  0.0  |  5   |\n",
      "|   11000    |     Sport-100 Helmet, Blue     |  0.0  |  6   |\n",
      "|   11000    |   Women's Mountain Shorts, M   |  0.0  |  7   |\n",
      "|   11000    |         Road Tire Tube         |  0.0  |  8   |\n",
      "|   11000    |          LL Road Tire          |  0.0  |  9   |\n",
      "|   11000    |     Mountain-500 Black, 42     |  0.0  |  10  |\n",
      "|   11001    |        HL Mountain Tire        |  0.0  |  1   |\n",
      "|   11001    |     Road-550-W Yellow, 44      |  0.0  |  2   |\n",
      "|   11001    |    Mountain-200 Silver, 42     |  0.0  |  3   |\n",
      "|   11001    | Short-Sleeve Classic Jersey, L |  0.0  |  4   |\n",
      "|   11001    |       Road-750 Black, 48       |  0.0  |  5   |\n",
      "|   11001    |     Sport-100 Helmet, Blue     |  0.0  |  6   |\n",
      "|   11001    |   Women's Mountain Shorts, M   |  0.0  |  7   |\n",
      "|   11001    |         Road Tire Tube         |  0.0  |  8   |\n",
      "|   11001    |          LL Road Tire          |  0.0  |  9   |\n",
      "|   11001    |     Mountain-500 Black, 42     |  0.0  |  10  |\n",
      "|   11002    |        HL Mountain Tire        |  0.0  |  1   |\n",
      "|   11002    |     Road-550-W Yellow, 44      |  0.0  |  2   |\n",
      "|   11002    |     Water Bottle - 30 oz.      |  0.0  |  3   |\n",
      "|   11002    |    Mountain-200 Silver, 42     |  0.0  |  4   |\n",
      "|   11002    | Short-Sleeve Classic Jersey, L |  0.0  |  5   |\n",
      "|   11002    |       Road-750 Black, 48       |  0.0  |  6   |\n",
      "|   11002    |   Women's Mountain Shorts, M   |  0.0  |  7   |\n",
      "|   11002    |         Road Tire Tube         |  0.0  |  8   |\n",
      "|   11002    |          LL Road Tire          |  0.0  |  9   |\n",
      "|   11002    |     Mountain-500 Black, 42     |  0.0  |  10  |\n",
      "+------------+--------------------------------+-------+------+\n",
      "[184840 rows x 4 columns]\n",
      "\n"
     ]
    }
   ],
   "source": [
    "name = 'pearson'\n",
    "target = 'purchase_dummy'\n",
    "pear_dummy = model(train_data_dummy, name, user_id, item_id, target, users_to_recommend, n_rec, n_display)"
   ]
  },
  {
   "cell_type": "markdown",
   "metadata": {},
   "source": [
    "#### iii. Using scaled purchase count"
   ]
  },
  {
   "cell_type": "code",
   "execution_count": 24,
   "metadata": {
    "scrolled": false
   },
   "outputs": [
    {
     "data": {
      "text/html": [
       "<pre>Recsys training: model = item_similarity</pre>"
      ],
      "text/plain": [
       "Recsys training: model = item_similarity"
      ]
     },
     "metadata": {},
     "output_type": "display_data"
    },
    {
     "data": {
      "text/html": [
       "<pre>Preparing data set.</pre>"
      ],
      "text/plain": [
       "Preparing data set."
      ]
     },
     "metadata": {},
     "output_type": "display_data"
    },
    {
     "data": {
      "text/html": [
       "<pre>    Data has 37046 observations with 16239 users and 52 items.</pre>"
      ],
      "text/plain": [
       "    Data has 37046 observations with 16239 users and 52 items."
      ]
     },
     "metadata": {},
     "output_type": "display_data"
    },
    {
     "data": {
      "text/html": [
       "<pre>    Data prepared in: 0.063593s</pre>"
      ],
      "text/plain": [
       "    Data prepared in: 0.063593s"
      ]
     },
     "metadata": {},
     "output_type": "display_data"
    },
    {
     "data": {
      "text/html": [
       "<pre>Training model from provided data.</pre>"
      ],
      "text/plain": [
       "Training model from provided data."
      ]
     },
     "metadata": {},
     "output_type": "display_data"
    },
    {
     "data": {
      "text/html": [
       "<pre>Gathering per-item and per-user statistics.</pre>"
      ],
      "text/plain": [
       "Gathering per-item and per-user statistics."
      ]
     },
     "metadata": {},
     "output_type": "display_data"
    },
    {
     "data": {
      "text/html": [
       "<pre>+--------------------------------+------------+</pre>"
      ],
      "text/plain": [
       "+--------------------------------+------------+"
      ]
     },
     "metadata": {},
     "output_type": "display_data"
    },
    {
     "data": {
      "text/html": [
       "<pre>| Elapsed Time (Item Statistics) | % Complete |</pre>"
      ],
      "text/plain": [
       "| Elapsed Time (Item Statistics) | % Complete |"
      ]
     },
     "metadata": {},
     "output_type": "display_data"
    },
    {
     "data": {
      "text/html": [
       "<pre>+--------------------------------+------------+</pre>"
      ],
      "text/plain": [
       "+--------------------------------+------------+"
      ]
     },
     "metadata": {},
     "output_type": "display_data"
    },
    {
     "data": {
      "text/html": [
       "<pre>| 1.187ms                        | 43         |</pre>"
      ],
      "text/plain": [
       "| 1.187ms                        | 43         |"
      ]
     },
     "metadata": {},
     "output_type": "display_data"
    },
    {
     "data": {
      "text/html": [
       "<pre>| 18.017ms                       | 100        |</pre>"
      ],
      "text/plain": [
       "| 18.017ms                       | 100        |"
      ]
     },
     "metadata": {},
     "output_type": "display_data"
    },
    {
     "data": {
      "text/html": [
       "<pre>+--------------------------------+------------+</pre>"
      ],
      "text/plain": [
       "+--------------------------------+------------+"
      ]
     },
     "metadata": {},
     "output_type": "display_data"
    },
    {
     "data": {
      "text/html": [
       "<pre>Setting up lookup tables.</pre>"
      ],
      "text/plain": [
       "Setting up lookup tables."
      ]
     },
     "metadata": {},
     "output_type": "display_data"
    },
    {
     "data": {
      "text/html": [
       "<pre>Processing data in one pass using dense lookup tables.</pre>"
      ],
      "text/plain": [
       "Processing data in one pass using dense lookup tables."
      ]
     },
     "metadata": {},
     "output_type": "display_data"
    },
    {
     "data": {
      "text/html": [
       "<pre>+-------------------------------------+------------------+-----------------+</pre>"
      ],
      "text/plain": [
       "+-------------------------------------+------------------+-----------------+"
      ]
     },
     "metadata": {},
     "output_type": "display_data"
    },
    {
     "data": {
      "text/html": [
       "<pre>| Elapsed Time (Constructing Lookups) | Total % Complete | Items Processed |</pre>"
      ],
      "text/plain": [
       "| Elapsed Time (Constructing Lookups) | Total % Complete | Items Processed |"
      ]
     },
     "metadata": {},
     "output_type": "display_data"
    },
    {
     "data": {
      "text/html": [
       "<pre>+-------------------------------------+------------------+-----------------+</pre>"
      ],
      "text/plain": [
       "+-------------------------------------+------------------+-----------------+"
      ]
     },
     "metadata": {},
     "output_type": "display_data"
    },
    {
     "data": {
      "text/html": [
       "<pre>| 18.399ms                            | 0                | 0               |</pre>"
      ],
      "text/plain": [
       "| 18.399ms                            | 0                | 0               |"
      ]
     },
     "metadata": {},
     "output_type": "display_data"
    },
    {
     "data": {
      "text/html": [
       "<pre>| 27.168ms                            | 100              | 52              |</pre>"
      ],
      "text/plain": [
       "| 27.168ms                            | 100              | 52              |"
      ]
     },
     "metadata": {},
     "output_type": "display_data"
    },
    {
     "data": {
      "text/html": [
       "<pre>+-------------------------------------+------------------+-----------------+</pre>"
      ],
      "text/plain": [
       "+-------------------------------------+------------------+-----------------+"
      ]
     },
     "metadata": {},
     "output_type": "display_data"
    },
    {
     "data": {
      "text/html": [
       "<pre>Finalizing lookup tables.</pre>"
      ],
      "text/plain": [
       "Finalizing lookup tables."
      ]
     },
     "metadata": {},
     "output_type": "display_data"
    },
    {
     "data": {
      "text/html": [
       "<pre>Generating candidate set for working with new users.</pre>"
      ],
      "text/plain": [
       "Generating candidate set for working with new users."
      ]
     },
     "metadata": {},
     "output_type": "display_data"
    },
    {
     "data": {
      "text/html": [
       "<pre>Finished training in 0.036381s</pre>"
      ],
      "text/plain": [
       "Finished training in 0.036381s"
      ]
     },
     "metadata": {},
     "output_type": "display_data"
    },
    {
     "data": {
      "text/html": [
       "<pre>recommendations finished on 1000/18484 queries. users per second: 84860.8</pre>"
      ],
      "text/plain": [
       "recommendations finished on 1000/18484 queries. users per second: 84860.8"
      ]
     },
     "metadata": {},
     "output_type": "display_data"
    },
    {
     "data": {
      "text/html": [
       "<pre>recommendations finished on 2000/18484 queries. users per second: 128966</pre>"
      ],
      "text/plain": [
       "recommendations finished on 2000/18484 queries. users per second: 128966"
      ]
     },
     "metadata": {},
     "output_type": "display_data"
    },
    {
     "data": {
      "text/html": [
       "<pre>recommendations finished on 3000/18484 queries. users per second: 157052</pre>"
      ],
      "text/plain": [
       "recommendations finished on 3000/18484 queries. users per second: 157052"
      ]
     },
     "metadata": {},
     "output_type": "display_data"
    },
    {
     "data": {
      "text/html": [
       "<pre>recommendations finished on 4000/18484 queries. users per second: 176398</pre>"
      ],
      "text/plain": [
       "recommendations finished on 4000/18484 queries. users per second: 176398"
      ]
     },
     "metadata": {},
     "output_type": "display_data"
    },
    {
     "data": {
      "text/html": [
       "<pre>recommendations finished on 5000/18484 queries. users per second: 184291</pre>"
      ],
      "text/plain": [
       "recommendations finished on 5000/18484 queries. users per second: 184291"
      ]
     },
     "metadata": {},
     "output_type": "display_data"
    },
    {
     "data": {
      "text/html": [
       "<pre>recommendations finished on 6000/18484 queries. users per second: 190755</pre>"
      ],
      "text/plain": [
       "recommendations finished on 6000/18484 queries. users per second: 190755"
      ]
     },
     "metadata": {},
     "output_type": "display_data"
    },
    {
     "data": {
      "text/html": [
       "<pre>recommendations finished on 7000/18484 queries. users per second: 194019</pre>"
      ],
      "text/plain": [
       "recommendations finished on 7000/18484 queries. users per second: 194019"
      ]
     },
     "metadata": {},
     "output_type": "display_data"
    },
    {
     "data": {
      "text/html": [
       "<pre>recommendations finished on 8000/18484 queries. users per second: 202603</pre>"
      ],
      "text/plain": [
       "recommendations finished on 8000/18484 queries. users per second: 202603"
      ]
     },
     "metadata": {},
     "output_type": "display_data"
    },
    {
     "data": {
      "text/html": [
       "<pre>recommendations finished on 9000/18484 queries. users per second: 208551</pre>"
      ],
      "text/plain": [
       "recommendations finished on 9000/18484 queries. users per second: 208551"
      ]
     },
     "metadata": {},
     "output_type": "display_data"
    },
    {
     "data": {
      "text/html": [
       "<pre>recommendations finished on 10000/18484 queries. users per second: 213138</pre>"
      ],
      "text/plain": [
       "recommendations finished on 10000/18484 queries. users per second: 213138"
      ]
     },
     "metadata": {},
     "output_type": "display_data"
    },
    {
     "data": {
      "text/html": [
       "<pre>recommendations finished on 11000/18484 queries. users per second: 215016</pre>"
      ],
      "text/plain": [
       "recommendations finished on 11000/18484 queries. users per second: 215016"
      ]
     },
     "metadata": {},
     "output_type": "display_data"
    },
    {
     "data": {
      "text/html": [
       "<pre>recommendations finished on 12000/18484 queries. users per second: 216681</pre>"
      ],
      "text/plain": [
       "recommendations finished on 12000/18484 queries. users per second: 216681"
      ]
     },
     "metadata": {},
     "output_type": "display_data"
    },
    {
     "data": {
      "text/html": [
       "<pre>recommendations finished on 13000/18484 queries. users per second: 208839</pre>"
      ],
      "text/plain": [
       "recommendations finished on 13000/18484 queries. users per second: 208839"
      ]
     },
     "metadata": {},
     "output_type": "display_data"
    },
    {
     "data": {
      "text/html": [
       "<pre>recommendations finished on 14000/18484 queries. users per second: 207410</pre>"
      ],
      "text/plain": [
       "recommendations finished on 14000/18484 queries. users per second: 207410"
      ]
     },
     "metadata": {},
     "output_type": "display_data"
    },
    {
     "data": {
      "text/html": [
       "<pre>recommendations finished on 15000/18484 queries. users per second: 211870</pre>"
      ],
      "text/plain": [
       "recommendations finished on 15000/18484 queries. users per second: 211870"
      ]
     },
     "metadata": {},
     "output_type": "display_data"
    },
    {
     "data": {
      "text/html": [
       "<pre>recommendations finished on 16000/18484 queries. users per second: 212806</pre>"
      ],
      "text/plain": [
       "recommendations finished on 16000/18484 queries. users per second: 212806"
      ]
     },
     "metadata": {},
     "output_type": "display_data"
    },
    {
     "data": {
      "text/html": [
       "<pre>recommendations finished on 17000/18484 queries. users per second: 208188</pre>"
      ],
      "text/plain": [
       "recommendations finished on 17000/18484 queries. users per second: 208188"
      ]
     },
     "metadata": {},
     "output_type": "display_data"
    },
    {
     "data": {
      "text/html": [
       "<pre>recommendations finished on 18000/18484 queries. users per second: 203142</pre>"
      ],
      "text/plain": [
       "recommendations finished on 18000/18484 queries. users per second: 203142"
      ]
     },
     "metadata": {},
     "output_type": "display_data"
    },
    {
     "name": "stdout",
     "output_type": "stream",
     "text": [
      "+------------+-------------------------+----------------------+------+\n",
      "| CustomerID |       ProductName       |        score         | rank |\n",
      "+------------+-------------------------+----------------------+------+\n",
      "|   11000    |  Mountain-200 Black, 46 | 0.03312016465155482  |  1   |\n",
      "|   11000    |  Mountain-200 Black, 38 | 0.029540398084756104 |  2   |\n",
      "|   11000    |    Road-250 Black, 52   | 0.02880497503673098  |  3   |\n",
      "|   11000    |    Road-250 Black, 48   | 0.023902882419892666 |  4   |\n",
      "|   11000    | Mountain-200 Silver, 42 |  0.0208300252755483  |  5   |\n",
      "|   11000    |  Half-Finger Gloves, S  | 0.020581831534703582 |  6   |\n",
      "|   11000    |     Road-250 Red, 58    | 0.02040610690506137  |  7   |\n",
      "|   11000    |  All-Purpose Bike Stand | 0.02034255841962334  |  8   |\n",
      "|   11000    |    Road-250 Black, 58   | 0.01941655185616133  |  9   |\n",
      "|   11000    |    Road-250 Black, 44   | 0.018778289707613662 |  10  |\n",
      "|   11001    |  Mountain-200 Black, 46 | 0.03312132978044436  |  1   |\n",
      "|   11001    |  Mountain-200 Black, 38 | 0.029540379635699388 |  2   |\n",
      "|   11001    |    Road-250 Black, 52   | 0.02880373185413995  |  3   |\n",
      "|   11001    |       ML Road Tire      | 0.02813749297960232  |  4   |\n",
      "|   11001    |  Half-Finger Gloves, S  | 0.02706069889522735  |  5   |\n",
      "|   11001    |    Road-250 Black, 48   | 0.02390256878592849  |  6   |\n",
      "|   11001    |       HL Road Tire      | 0.023244213082305343 |  7   |\n",
      "|   11001    |  All-Purpose Bike Stand | 0.02266436936903973  |  8   |\n",
      "|   11001    |     LL Mountain Tire    | 0.022073985107968208 |  9   |\n",
      "|   11001    | Mountain-200 Silver, 42 | 0.020831170536222913 |  10  |\n",
      "|   11002    |  Mountain-200 Black, 46 | 0.03311459161726832  |  1   |\n",
      "|   11002    |    Road-250 Black, 52   | 0.028799411936551944 |  2   |\n",
      "|   11002    |    Road-250 Black, 48   | 0.023899852517116585 |  3   |\n",
      "|   11002    | Mountain-200 Silver, 38 | 0.021218667111325924 |  4   |\n",
      "|   11002    | Mountain-200 Silver, 42 | 0.020821213722229007 |  5   |\n",
      "|   11002    |     Road-250 Red, 58    | 0.020401030576147998 |  6   |\n",
      "|   11002    |  All-Purpose Bike Stand | 0.02026042321912285  |  7   |\n",
      "|   11002    |  Half-Finger Gloves, S  | 0.019673128922780364 |  8   |\n",
      "|   11002    |    Road-250 Black, 58   | 0.019412568279068843 |  9   |\n",
      "|   11002    |    Road-250 Black, 44   | 0.018776044599327125 |  10  |\n",
      "+------------+-------------------------+----------------------+------+\n",
      "[184840 rows x 4 columns]\n",
      "\n"
     ]
    }
   ],
   "source": [
    "name = 'pearson'\n",
    "target = 'scaled_purchase_freq'\n",
    "pear_norm = model(train_data_norm, name, user_id, item_id, target, users_to_recommend, n_rec, n_display)"
   ]
  },
  {
   "cell_type": "markdown",
   "metadata": {},
   "source": [
    "#### 8. Model Evaluation\n",
    "For evaluating recommendation engines, we can use the concept of RMSE and precision-recall.\n",
    "\n",
    "i. RMSE (Root Mean Squared Errors)\n",
    "Measures the error of predicted values\n",
    "Lesser the RMSE value, better the recommendations\n",
    "\n",
    "ii. Recall\n",
    "What percentage of products that a user buys are actually recommended?\n",
    "If a customer buys 5 products and the recommendation decided to show 3 of them, then the recall is 0.6\n",
    "\n",
    "iii. Precision\n",
    "Out of all the recommended items, how many the user actually liked?\n",
    "If 5 products were recommended to the customer out of which he buys 4 of them, then precision is 0.8"
   ]
  },
  {
   "cell_type": "markdown",
   "metadata": {},
   "source": [
    "#### Let’s first create initial callable variables for model evaluation:"
   ]
  },
  {
   "cell_type": "code",
   "execution_count": 25,
   "metadata": {},
   "outputs": [],
   "source": [
    "models_w_counts = [popularity, cos, pear]\n",
    "models_w_dummy = [pop_dummy, cos_dummy, pear_dummy]\n",
    "models_w_norm = [pop_norm, cos_norm, pear_norm]\n",
    "names_w_counts = ['Popularity Model on Purchase Counts', 'Cosine Similarity on Purchase Counts', 'Pearson Similarity on Purchase Counts']\n",
    "names_w_dummy = ['Popularity Model on Purchase Dummy', 'Cosine Similarity on Purchase Dummy', 'Pearson Similarity on Purchase Dummy']\n",
    "names_w_norm = ['Popularity Model on Scaled Purchase Counts', 'Cosine Similarity on Scaled Purchase Counts', 'Pearson Similarity on Scaled Purchase Counts']"
   ]
  },
  {
   "cell_type": "markdown",
   "metadata": {},
   "source": [
    "#### Lets compare all the models we have built based on RMSE and precision-recall characteristics:"
   ]
  },
  {
   "cell_type": "code",
   "execution_count": 26,
   "metadata": {
    "scrolled": false
   },
   "outputs": [
    {
     "name": "stdout",
     "output_type": "stream",
     "text": [
      "PROGRESS: Evaluate model Popularity Model on Purchase Counts\n"
     ]
    },
    {
     "data": {
      "text/html": [
       "<pre>recommendations finished on 1000/8803 queries. users per second: 102051</pre>"
      ],
      "text/plain": [
       "recommendations finished on 1000/8803 queries. users per second: 102051"
      ]
     },
     "metadata": {},
     "output_type": "display_data"
    },
    {
     "data": {
      "text/html": [
       "<pre>recommendations finished on 2000/8803 queries. users per second: 116272</pre>"
      ],
      "text/plain": [
       "recommendations finished on 2000/8803 queries. users per second: 116272"
      ]
     },
     "metadata": {},
     "output_type": "display_data"
    },
    {
     "data": {
      "text/html": [
       "<pre>recommendations finished on 3000/8803 queries. users per second: 111782</pre>"
      ],
      "text/plain": [
       "recommendations finished on 3000/8803 queries. users per second: 111782"
      ]
     },
     "metadata": {},
     "output_type": "display_data"
    },
    {
     "data": {
      "text/html": [
       "<pre>recommendations finished on 4000/8803 queries. users per second: 119225</pre>"
      ],
      "text/plain": [
       "recommendations finished on 4000/8803 queries. users per second: 119225"
      ]
     },
     "metadata": {},
     "output_type": "display_data"
    },
    {
     "data": {
      "text/html": [
       "<pre>recommendations finished on 5000/8803 queries. users per second: 113505</pre>"
      ],
      "text/plain": [
       "recommendations finished on 5000/8803 queries. users per second: 113505"
      ]
     },
     "metadata": {},
     "output_type": "display_data"
    },
    {
     "data": {
      "text/html": [
       "<pre>recommendations finished on 6000/8803 queries. users per second: 117105</pre>"
      ],
      "text/plain": [
       "recommendations finished on 6000/8803 queries. users per second: 117105"
      ]
     },
     "metadata": {},
     "output_type": "display_data"
    },
    {
     "data": {
      "text/html": [
       "<pre>recommendations finished on 7000/8803 queries. users per second: 116926</pre>"
      ],
      "text/plain": [
       "recommendations finished on 7000/8803 queries. users per second: 116926"
      ]
     },
     "metadata": {},
     "output_type": "display_data"
    },
    {
     "data": {
      "text/html": [
       "<pre>recommendations finished on 8000/8803 queries. users per second: 116095</pre>"
      ],
      "text/plain": [
       "recommendations finished on 8000/8803 queries. users per second: 116095"
      ]
     },
     "metadata": {},
     "output_type": "display_data"
    },
    {
     "name": "stdout",
     "output_type": "stream",
     "text": [
      "\n",
      "Precision and recall summary statistics by cutoff\n",
      "+--------+----------------------+----------------------+\n",
      "| cutoff |    mean_precision    |     mean_recall      |\n",
      "+--------+----------------------+----------------------+\n",
      "|   1    | 0.07213449960240828  | 0.054686353317501615 |\n",
      "|   2    | 0.04799500170396433  | 0.07218273351977761  |\n",
      "|   3    | 0.04244765042220469  | 0.09473673296801807  |\n",
      "|   4    | 0.055748040440758935 |  0.1671836260726413  |\n",
      "|   5    | 0.049028740202203665 | 0.18285726006105413  |\n",
      "|   6    | 0.047143019425195824 | 0.21253477800677567  |\n",
      "|   7    | 0.048522419305107006 |  0.2545575191718545  |\n",
      "|   8    | 0.04698682267408819  | 0.28113463303455183  |\n",
      "|   9    | 0.04439143221376553  |  0.2990773798254198  |\n",
      "|   10   |  0.0428944677950698  |  0.3208568868116759  |\n",
      "+--------+----------------------+----------------------+\n",
      "[10 rows x 3 columns]\n",
      "\n",
      "\n",
      "Overall RMSE: 0.25038784622738475\n",
      "\n",
      "Per User RMSE (best)\n",
      "+------------+------+-------+\n",
      "| CustomerID | rmse | count |\n",
      "+------------+------+-------+\n",
      "|   23778    | 0.0  |   1   |\n",
      "+------------+------+-------+\n",
      "[1 rows x 3 columns]\n",
      "\n",
      "\n",
      "Per User RMSE (worst)\n",
      "+------------+-------------------+-------+\n",
      "| CustomerID |        rmse       | count |\n",
      "+------------+-------------------+-------+\n",
      "|   11566    | 8.635043567921636 |   3   |\n",
      "+------------+-------------------+-------+\n",
      "[1 rows x 3 columns]\n",
      "\n",
      "\n",
      "Per Item RMSE (best)\n",
      "+----------------------------+------+-------+\n",
      "|        ProductName         | rmse | count |\n",
      "+----------------------------+------+-------+\n",
      "| Women's Mountain Shorts, M | 0.0  |   65  |\n",
      "+----------------------------+------+-------+\n",
      "[1 rows x 3 columns]\n",
      "\n",
      "\n",
      "Per Item RMSE (worst)\n",
      "+-------------------+--------------------+-------+\n",
      "|    ProductName    |        rmse        | count |\n",
      "+-------------------+--------------------+-------+\n",
      "| Touring Tire Tube | 0.9678073001927276 |  266  |\n",
      "+-------------------+--------------------+-------+\n",
      "[1 rows x 3 columns]\n",
      "\n",
      "PROGRESS: Evaluate model Cosine Similarity on Purchase Counts\n"
     ]
    },
    {
     "data": {
      "text/html": [
       "<pre>recommendations finished on 1000/8803 queries. users per second: 75884</pre>"
      ],
      "text/plain": [
       "recommendations finished on 1000/8803 queries. users per second: 75884"
      ]
     },
     "metadata": {},
     "output_type": "display_data"
    },
    {
     "data": {
      "text/html": [
       "<pre>recommendations finished on 2000/8803 queries. users per second: 77727.3</pre>"
      ],
      "text/plain": [
       "recommendations finished on 2000/8803 queries. users per second: 77727.3"
      ]
     },
     "metadata": {},
     "output_type": "display_data"
    },
    {
     "data": {
      "text/html": [
       "<pre>recommendations finished on 3000/8803 queries. users per second: 77039.6</pre>"
      ],
      "text/plain": [
       "recommendations finished on 3000/8803 queries. users per second: 77039.6"
      ]
     },
     "metadata": {},
     "output_type": "display_data"
    },
    {
     "data": {
      "text/html": [
       "<pre>recommendations finished on 4000/8803 queries. users per second: 77615.6</pre>"
      ],
      "text/plain": [
       "recommendations finished on 4000/8803 queries. users per second: 77615.6"
      ]
     },
     "metadata": {},
     "output_type": "display_data"
    },
    {
     "data": {
      "text/html": [
       "<pre>recommendations finished on 5000/8803 queries. users per second: 55719.6</pre>"
      ],
      "text/plain": [
       "recommendations finished on 5000/8803 queries. users per second: 55719.6"
      ]
     },
     "metadata": {},
     "output_type": "display_data"
    },
    {
     "data": {
      "text/html": [
       "<pre>recommendations finished on 6000/8803 queries. users per second: 55310.2</pre>"
      ],
      "text/plain": [
       "recommendations finished on 6000/8803 queries. users per second: 55310.2"
      ]
     },
     "metadata": {},
     "output_type": "display_data"
    },
    {
     "data": {
      "text/html": [
       "<pre>recommendations finished on 7000/8803 queries. users per second: 55918.1</pre>"
      ],
      "text/plain": [
       "recommendations finished on 7000/8803 queries. users per second: 55918.1"
      ]
     },
     "metadata": {},
     "output_type": "display_data"
    },
    {
     "data": {
      "text/html": [
       "<pre>recommendations finished on 8000/8803 queries. users per second: 56978.8</pre>"
      ],
      "text/plain": [
       "recommendations finished on 8000/8803 queries. users per second: 56978.8"
      ]
     },
     "metadata": {},
     "output_type": "display_data"
    },
    {
     "name": "stdout",
     "output_type": "stream",
     "text": [
      "\n",
      "Precision and recall summary statistics by cutoff\n",
      "+--------+----------------------+----------------------+\n",
      "| cutoff |    mean_precision    |     mean_recall      |\n",
      "+--------+----------------------+----------------------+\n",
      "|   1    | 0.024082699079859216 | 0.017706535831038792 |\n",
      "|   2    | 0.029876178575485662 | 0.04479434319829639  |\n",
      "|   3    | 0.04347002915672688  | 0.09835702655480037  |\n",
      "|   4    | 0.04117914347381591  | 0.12482653821118005  |\n",
      "|   5    | 0.041008747018061974 | 0.15381016392319405  |\n",
      "|   6    | 0.039797038888257835 | 0.18027192209005286  |\n",
      "|   7    | 0.03964557537203228  | 0.20901541501905024  |\n",
      "|   8    |  0.038921390435079   |  0.2333489755476571  |\n",
      "|   9    |  0.0384212452825427  |  0.2581042447650422  |\n",
      "|   10   | 0.038884471202998934 | 0.28794003306953475  |\n",
      "+--------+----------------------+----------------------+\n",
      "[10 rows x 3 columns]\n",
      "\n",
      "\n",
      "Overall RMSE: 0.9513775649965248\n",
      "\n",
      "Per User RMSE (best)\n",
      "+------------+---------------------+-------+\n",
      "| CustomerID |         rmse        | count |\n",
      "+------------+---------------------+-------+\n",
      "|   12666    | 0.38918835050769585 |   2   |\n",
      "+------------+---------------------+-------+\n",
      "[1 rows x 3 columns]\n",
      "\n",
      "\n",
      "Per User RMSE (worst)\n",
      "+------------+-----------------+-------+\n",
      "| CustomerID |       rmse      | count |\n",
      "+------------+-----------------+-------+\n",
      "|   11566    | 8.7975386729541 |   3   |\n",
      "+------------+-----------------+-------+\n",
      "[1 rows x 3 columns]\n",
      "\n",
      "\n",
      "Per Item RMSE (best)\n",
      "+----------------------+--------------------+-------+\n",
      "|     ProductName      |        rmse        | count |\n",
      "+----------------------+--------------------+-------+\n",
      "| Mountain Bottle Cage | 0.8065465577008313 |  375  |\n",
      "+----------------------+--------------------+-------+\n",
      "[1 rows x 3 columns]\n",
      "\n",
      "\n",
      "Per Item RMSE (worst)\n",
      "+-------------------+--------------------+-------+\n",
      "|    ProductName    |        rmse        | count |\n",
      "+-------------------+--------------------+-------+\n",
      "| Touring Tire Tube | 1.2864058752562502 |  266  |\n",
      "+-------------------+--------------------+-------+\n",
      "[1 rows x 3 columns]\n",
      "\n",
      "PROGRESS: Evaluate model Pearson Similarity on Purchase Counts\n"
     ]
    },
    {
     "data": {
      "text/html": [
       "<pre>recommendations finished on 1000/8803 queries. users per second: 91768.4</pre>"
      ],
      "text/plain": [
       "recommendations finished on 1000/8803 queries. users per second: 91768.4"
      ]
     },
     "metadata": {},
     "output_type": "display_data"
    },
    {
     "data": {
      "text/html": [
       "<pre>recommendations finished on 2000/8803 queries. users per second: 94246.3</pre>"
      ],
      "text/plain": [
       "recommendations finished on 2000/8803 queries. users per second: 94246.3"
      ]
     },
     "metadata": {},
     "output_type": "display_data"
    },
    {
     "data": {
      "text/html": [
       "<pre>recommendations finished on 3000/8803 queries. users per second: 84326.5</pre>"
      ],
      "text/plain": [
       "recommendations finished on 3000/8803 queries. users per second: 84326.5"
      ]
     },
     "metadata": {},
     "output_type": "display_data"
    },
    {
     "data": {
      "text/html": [
       "<pre>recommendations finished on 4000/8803 queries. users per second: 78230.4</pre>"
      ],
      "text/plain": [
       "recommendations finished on 4000/8803 queries. users per second: 78230.4"
      ]
     },
     "metadata": {},
     "output_type": "display_data"
    },
    {
     "data": {
      "text/html": [
       "<pre>recommendations finished on 5000/8803 queries. users per second: 77833.1</pre>"
      ],
      "text/plain": [
       "recommendations finished on 5000/8803 queries. users per second: 77833.1"
      ]
     },
     "metadata": {},
     "output_type": "display_data"
    },
    {
     "data": {
      "text/html": [
       "<pre>recommendations finished on 6000/8803 queries. users per second: 78475.5</pre>"
      ],
      "text/plain": [
       "recommendations finished on 6000/8803 queries. users per second: 78475.5"
      ]
     },
     "metadata": {},
     "output_type": "display_data"
    },
    {
     "data": {
      "text/html": [
       "<pre>recommendations finished on 7000/8803 queries. users per second: 78909.7</pre>"
      ],
      "text/plain": [
       "recommendations finished on 7000/8803 queries. users per second: 78909.7"
      ]
     },
     "metadata": {},
     "output_type": "display_data"
    },
    {
     "data": {
      "text/html": [
       "<pre>recommendations finished on 8000/8803 queries. users per second: 78916.5</pre>"
      ],
      "text/plain": [
       "recommendations finished on 8000/8803 queries. users per second: 78916.5"
      ]
     },
     "metadata": {},
     "output_type": "display_data"
    },
    {
     "name": "stdout",
     "output_type": "stream",
     "text": [
      "\n",
      "Precision and recall summary statistics by cutoff\n",
      "+--------+----------------------+---------------------+\n",
      "| cutoff |    mean_precision    |     mean_recall     |\n",
      "+--------+----------------------+---------------------+\n",
      "|   1    | 0.06304668862887612  | 0.04894575081727179 |\n",
      "|   2    | 0.03811200727024863  | 0.05862994938594165 |\n",
      "|   3    | 0.029989776212654914 | 0.06843721206154503 |\n",
      "|   4    | 0.025474270135181134 | 0.07661529529074668 |\n",
      "|   5    | 0.021538112007270276 | 0.08066694434977974 |\n",
      "|   6    | 0.019122268923473074 | 0.08589243565956063 |\n",
      "|   7    | 0.017818600801674786 | 0.09379504461862763 |\n",
      "|   8    | 0.01749403612404858  | 0.10469473790500713 |\n",
      "|   9    | 0.017127999293170267 | 0.11417067413886671 |\n",
      "|   10   | 0.018016585255026748 | 0.13213424716321465 |\n",
      "+--------+----------------------+---------------------+\n",
      "[10 rows x 3 columns]\n",
      "\n",
      "\n",
      "Overall RMSE: 0.2321305854961837\n",
      "\n",
      "Per User RMSE (best)\n",
      "+------------+------+-------+\n",
      "| CustomerID | rmse | count |\n",
      "+------------+------+-------+\n",
      "|   23778    | 0.0  |   1   |\n",
      "+------------+------+-------+\n",
      "[1 rows x 3 columns]\n",
      "\n",
      "\n",
      "Per User RMSE (worst)\n",
      "+------------+-------------------+-------+\n",
      "| CustomerID |        rmse       | count |\n",
      "+------------+-------------------+-------+\n",
      "|   11566    | 8.007424110810033 |   3   |\n",
      "+------------+-------------------+-------+\n",
      "[1 rows x 3 columns]\n",
      "\n",
      "\n",
      "Per Item RMSE (best)\n",
      "+----------------------------+------+-------+\n",
      "|        ProductName         | rmse | count |\n",
      "+----------------------------+------+-------+\n",
      "| Women's Mountain Shorts, M | 0.0  |   65  |\n",
      "+----------------------------+------+-------+\n",
      "[1 rows x 3 columns]\n",
      "\n",
      "\n",
      "Per Item RMSE (worst)\n",
      "+-------------------+--------------------+-------+\n",
      "|    ProductName    |        rmse        | count |\n",
      "+-------------------+--------------------+-------+\n",
      "| Touring Tire Tube | 0.8899503322442455 |  266  |\n",
      "+-------------------+--------------------+-------+\n",
      "[1 rows x 3 columns]\n",
      "\n",
      "PROGRESS: Evaluate model Popularity Model on Purchase Dummy\n"
     ]
    },
    {
     "data": {
      "text/html": [
       "<pre>recommendations finished on 1000/8711 queries. users per second: 80360</pre>"
      ],
      "text/plain": [
       "recommendations finished on 1000/8711 queries. users per second: 80360"
      ]
     },
     "metadata": {},
     "output_type": "display_data"
    },
    {
     "data": {
      "text/html": [
       "<pre>recommendations finished on 2000/8711 queries. users per second: 111123</pre>"
      ],
      "text/plain": [
       "recommendations finished on 2000/8711 queries. users per second: 111123"
      ]
     },
     "metadata": {},
     "output_type": "display_data"
    },
    {
     "data": {
      "text/html": [
       "<pre>recommendations finished on 3000/8711 queries. users per second: 108905</pre>"
      ],
      "text/plain": [
       "recommendations finished on 3000/8711 queries. users per second: 108905"
      ]
     },
     "metadata": {},
     "output_type": "display_data"
    },
    {
     "data": {
      "text/html": [
       "<pre>recommendations finished on 4000/8711 queries. users per second: 117014</pre>"
      ],
      "text/plain": [
       "recommendations finished on 4000/8711 queries. users per second: 117014"
      ]
     },
     "metadata": {},
     "output_type": "display_data"
    },
    {
     "data": {
      "text/html": [
       "<pre>recommendations finished on 5000/8711 queries. users per second: 112367</pre>"
      ],
      "text/plain": [
       "recommendations finished on 5000/8711 queries. users per second: 112367"
      ]
     },
     "metadata": {},
     "output_type": "display_data"
    },
    {
     "data": {
      "text/html": [
       "<pre>recommendations finished on 6000/8711 queries. users per second: 113323</pre>"
      ],
      "text/plain": [
       "recommendations finished on 6000/8711 queries. users per second: 113323"
      ]
     },
     "metadata": {},
     "output_type": "display_data"
    },
    {
     "data": {
      "text/html": [
       "<pre>recommendations finished on 7000/8711 queries. users per second: 112801</pre>"
      ],
      "text/plain": [
       "recommendations finished on 7000/8711 queries. users per second: 112801"
      ]
     },
     "metadata": {},
     "output_type": "display_data"
    },
    {
     "data": {
      "text/html": [
       "<pre>recommendations finished on 8000/8711 queries. users per second: 116570</pre>"
      ],
      "text/plain": [
       "recommendations finished on 8000/8711 queries. users per second: 116570"
      ]
     },
     "metadata": {},
     "output_type": "display_data"
    },
    {
     "name": "stdout",
     "output_type": "stream",
     "text": [
      "\n",
      "Precision and recall summary statistics by cutoff\n",
      "+--------+-----------------------+-----------------------+\n",
      "| cutoff |     mean_precision    |      mean_recall      |\n",
      "+--------+-----------------------+-----------------------+\n",
      "|   1    | 0.0010331764435770874 | 0.0006983507442696967 |\n",
      "|   2    |  0.018195385145218654 |  0.02866139874233099  |\n",
      "|   3    |  0.026097271648873044 |  0.06012098368601651  |\n",
      "|   4    |  0.023590862128343368 |   0.0729955101468129  |\n",
      "|   5    |  0.027367696016530836 |  0.10496084133726223  |\n",
      "|   6    |  0.023935254276202547 |  0.10947429176392598  |\n",
      "|   7    |  0.021745904193384347 |  0.11525351999752177  |\n",
      "|   8    |   0.020735277235679   |   0.1255576783960434  |\n",
      "|   9    |  0.019745149810584298 |  0.13403068187823136  |\n",
      "|   10   |  0.02003214326713352  |  0.14974211587975844  |\n",
      "+--------+-----------------------+-----------------------+\n",
      "[10 rows x 3 columns]\n",
      "\n",
      "\n",
      "Overall RMSE: 0.0\n",
      "\n",
      "Per User RMSE (best)\n",
      "+------------+------+-------+\n",
      "| CustomerID | rmse | count |\n",
      "+------------+------+-------+\n",
      "|   23618    | 0.0  |   2   |\n",
      "+------------+------+-------+\n",
      "[1 rows x 3 columns]\n",
      "\n",
      "\n",
      "Per User RMSE (worst)\n",
      "+------------+------+-------+\n",
      "| CustomerID | rmse | count |\n",
      "+------------+------+-------+\n",
      "|   21855    | 0.0  |   1   |\n",
      "+------------+------+-------+\n",
      "[1 rows x 3 columns]\n",
      "\n",
      "\n",
      "Per Item RMSE (best)\n",
      "+----------------------------+------+-------+\n",
      "|        ProductName         | rmse | count |\n",
      "+----------------------------+------+-------+\n",
      "| Women's Mountain Shorts, M | 0.0  |   70  |\n",
      "+----------------------------+------+-------+\n",
      "[1 rows x 3 columns]\n",
      "\n",
      "\n",
      "Per Item RMSE (worst)\n",
      "+-----------------------+------+-------+\n",
      "|      ProductName      | rmse | count |\n",
      "+-----------------------+------+-------+\n",
      "| Road-550-W Yellow, 44 | 0.0  |   54  |\n",
      "+-----------------------+------+-------+\n",
      "[1 rows x 3 columns]\n",
      "\n",
      "PROGRESS: Evaluate model Cosine Similarity on Purchase Dummy\n"
     ]
    },
    {
     "data": {
      "text/html": [
       "<pre>recommendations finished on 1000/8711 queries. users per second: 90711.2</pre>"
      ],
      "text/plain": [
       "recommendations finished on 1000/8711 queries. users per second: 90711.2"
      ]
     },
     "metadata": {},
     "output_type": "display_data"
    },
    {
     "data": {
      "text/html": [
       "<pre>recommendations finished on 2000/8711 queries. users per second: 91365.9</pre>"
      ],
      "text/plain": [
       "recommendations finished on 2000/8711 queries. users per second: 91365.9"
      ]
     },
     "metadata": {},
     "output_type": "display_data"
    },
    {
     "data": {
      "text/html": [
       "<pre>recommendations finished on 3000/8711 queries. users per second: 84381.1</pre>"
      ],
      "text/plain": [
       "recommendations finished on 3000/8711 queries. users per second: 84381.1"
      ]
     },
     "metadata": {},
     "output_type": "display_data"
    },
    {
     "data": {
      "text/html": [
       "<pre>recommendations finished on 4000/8711 queries. users per second: 82132.2</pre>"
      ],
      "text/plain": [
       "recommendations finished on 4000/8711 queries. users per second: 82132.2"
      ]
     },
     "metadata": {},
     "output_type": "display_data"
    },
    {
     "data": {
      "text/html": [
       "<pre>recommendations finished on 5000/8711 queries. users per second: 81536.8</pre>"
      ],
      "text/plain": [
       "recommendations finished on 5000/8711 queries. users per second: 81536.8"
      ]
     },
     "metadata": {},
     "output_type": "display_data"
    },
    {
     "data": {
      "text/html": [
       "<pre>recommendations finished on 6000/8711 queries. users per second: 83385.4</pre>"
      ],
      "text/plain": [
       "recommendations finished on 6000/8711 queries. users per second: 83385.4"
      ]
     },
     "metadata": {},
     "output_type": "display_data"
    },
    {
     "data": {
      "text/html": [
       "<pre>recommendations finished on 7000/8711 queries. users per second: 83323.4</pre>"
      ],
      "text/plain": [
       "recommendations finished on 7000/8711 queries. users per second: 83323.4"
      ]
     },
     "metadata": {},
     "output_type": "display_data"
    },
    {
     "data": {
      "text/html": [
       "<pre>recommendations finished on 8000/8711 queries. users per second: 80777.1</pre>"
      ],
      "text/plain": [
       "recommendations finished on 8000/8711 queries. users per second: 80777.1"
      ]
     },
     "metadata": {},
     "output_type": "display_data"
    },
    {
     "name": "stdout",
     "output_type": "stream",
     "text": [
      "\n",
      "Precision and recall summary statistics by cutoff\n",
      "+--------+----------------------+----------------------+\n",
      "| cutoff |    mean_precision    |     mean_recall      |\n",
      "+--------+----------------------+----------------------+\n",
      "|   1    | 0.048214900700263665 | 0.032368534219641976 |\n",
      "|   2    | 0.04861669153943305  | 0.06603988206846677  |\n",
      "|   3    | 0.04779397696399203  | 0.10038375125047184  |\n",
      "|   4    | 0.04428309034554006  | 0.12462321859061554  |\n",
      "|   5    | 0.04626334519572936  | 0.16622592671553757  |\n",
      "|   6    | 0.04695212949144756  | 0.20301083468630257  |\n",
      "|   7    | 0.046132148187021035 | 0.23378035980779616  |\n",
      "|   8    | 0.04491447594994829  |  0.2594988000940235  |\n",
      "|   9    | 0.042513297363486906 |  0.2755685203710681  |\n",
      "|   10   | 0.04037423946734032  |  0.2913506094283268  |\n",
      "+--------+----------------------+----------------------+\n",
      "[10 rows x 3 columns]\n",
      "\n",
      "\n",
      "Overall RMSE: 0.9130893431659411\n",
      "\n",
      "Per User RMSE (best)\n",
      "+------------+---------------------+-------+\n",
      "| CustomerID |         rmse        | count |\n",
      "+------------+---------------------+-------+\n",
      "|   26707    | 0.43462252616882324 |   1   |\n",
      "+------------+---------------------+-------+\n",
      "[1 rows x 3 columns]\n",
      "\n",
      "\n",
      "Per User RMSE (worst)\n",
      "+------------+------+-------+\n",
      "| CustomerID | rmse | count |\n",
      "+------------+------+-------+\n",
      "|   29048    | 1.0  |   2   |\n",
      "+------------+------+-------+\n",
      "[1 rows x 3 columns]\n",
      "\n",
      "\n",
      "Per Item RMSE (best)\n",
      "+--------------+--------------------+-------+\n",
      "| ProductName  |        rmse        | count |\n",
      "+--------------+--------------------+-------+\n",
      "| Touring Tire | 0.7985879023835484 |  175  |\n",
      "+--------------+--------------------+-------+\n",
      "[1 rows x 3 columns]\n",
      "\n",
      "\n",
      "Per Item RMSE (worst)\n",
      "+------------------+--------------------+-------+\n",
      "|   ProductName    |        rmse        | count |\n",
      "+------------------+--------------------+-------+\n",
      "| Road-650 Red, 52 | 0.9988347862809976 |   17  |\n",
      "+------------------+--------------------+-------+\n",
      "[1 rows x 3 columns]\n",
      "\n",
      "PROGRESS: Evaluate model Pearson Similarity on Purchase Dummy\n"
     ]
    },
    {
     "data": {
      "text/html": [
       "<pre>recommendations finished on 1000/8711 queries. users per second: 84210.5</pre>"
      ],
      "text/plain": [
       "recommendations finished on 1000/8711 queries. users per second: 84210.5"
      ]
     },
     "metadata": {},
     "output_type": "display_data"
    },
    {
     "data": {
      "text/html": [
       "<pre>recommendations finished on 2000/8711 queries. users per second: 102833</pre>"
      ],
      "text/plain": [
       "recommendations finished on 2000/8711 queries. users per second: 102833"
      ]
     },
     "metadata": {},
     "output_type": "display_data"
    },
    {
     "data": {
      "text/html": [
       "<pre>recommendations finished on 3000/8711 queries. users per second: 108046</pre>"
      ],
      "text/plain": [
       "recommendations finished on 3000/8711 queries. users per second: 108046"
      ]
     },
     "metadata": {},
     "output_type": "display_data"
    },
    {
     "data": {
      "text/html": [
       "<pre>recommendations finished on 4000/8711 queries. users per second: 116299</pre>"
      ],
      "text/plain": [
       "recommendations finished on 4000/8711 queries. users per second: 116299"
      ]
     },
     "metadata": {},
     "output_type": "display_data"
    },
    {
     "data": {
      "text/html": [
       "<pre>recommendations finished on 5000/8711 queries. users per second: 106200</pre>"
      ],
      "text/plain": [
       "recommendations finished on 5000/8711 queries. users per second: 106200"
      ]
     },
     "metadata": {},
     "output_type": "display_data"
    },
    {
     "data": {
      "text/html": [
       "<pre>recommendations finished on 6000/8711 queries. users per second: 105844</pre>"
      ],
      "text/plain": [
       "recommendations finished on 6000/8711 queries. users per second: 105844"
      ]
     },
     "metadata": {},
     "output_type": "display_data"
    },
    {
     "data": {
      "text/html": [
       "<pre>recommendations finished on 7000/8711 queries. users per second: 109060</pre>"
      ],
      "text/plain": [
       "recommendations finished on 7000/8711 queries. users per second: 109060"
      ]
     },
     "metadata": {},
     "output_type": "display_data"
    },
    {
     "data": {
      "text/html": [
       "<pre>recommendations finished on 8000/8711 queries. users per second: 105140</pre>"
      ],
      "text/plain": [
       "recommendations finished on 8000/8711 queries. users per second: 105140"
      ]
     },
     "metadata": {},
     "output_type": "display_data"
    },
    {
     "name": "stdout",
     "output_type": "stream",
     "text": [
      "\n",
      "Precision and recall summary statistics by cutoff\n",
      "+--------+----------------------+-----------------------+\n",
      "| cutoff |    mean_precision    |      mean_recall      |\n",
      "+--------+----------------------+-----------------------+\n",
      "|   1    | 0.001033176443577088 | 0.0006983507442696965 |\n",
      "|   2    | 0.018195385145218707 |  0.028661398742330976 |\n",
      "|   3    | 0.02609727164887309  |  0.06012098368601632  |\n",
      "|   4    | 0.02359086212834341  |  0.07299551014681324  |\n",
      "|   5    | 0.027367696016530912 |  0.10496084133726206  |\n",
      "|   6    | 0.023935254276202463 |  0.10947429176392569  |\n",
      "|   7    | 0.021745904193384322 |   0.1152535199975221  |\n",
      "|   8    | 0.020735277235679028 |  0.12555767839604395  |\n",
      "|   9    | 0.019745149810584398 |  0.13403068187823156  |\n",
      "|   10   | 0.020032143267133404 |   0.149742115879758   |\n",
      "+--------+----------------------+-----------------------+\n",
      "[10 rows x 3 columns]\n",
      "\n",
      "\n",
      "Overall RMSE: 1.0\n",
      "\n",
      "Per User RMSE (best)\n",
      "+------------+------+-------+\n",
      "| CustomerID | rmse | count |\n",
      "+------------+------+-------+\n",
      "|   23618    | 1.0  |   2   |\n",
      "+------------+------+-------+\n",
      "[1 rows x 3 columns]\n",
      "\n",
      "\n",
      "Per User RMSE (worst)\n",
      "+------------+------+-------+\n",
      "| CustomerID | rmse | count |\n",
      "+------------+------+-------+\n",
      "|   21855    | 1.0  |   1   |\n",
      "+------------+------+-------+\n",
      "[1 rows x 3 columns]\n",
      "\n",
      "\n",
      "Per Item RMSE (best)\n",
      "+----------------------------+------+-------+\n",
      "|        ProductName         | rmse | count |\n",
      "+----------------------------+------+-------+\n",
      "| Women's Mountain Shorts, M | 1.0  |   70  |\n",
      "+----------------------------+------+-------+\n",
      "[1 rows x 3 columns]\n",
      "\n",
      "\n",
      "Per Item RMSE (worst)\n",
      "+-----------------------+------+-------+\n",
      "|      ProductName      | rmse | count |\n",
      "+-----------------------+------+-------+\n",
      "| Road-550-W Yellow, 44 | 1.0  |   54  |\n",
      "+-----------------------+------+-------+\n",
      "[1 rows x 3 columns]\n",
      "\n",
      "PROGRESS: Evaluate model Popularity Model on Scaled Purchase Counts\n"
     ]
    },
    {
     "data": {
      "text/html": [
       "<pre>recommendations finished on 1000/7183 queries. users per second: 106519</pre>"
      ],
      "text/plain": [
       "recommendations finished on 1000/7183 queries. users per second: 106519"
      ]
     },
     "metadata": {},
     "output_type": "display_data"
    },
    {
     "data": {
      "text/html": [
       "<pre>recommendations finished on 2000/7183 queries. users per second: 134048</pre>"
      ],
      "text/plain": [
       "recommendations finished on 2000/7183 queries. users per second: 134048"
      ]
     },
     "metadata": {},
     "output_type": "display_data"
    },
    {
     "data": {
      "text/html": [
       "<pre>recommendations finished on 3000/7183 queries. users per second: 142884</pre>"
      ],
      "text/plain": [
       "recommendations finished on 3000/7183 queries. users per second: 142884"
      ]
     },
     "metadata": {},
     "output_type": "display_data"
    },
    {
     "data": {
      "text/html": [
       "<pre>recommendations finished on 4000/7183 queries. users per second: 142648</pre>"
      ],
      "text/plain": [
       "recommendations finished on 4000/7183 queries. users per second: 142648"
      ]
     },
     "metadata": {},
     "output_type": "display_data"
    },
    {
     "data": {
      "text/html": [
       "<pre>recommendations finished on 5000/7183 queries. users per second: 149361</pre>"
      ],
      "text/plain": [
       "recommendations finished on 5000/7183 queries. users per second: 149361"
      ]
     },
     "metadata": {},
     "output_type": "display_data"
    },
    {
     "data": {
      "text/html": [
       "<pre>recommendations finished on 6000/7183 queries. users per second: 130497</pre>"
      ],
      "text/plain": [
       "recommendations finished on 6000/7183 queries. users per second: 130497"
      ]
     },
     "metadata": {},
     "output_type": "display_data"
    },
    {
     "data": {
      "text/html": [
       "<pre>recommendations finished on 7000/7183 queries. users per second: 125527</pre>"
      ],
      "text/plain": [
       "recommendations finished on 7000/7183 queries. users per second: 125527"
      ]
     },
     "metadata": {},
     "output_type": "display_data"
    },
    {
     "name": "stdout",
     "output_type": "stream",
     "text": [
      "\n",
      "Precision and recall summary statistics by cutoff\n",
      "+--------+----------------------+----------------------+\n",
      "| cutoff |    mean_precision    |     mean_recall      |\n",
      "+--------+----------------------+----------------------+\n",
      "|   1    | 0.016706111652512835 | 0.012436772007981779 |\n",
      "|   2    | 0.017054155645273555 | 0.025627639333611636 |\n",
      "|   3    | 0.014664253561650204 | 0.03366745556638355  |\n",
      "|   4    | 0.01252958373938465  | 0.03849366559933196  |\n",
      "|   5    | 0.013169984686064347 |  0.0504315745510234  |\n",
      "|   6    | 0.013295280523458202 | 0.06071682698788377  |\n",
      "|   7    | 0.01344444223464129  |  0.0719818508869047  |\n",
      "|   8    | 0.012616594737574871 | 0.07691634127315664  |\n",
      "|   9    | 0.012142868191872786 | 0.08366839473271312  |\n",
      "|   10   |  0.0117221216761799  | 0.09000279540095786  |\n",
      "+--------+----------------------+----------------------+\n",
      "[10 rows x 3 columns]\n",
      "\n",
      "\n",
      "Overall RMSE: 0.09042432260902869\n",
      "\n",
      "Per User RMSE (best)\n",
      "+------------+----------------------+-------+\n",
      "| CustomerID |         rmse         | count |\n",
      "+------------+----------------------+-------+\n",
      "|   25688    | 0.002589453860640302 |   1   |\n",
      "+------------+----------------------+-------+\n",
      "[1 rows x 3 columns]\n",
      "\n",
      "\n",
      "Per User RMSE (worst)\n",
      "+------------+--------------------+-------+\n",
      "| CustomerID |        rmse        | count |\n",
      "+------------+--------------------+-------+\n",
      "|   17619    | 0.9953488372093023 |   1   |\n",
      "+------------+--------------------+-------+\n",
      "[1 rows x 3 columns]\n",
      "\n",
      "\n",
      "Per Item RMSE (best)\n",
      "+-----------------------+----------------------+-------+\n",
      "|      ProductName      |         rmse         | count |\n",
      "+-----------------------+----------------------+-------+\n",
      "| Road-550-W Yellow, 44 | 0.004405286343612335 |   59  |\n",
      "+-----------------------+----------------------+-------+\n",
      "[1 rows x 3 columns]\n",
      "\n",
      "\n",
      "Per Item RMSE (worst)\n",
      "+--------------------+---------------------+-------+\n",
      "|    ProductName     |         rmse        | count |\n",
      "+--------------------+---------------------+-------+\n",
      "| Road-250 Black, 48 | 0.27521702662233277 |   38  |\n",
      "+--------------------+---------------------+-------+\n",
      "[1 rows x 3 columns]\n",
      "\n",
      "PROGRESS: Evaluate model Cosine Similarity on Scaled Purchase Counts\n"
     ]
    },
    {
     "data": {
      "text/html": [
       "<pre>recommendations finished on 1000/7183 queries. users per second: 113225</pre>"
      ],
      "text/plain": [
       "recommendations finished on 1000/7183 queries. users per second: 113225"
      ]
     },
     "metadata": {},
     "output_type": "display_data"
    },
    {
     "data": {
      "text/html": [
       "<pre>recommendations finished on 2000/7183 queries. users per second: 109451</pre>"
      ],
      "text/plain": [
       "recommendations finished on 2000/7183 queries. users per second: 109451"
      ]
     },
     "metadata": {},
     "output_type": "display_data"
    },
    {
     "data": {
      "text/html": [
       "<pre>recommendations finished on 3000/7183 queries. users per second: 96525.1</pre>"
      ],
      "text/plain": [
       "recommendations finished on 3000/7183 queries. users per second: 96525.1"
      ]
     },
     "metadata": {},
     "output_type": "display_data"
    },
    {
     "data": {
      "text/html": [
       "<pre>recommendations finished on 4000/7183 queries. users per second: 101799</pre>"
      ],
      "text/plain": [
       "recommendations finished on 4000/7183 queries. users per second: 101799"
      ]
     },
     "metadata": {},
     "output_type": "display_data"
    },
    {
     "data": {
      "text/html": [
       "<pre>recommendations finished on 5000/7183 queries. users per second: 108227</pre>"
      ],
      "text/plain": [
       "recommendations finished on 5000/7183 queries. users per second: 108227"
      ]
     },
     "metadata": {},
     "output_type": "display_data"
    },
    {
     "data": {
      "text/html": [
       "<pre>recommendations finished on 6000/7183 queries. users per second: 96155.4</pre>"
      ],
      "text/plain": [
       "recommendations finished on 6000/7183 queries. users per second: 96155.4"
      ]
     },
     "metadata": {},
     "output_type": "display_data"
    },
    {
     "data": {
      "text/html": [
       "<pre>recommendations finished on 7000/7183 queries. users per second: 98917.6</pre>"
      ],
      "text/plain": [
       "recommendations finished on 7000/7183 queries. users per second: 98917.6"
      ]
     },
     "metadata": {},
     "output_type": "display_data"
    },
    {
     "name": "stdout",
     "output_type": "stream",
     "text": [
      "\n",
      "Precision and recall summary statistics by cutoff\n",
      "+--------+----------------------+----------------------+\n",
      "| cutoff |    mean_precision    |     mean_recall      |\n",
      "+--------+----------------------+----------------------+\n",
      "|   1    | 0.021717945148266624 | 0.016087919227276117 |\n",
      "|   2    | 0.020116942781567546 | 0.029990343160327837 |\n",
      "|   3    |  0.0339690936934429  | 0.07760773342702892  |\n",
      "|   4    | 0.036370597243491495 |  0.1122742409878702  |\n",
      "|   5    | 0.03399693721286379  |  0.1320365103672909  |\n",
      "|   6    | 0.03111513295280543  | 0.14390829096035926  |\n",
      "|   7    |  0.0353811578926433  | 0.18868818351973005  |\n",
      "|   8    | 0.03711889182792713  |  0.2274127183009261  |\n",
      "|   9    | 0.03495908549507321  |  0.2406457376212358  |\n",
      "|   10   | 0.03463733815954328  | 0.26658794243020956  |\n",
      "+--------+----------------------+----------------------+\n",
      "[10 rows x 3 columns]\n",
      "\n",
      "\n",
      "Overall RMSE: 0.08785621326090001\n",
      "\n",
      "Per User RMSE (best)\n",
      "+------------+------+-------+\n",
      "| CustomerID | rmse | count |\n",
      "+------------+------+-------+\n",
      "|   15095    | 0.0  |   3   |\n",
      "+------------+------+-------+\n",
      "[1 rows x 3 columns]\n",
      "\n",
      "\n",
      "Per User RMSE (worst)\n",
      "+------------+------+-------+\n",
      "| CustomerID | rmse | count |\n",
      "+------------+------+-------+\n",
      "|   15121    | 1.0  |   1   |\n",
      "+------------+------+-------+\n",
      "[1 rows x 3 columns]\n",
      "\n",
      "\n",
      "Per Item RMSE (best)\n",
      "+--------------------+------+-------+\n",
      "|    ProductName     | rmse | count |\n",
      "+--------------------+------+-------+\n",
      "| Road-250 Black, 52 | 0.0  |   69  |\n",
      "+--------------------+------+-------+\n",
      "[1 rows x 3 columns]\n",
      "\n",
      "\n",
      "Per Item RMSE (worst)\n",
      "+--------------------+--------------------+-------+\n",
      "|    ProductName     |        rmse        | count |\n",
      "+--------------------+--------------------+-------+\n",
      "| Road-250 Black, 48 | 0.2809757434745082 |   38  |\n",
      "+--------------------+--------------------+-------+\n",
      "[1 rows x 3 columns]\n",
      "\n",
      "PROGRESS: Evaluate model Pearson Similarity on Scaled Purchase Counts\n"
     ]
    },
    {
     "data": {
      "text/html": [
       "<pre>recommendations finished on 1000/7183 queries. users per second: 106781</pre>"
      ],
      "text/plain": [
       "recommendations finished on 1000/7183 queries. users per second: 106781"
      ]
     },
     "metadata": {},
     "output_type": "display_data"
    },
    {
     "data": {
      "text/html": [
       "<pre>recommendations finished on 2000/7183 queries. users per second: 110096</pre>"
      ],
      "text/plain": [
       "recommendations finished on 2000/7183 queries. users per second: 110096"
      ]
     },
     "metadata": {},
     "output_type": "display_data"
    },
    {
     "data": {
      "text/html": [
       "<pre>recommendations finished on 3000/7183 queries. users per second: 105831</pre>"
      ],
      "text/plain": [
       "recommendations finished on 3000/7183 queries. users per second: 105831"
      ]
     },
     "metadata": {},
     "output_type": "display_data"
    },
    {
     "data": {
      "text/html": [
       "<pre>recommendations finished on 4000/7183 queries. users per second: 110991</pre>"
      ],
      "text/plain": [
       "recommendations finished on 4000/7183 queries. users per second: 110991"
      ]
     },
     "metadata": {},
     "output_type": "display_data"
    },
    {
     "data": {
      "text/html": [
       "<pre>recommendations finished on 5000/7183 queries. users per second: 103573</pre>"
      ],
      "text/plain": [
       "recommendations finished on 5000/7183 queries. users per second: 103573"
      ]
     },
     "metadata": {},
     "output_type": "display_data"
    },
    {
     "data": {
      "text/html": [
       "<pre>recommendations finished on 6000/7183 queries. users per second: 99337.7</pre>"
      ],
      "text/plain": [
       "recommendations finished on 6000/7183 queries. users per second: 99337.7"
      ]
     },
     "metadata": {},
     "output_type": "display_data"
    },
    {
     "data": {
      "text/html": [
       "<pre>recommendations finished on 7000/7183 queries. users per second: 93536.6</pre>"
      ],
      "text/plain": [
       "recommendations finished on 7000/7183 queries. users per second: 93536.6"
      ]
     },
     "metadata": {},
     "output_type": "display_data"
    },
    {
     "name": "stdout",
     "output_type": "stream",
     "text": [
      "\n",
      "Precision and recall summary statistics by cutoff\n",
      "+--------+----------------------+----------------------+\n",
      "| cutoff |    mean_precision    |     mean_recall      |\n",
      "+--------+----------------------+----------------------+\n",
      "|   1    | 0.016706111652512932 | 0.012436772007981807 |\n",
      "|   2    | 0.017054155645273572 | 0.025627639333611747 |\n",
      "|   3    | 0.014664253561650143 | 0.03366745556638357  |\n",
      "|   4    | 0.012529583739384674 |  0.0384936655993317  |\n",
      "|   5    | 0.013225671724906043 | 0.05080282147663453  |\n",
      "|   6    | 0.01352730985196529  | 0.06270592602904973  |\n",
      "|   7    | 0.012668801336488933 | 0.06879669590236222  |\n",
      "|   8    | 0.012007517750243646 |  0.074009621482822   |\n",
      "|   9    | 0.011709746778659469 |  0.0812663387318823  |\n",
      "|   10   | 0.011708199916469441 | 0.08993318660240593  |\n",
      "+--------+----------------------+----------------------+\n",
      "[10 rows x 3 columns]\n",
      "\n",
      "\n",
      "Overall RMSE: 0.08715169228835211\n",
      "\n",
      "Per User RMSE (best)\n",
      "+------------+-----------------------+-------+\n",
      "| CustomerID |          rmse         | count |\n",
      "+------------+-----------------------+-------+\n",
      "|   26233    | 4.224362580751602e-07 |   1   |\n",
      "+------------+-----------------------+-------+\n",
      "[1 rows x 3 columns]\n",
      "\n",
      "\n",
      "Per User RMSE (worst)\n",
      "+------------+--------------------+-------+\n",
      "| CustomerID |        rmse        | count |\n",
      "+------------+--------------------+-------+\n",
      "|   24910    | 0.9953508935695471 |   1   |\n",
      "+------------+--------------------+-------+\n",
      "[1 rows x 3 columns]\n",
      "\n",
      "\n",
      "Per Item RMSE (best)\n",
      "+-----------------------+----------------------+-------+\n",
      "|      ProductName      |         rmse         | count |\n",
      "+-----------------------+----------------------+-------+\n",
      "| Road-550-W Yellow, 44 | 0.004403657137108982 |   59  |\n",
      "+-----------------------+----------------------+-------+\n",
      "[1 rows x 3 columns]\n",
      "\n",
      "\n",
      "Per Item RMSE (worst)\n",
      "+--------------------+--------------------+-------+\n",
      "|    ProductName     |        rmse        | count |\n",
      "+--------------------+--------------------+-------+\n",
      "| Road-250 Black, 48 | 0.2752172443975816 |   38  |\n",
      "+--------------------+--------------------+-------+\n",
      "[1 rows x 3 columns]\n",
      "\n"
     ]
    }
   ],
   "source": [
    "eval_counts = tc.recommender.util.compare_models(test_data, models_w_counts, model_names=names_w_counts)\n",
    "eval_dummy = tc.recommender.util.compare_models(test_data_dummy, models_w_dummy, model_names=names_w_dummy)\n",
    "eval_norm = tc.recommender.util.compare_models(test_data_norm, models_w_norm, model_names=names_w_norm)"
   ]
  },
  {
   "cell_type": "markdown",
   "metadata": {},
   "source": [
    "#### 8.1. Evaluation Output\n",
    "Based on RMSE\n",
    "\n",
    "\n",
    "\n",
    "1. Popularity on purchase counts : 0.25038784622738475\n",
    "2. cosine similarity on purchase counts : 0.9513775649965248\n",
    "3. Pearson similarity on purchase counts : 0.2321305854961837\n",
    "\n",
    " \n",
    "4. Popularity on purchase dummy : 0.0\n",
    "5. cosine similarity on purchase dummy : 0.9130893431659411\n",
    "6. Pearson similarity on purchase dummy : 1.0\n",
    "\n",
    " \n",
    "7. Popularity on scaled purchase counts : 0.09042432260902869\n",
    "8. cosine similarity on scaled purchase counts : 0.08785621326090001\n",
    "9. Pearson similarity on scaled purchase counts : 0.08715169228835211\n",
    "\n"
   ]
  },
  {
   "cell_type": "markdown",
   "metadata": {},
   "source": [
    "#### 8.2. Evaluation Summary\n",
    "Popularity v. Collaborative Filtering: We can see that the collaborative filtering algorithms work better than popularity model for purchase counts. Indeed, popularity model doesn’t give any personalizations as it only gives the same list of recommended items to every user.\n",
    "\n",
    "Below is the evaluation summary of the 6 Collaborative Filtering models\n",
    "\n",
    "1. Recommendation scores: The recommendation scores for the 'normalized purchase data in cosine similarity' is zero and constant. The recommendation scores for the 'purchase dummy data in pearson similarity' is zero and constant. Hence, these two models cannot be used, as the recommended item list for multiple users will be identical.\n",
    "\n",
    "2. Precision : We see that the precision for 'cosine similarity on purchase dummy' > 'cosine similarity on purchase counts' > 'Pearson similarity on purchase counts' > 'Pearson similarity on scaled purchase counts'\n",
    "\n",
    "3. Recall : We see that the recall for 'cosine similarity on purchase dummy' > 'Pearson similarity on purchase counts' > 'cosine similarity on purchase counts' > 'Pearson similarity on scaled purchase counts'\n",
    "\n",
    "4. RMSE: The RMSE for 'cosine similarity on purchase dummy' is lower than 'cosine similarity on purchase counts', and hence has a better outcome"
   ]
  },
  {
   "cell_type": "markdown",
   "metadata": {},
   "source": [
    "# Therefore, we select the Cosine similarity on Purchase Dummy approach as our final model. "
   ]
  },
  {
   "cell_type": "markdown",
   "metadata": {},
   "source": [
    "#### 9. Final Output\n",
    "We would like to manipulate the format for the recommendation output to one list, so that we can export to a csv file, and also a function that will return recommendation list upon providing a customer ID.\n",
    "\n",
    "\n",
    "We need to first re-run the model using the whole dataset, as we came to a final model using the train data and evaluated the same with the test set."
   ]
  },
  {
   "cell_type": "code",
   "execution_count": 27,
   "metadata": {
    "scrolled": false
   },
   "outputs": [
    {
     "data": {
      "text/html": [
       "<pre>Recsys training: model = item_similarity</pre>"
      ],
      "text/plain": [
       "Recsys training: model = item_similarity"
      ]
     },
     "metadata": {},
     "output_type": "display_data"
    },
    {
     "data": {
      "text/html": [
       "<pre>Warning: Ignoring columns PurchaseCount;</pre>"
      ],
      "text/plain": [
       "Warning: Ignoring columns PurchaseCount;"
      ]
     },
     "metadata": {},
     "output_type": "display_data"
    },
    {
     "data": {
      "text/html": [
       "<pre>    To use these columns in scoring predictions, use a model that allows the use of additional features.</pre>"
      ],
      "text/plain": [
       "    To use these columns in scoring predictions, use a model that allows the use of additional features."
      ]
     },
     "metadata": {},
     "output_type": "display_data"
    },
    {
     "data": {
      "text/html": [
       "<pre>Preparing data set.</pre>"
      ],
      "text/plain": [
       "Preparing data set."
      ]
     },
     "metadata": {},
     "output_type": "display_data"
    },
    {
     "data": {
      "text/html": [
       "<pre>    Data has 58922 observations with 18484 users and 130 items.</pre>"
      ],
      "text/plain": [
       "    Data has 58922 observations with 18484 users and 130 items."
      ]
     },
     "metadata": {},
     "output_type": "display_data"
    },
    {
     "data": {
      "text/html": [
       "<pre>    Data prepared in: 0.076368s</pre>"
      ],
      "text/plain": [
       "    Data prepared in: 0.076368s"
      ]
     },
     "metadata": {},
     "output_type": "display_data"
    },
    {
     "data": {
      "text/html": [
       "<pre>Training model from provided data.</pre>"
      ],
      "text/plain": [
       "Training model from provided data."
      ]
     },
     "metadata": {},
     "output_type": "display_data"
    },
    {
     "data": {
      "text/html": [
       "<pre>Gathering per-item and per-user statistics.</pre>"
      ],
      "text/plain": [
       "Gathering per-item and per-user statistics."
      ]
     },
     "metadata": {},
     "output_type": "display_data"
    },
    {
     "data": {
      "text/html": [
       "<pre>+--------------------------------+------------+</pre>"
      ],
      "text/plain": [
       "+--------------------------------+------------+"
      ]
     },
     "metadata": {},
     "output_type": "display_data"
    },
    {
     "data": {
      "text/html": [
       "<pre>| Elapsed Time (Item Statistics) | % Complete |</pre>"
      ],
      "text/plain": [
       "| Elapsed Time (Item Statistics) | % Complete |"
      ]
     },
     "metadata": {},
     "output_type": "display_data"
    },
    {
     "data": {
      "text/html": [
       "<pre>+--------------------------------+------------+</pre>"
      ],
      "text/plain": [
       "+--------------------------------+------------+"
      ]
     },
     "metadata": {},
     "output_type": "display_data"
    },
    {
     "data": {
      "text/html": [
       "<pre>| 893us                          | 37.75      |</pre>"
      ],
      "text/plain": [
       "| 893us                          | 37.75      |"
      ]
     },
     "metadata": {},
     "output_type": "display_data"
    },
    {
     "data": {
      "text/html": [
       "<pre>| 9.3ms                          | 100        |</pre>"
      ],
      "text/plain": [
       "| 9.3ms                          | 100        |"
      ]
     },
     "metadata": {},
     "output_type": "display_data"
    },
    {
     "data": {
      "text/html": [
       "<pre>+--------------------------------+------------+</pre>"
      ],
      "text/plain": [
       "+--------------------------------+------------+"
      ]
     },
     "metadata": {},
     "output_type": "display_data"
    },
    {
     "data": {
      "text/html": [
       "<pre>Setting up lookup tables.</pre>"
      ],
      "text/plain": [
       "Setting up lookup tables."
      ]
     },
     "metadata": {},
     "output_type": "display_data"
    },
    {
     "data": {
      "text/html": [
       "<pre>Processing data in one pass using dense lookup tables.</pre>"
      ],
      "text/plain": [
       "Processing data in one pass using dense lookup tables."
      ]
     },
     "metadata": {},
     "output_type": "display_data"
    },
    {
     "data": {
      "text/html": [
       "<pre>+-------------------------------------+------------------+-----------------+</pre>"
      ],
      "text/plain": [
       "+-------------------------------------+------------------+-----------------+"
      ]
     },
     "metadata": {},
     "output_type": "display_data"
    },
    {
     "data": {
      "text/html": [
       "<pre>| Elapsed Time (Constructing Lookups) | Total % Complete | Items Processed |</pre>"
      ],
      "text/plain": [
       "| Elapsed Time (Constructing Lookups) | Total % Complete | Items Processed |"
      ]
     },
     "metadata": {},
     "output_type": "display_data"
    },
    {
     "data": {
      "text/html": [
       "<pre>+-------------------------------------+------------------+-----------------+</pre>"
      ],
      "text/plain": [
       "+-------------------------------------+------------------+-----------------+"
      ]
     },
     "metadata": {},
     "output_type": "display_data"
    },
    {
     "data": {
      "text/html": [
       "<pre>| 10.262ms                            | 0                | 0               |</pre>"
      ],
      "text/plain": [
       "| 10.262ms                            | 0                | 0               |"
      ]
     },
     "metadata": {},
     "output_type": "display_data"
    },
    {
     "data": {
      "text/html": [
       "<pre>| 26.295ms                            | 100              | 130             |</pre>"
      ],
      "text/plain": [
       "| 26.295ms                            | 100              | 130             |"
      ]
     },
     "metadata": {},
     "output_type": "display_data"
    },
    {
     "data": {
      "text/html": [
       "<pre>+-------------------------------------+------------------+-----------------+</pre>"
      ],
      "text/plain": [
       "+-------------------------------------+------------------+-----------------+"
      ]
     },
     "metadata": {},
     "output_type": "display_data"
    },
    {
     "data": {
      "text/html": [
       "<pre>Finalizing lookup tables.</pre>"
      ],
      "text/plain": [
       "Finalizing lookup tables."
      ]
     },
     "metadata": {},
     "output_type": "display_data"
    },
    {
     "data": {
      "text/html": [
       "<pre>Generating candidate set for working with new users.</pre>"
      ],
      "text/plain": [
       "Generating candidate set for working with new users."
      ]
     },
     "metadata": {},
     "output_type": "display_data"
    },
    {
     "data": {
      "text/html": [
       "<pre>Finished training in 0.035491s</pre>"
      ],
      "text/plain": [
       "Finished training in 0.035491s"
      ]
     },
     "metadata": {},
     "output_type": "display_data"
    },
    {
     "data": {
      "text/html": [
       "<pre>recommendations finished on 1000/18484 queries. users per second: 151676</pre>"
      ],
      "text/plain": [
       "recommendations finished on 1000/18484 queries. users per second: 151676"
      ]
     },
     "metadata": {},
     "output_type": "display_data"
    },
    {
     "data": {
      "text/html": [
       "<pre>recommendations finished on 2000/18484 queries. users per second: 178971</pre>"
      ],
      "text/plain": [
       "recommendations finished on 2000/18484 queries. users per second: 178971"
      ]
     },
     "metadata": {},
     "output_type": "display_data"
    },
    {
     "data": {
      "text/html": [
       "<pre>recommendations finished on 3000/18484 queries. users per second: 158361</pre>"
      ],
      "text/plain": [
       "recommendations finished on 3000/18484 queries. users per second: 158361"
      ]
     },
     "metadata": {},
     "output_type": "display_data"
    },
    {
     "data": {
      "text/html": [
       "<pre>recommendations finished on 4000/18484 queries. users per second: 131935</pre>"
      ],
      "text/plain": [
       "recommendations finished on 4000/18484 queries. users per second: 131935"
      ]
     },
     "metadata": {},
     "output_type": "display_data"
    },
    {
     "data": {
      "text/html": [
       "<pre>recommendations finished on 5000/18484 queries. users per second: 123426</pre>"
      ],
      "text/plain": [
       "recommendations finished on 5000/18484 queries. users per second: 123426"
      ]
     },
     "metadata": {},
     "output_type": "display_data"
    },
    {
     "data": {
      "text/html": [
       "<pre>recommendations finished on 6000/18484 queries. users per second: 129646</pre>"
      ],
      "text/plain": [
       "recommendations finished on 6000/18484 queries. users per second: 129646"
      ]
     },
     "metadata": {},
     "output_type": "display_data"
    },
    {
     "data": {
      "text/html": [
       "<pre>recommendations finished on 7000/18484 queries. users per second: 140137</pre>"
      ],
      "text/plain": [
       "recommendations finished on 7000/18484 queries. users per second: 140137"
      ]
     },
     "metadata": {},
     "output_type": "display_data"
    },
    {
     "data": {
      "text/html": [
       "<pre>recommendations finished on 8000/18484 queries. users per second: 132740</pre>"
      ],
      "text/plain": [
       "recommendations finished on 8000/18484 queries. users per second: 132740"
      ]
     },
     "metadata": {},
     "output_type": "display_data"
    },
    {
     "data": {
      "text/html": [
       "<pre>recommendations finished on 9000/18484 queries. users per second: 129842</pre>"
      ],
      "text/plain": [
       "recommendations finished on 9000/18484 queries. users per second: 129842"
      ]
     },
     "metadata": {},
     "output_type": "display_data"
    },
    {
     "data": {
      "text/html": [
       "<pre>recommendations finished on 10000/18484 queries. users per second: 129468</pre>"
      ],
      "text/plain": [
       "recommendations finished on 10000/18484 queries. users per second: 129468"
      ]
     },
     "metadata": {},
     "output_type": "display_data"
    },
    {
     "data": {
      "text/html": [
       "<pre>recommendations finished on 11000/18484 queries. users per second: 135024</pre>"
      ],
      "text/plain": [
       "recommendations finished on 11000/18484 queries. users per second: 135024"
      ]
     },
     "metadata": {},
     "output_type": "display_data"
    },
    {
     "data": {
      "text/html": [
       "<pre>recommendations finished on 12000/18484 queries. users per second: 136911</pre>"
      ],
      "text/plain": [
       "recommendations finished on 12000/18484 queries. users per second: 136911"
      ]
     },
     "metadata": {},
     "output_type": "display_data"
    },
    {
     "data": {
      "text/html": [
       "<pre>recommendations finished on 13000/18484 queries. users per second: 140050</pre>"
      ],
      "text/plain": [
       "recommendations finished on 13000/18484 queries. users per second: 140050"
      ]
     },
     "metadata": {},
     "output_type": "display_data"
    },
    {
     "data": {
      "text/html": [
       "<pre>recommendations finished on 14000/18484 queries. users per second: 143121</pre>"
      ],
      "text/plain": [
       "recommendations finished on 14000/18484 queries. users per second: 143121"
      ]
     },
     "metadata": {},
     "output_type": "display_data"
    },
    {
     "data": {
      "text/html": [
       "<pre>recommendations finished on 15000/18484 queries. users per second: 143272</pre>"
      ],
      "text/plain": [
       "recommendations finished on 15000/18484 queries. users per second: 143272"
      ]
     },
     "metadata": {},
     "output_type": "display_data"
    },
    {
     "data": {
      "text/html": [
       "<pre>recommendations finished on 16000/18484 queries. users per second: 139270</pre>"
      ],
      "text/plain": [
       "recommendations finished on 16000/18484 queries. users per second: 139270"
      ]
     },
     "metadata": {},
     "output_type": "display_data"
    },
    {
     "data": {
      "text/html": [
       "<pre>recommendations finished on 17000/18484 queries. users per second: 140236</pre>"
      ],
      "text/plain": [
       "recommendations finished on 17000/18484 queries. users per second: 140236"
      ]
     },
     "metadata": {},
     "output_type": "display_data"
    },
    {
     "data": {
      "text/html": [
       "<pre>recommendations finished on 18000/18484 queries. users per second: 140145</pre>"
      ],
      "text/plain": [
       "recommendations finished on 18000/18484 queries. users per second: 140145"
      ]
     },
     "metadata": {},
     "output_type": "display_data"
    },
    {
     "name": "stdout",
     "output_type": "stream",
     "text": [
      "+------------+-------------------------+----------------------+------+\n",
      "| CustomerID |       ProductName       |        score         | rank |\n",
      "+------------+-------------------------+----------------------+------+\n",
      "|   11000    |   Mountain Bottle Cage  | 0.10170374810695648  |  1   |\n",
      "|   11000    |  Water Bottle - 30 oz.  | 0.09968318790197372  |  2   |\n",
      "|   11000    |       AWC Logo Cap      | 0.08919692039489746  |  3   |\n",
      "|   11000    |   Patch Kit/8 Patches   | 0.08583327382802963  |  4   |\n",
      "|   11000    |     HL Mountain Tire    | 0.08068738132715225  |  5   |\n",
      "|   11000    |    Mountain Tire Tube   | 0.07670731097459793  |  6   |\n",
      "|   11000    |  Sport-100 Helmet, Blue | 0.07248257100582123  |  7   |\n",
      "|   11000    | Sport-100 Helmet, Black | 0.07234588265419006  |  8   |\n",
      "|   11000    |     Road Bottle Cage    |  0.0666889101266861  |  9   |\n",
      "|   11000    | Hydration Pack - 70 oz. | 0.06438815593719482  |  10  |\n",
      "|   11001    |  Sport-100 Helmet, Red  |  0.090486341714859   |  1   |\n",
      "|   11001    |     HL Mountain Tire    | 0.09012446999549865  |  2   |\n",
      "|   11001    |    Mountain Tire Tube   |  0.0859462559223175  |  3   |\n",
      "|   11001    |  Sport-100 Helmet, Blue | 0.08061713576316834  |  4   |\n",
      "|   11001    | Hydration Pack - 70 oz. | 0.07895343899726867  |  5   |\n",
      "|   11001    |  Mountain-200 Black, 46 | 0.07362765669822693  |  6   |\n",
      "|   11001    |  Mountain-200 Black, 42 | 0.07180354595184327  |  7   |\n",
      "|   11001    |  Mountain-200 Black, 38 | 0.07118539214134216  |  8   |\n",
      "|   11001    | Mountain-200 Silver, 46 | 0.07049658298492431  |  9   |\n",
      "|   11001    |  Bike Wash - Dissolver  | 0.06544384956359864  |  10  |\n",
      "|   11002    |  Water Bottle - 30 oz.  | 0.08954739570617676  |  1   |\n",
      "|   11002    |   Mountain Bottle Cage  | 0.08844566345214844  |  2   |\n",
      "|   11002    |  Fender Set - Mountain  | 0.07882776856422424  |  3   |\n",
      "|   11002    |     HL Mountain Tire    |  0.0723114162683487  |  4   |\n",
      "|   11002    |     Road Bottle Cage    | 0.07166166603565216  |  5   |\n",
      "|   11002    |    Mountain Tire Tube   | 0.07029308378696442  |  6   |\n",
      "|   11002    |       AWC Logo Cap      | 0.06807109713554382  |  7   |\n",
      "|   11002    |  Mountain-200 Black, 42 | 0.06416791677474976  |  8   |\n",
      "|   11002    |       Touring Tire      | 0.062151744961738586 |  9   |\n",
      "|   11002    |    Touring Tire Tube    | 0.05800147354602814  |  10  |\n",
      "+------------+-------------------------+----------------------+------+\n",
      "[184840 rows x 4 columns]\n",
      "\n"
     ]
    }
   ],
   "source": [
    "users_to_recommend = list(customers[user_id])\n",
    "\n",
    "final_model = tc.item_similarity_recommender.create(tc.SFrame(data_dummy), \n",
    "                                            user_id=user_id, \n",
    "                                            item_id=item_id, \n",
    "                                            target='purchase_dummy', \n",
    "                                            similarity_type='cosine')\n",
    "\n",
    "recom = final_model.recommend(users=users_to_recommend, k=n_rec)\n",
    "recom.print_rows(n_display)"
   ]
  },
  {
   "cell_type": "markdown",
   "metadata": {},
   "source": [
    "####  9.1. CSV output file\n",
    "Here we want to print our result to a csv output:"
   ]
  },
  {
   "cell_type": "code",
   "execution_count": 28,
   "metadata": {},
   "outputs": [
    {
     "name": "stdout",
     "output_type": "stream",
     "text": [
      "(184840, 4)\n"
     ]
    },
    {
     "data": {
      "text/html": [
       "<div>\n",
       "<style scoped>\n",
       "    .dataframe tbody tr th:only-of-type {\n",
       "        vertical-align: middle;\n",
       "    }\n",
       "\n",
       "    .dataframe tbody tr th {\n",
       "        vertical-align: top;\n",
       "    }\n",
       "\n",
       "    .dataframe thead th {\n",
       "        text-align: right;\n",
       "    }\n",
       "</style>\n",
       "<table border=\"1\" class=\"dataframe\">\n",
       "  <thead>\n",
       "    <tr style=\"text-align: right;\">\n",
       "      <th></th>\n",
       "      <th>CustomerID</th>\n",
       "      <th>ProductName</th>\n",
       "      <th>score</th>\n",
       "      <th>rank</th>\n",
       "    </tr>\n",
       "  </thead>\n",
       "  <tbody>\n",
       "    <tr>\n",
       "      <th>0</th>\n",
       "      <td>11000</td>\n",
       "      <td>Mountain Bottle Cage</td>\n",
       "      <td>0.101704</td>\n",
       "      <td>1</td>\n",
       "    </tr>\n",
       "    <tr>\n",
       "      <th>1</th>\n",
       "      <td>11000</td>\n",
       "      <td>Water Bottle - 30 oz.</td>\n",
       "      <td>0.099683</td>\n",
       "      <td>2</td>\n",
       "    </tr>\n",
       "    <tr>\n",
       "      <th>2</th>\n",
       "      <td>11000</td>\n",
       "      <td>AWC Logo Cap</td>\n",
       "      <td>0.089197</td>\n",
       "      <td>3</td>\n",
       "    </tr>\n",
       "    <tr>\n",
       "      <th>3</th>\n",
       "      <td>11000</td>\n",
       "      <td>Patch Kit/8 Patches</td>\n",
       "      <td>0.085833</td>\n",
       "      <td>4</td>\n",
       "    </tr>\n",
       "    <tr>\n",
       "      <th>4</th>\n",
       "      <td>11000</td>\n",
       "      <td>HL Mountain Tire</td>\n",
       "      <td>0.080687</td>\n",
       "      <td>5</td>\n",
       "    </tr>\n",
       "  </tbody>\n",
       "</table>\n",
       "</div>"
      ],
      "text/plain": [
       "   CustomerID            ProductName     score  rank\n",
       "0       11000   Mountain Bottle Cage  0.101704     1\n",
       "1       11000  Water Bottle - 30 oz.  0.099683     2\n",
       "2       11000           AWC Logo Cap  0.089197     3\n",
       "3       11000    Patch Kit/8 Patches  0.085833     4\n",
       "4       11000       HL Mountain Tire  0.080687     5"
      ]
     },
     "execution_count": 28,
     "metadata": {},
     "output_type": "execute_result"
    }
   ],
   "source": [
    "df_rec = recom.to_dataframe()\n",
    "print(df_rec.shape)\n",
    "df_rec.head()"
   ]
  },
  {
   "cell_type": "markdown",
   "metadata": {},
   "source": [
    "#### Let’s define a function to create a desired output:"
   ]
  },
  {
   "cell_type": "code",
   "execution_count": 35,
   "metadata": {},
   "outputs": [],
   "source": [
    "def create_output(model, users_to_recommend, n_rec, print_csv=True):\n",
    "    recomendation = model.recommend(users=users_to_recommend, k=n_rec)\n",
    "    df_rec = recomendation.to_dataframe()\n",
    "    df_rec['RecommendedProducts'] = df_rec.groupby([user_id])[item_id] \\\n",
    "        .transform(lambda x: '|'.join(x.astype(str)))\n",
    "    df_output = df_rec[['CustomerID', 'RecommendedProducts']].drop_duplicates() \\\n",
    "        .sort_values('CustomerID').set_index('CustomerID')\n",
    "    if print_csv:\n",
    "        df_output.to_csv('/Users/joeldias/Desktop/option1_recommendation.csv')\n",
    "        print(\"An output file can be found in 'output' folder with name 'option1_recommendation.csv'\")\n",
    "    return df_output"
   ]
  },
  {
   "cell_type": "markdown",
   "metadata": {},
   "source": [
    "#### Lets print the output below and setprint_csv to true, this way we can print out our output file in csv"
   ]
  },
  {
   "cell_type": "code",
   "execution_count": 36,
   "metadata": {},
   "outputs": [
    {
     "data": {
      "text/html": [
       "<pre>recommendations finished on 1000/18484 queries. users per second: 173581</pre>"
      ],
      "text/plain": [
       "recommendations finished on 1000/18484 queries. users per second: 173581"
      ]
     },
     "metadata": {},
     "output_type": "display_data"
    },
    {
     "data": {
      "text/html": [
       "<pre>recommendations finished on 2000/18484 queries. users per second: 237023</pre>"
      ],
      "text/plain": [
       "recommendations finished on 2000/18484 queries. users per second: 237023"
      ]
     },
     "metadata": {},
     "output_type": "display_data"
    },
    {
     "data": {
      "text/html": [
       "<pre>recommendations finished on 3000/18484 queries. users per second: 254087</pre>"
      ],
      "text/plain": [
       "recommendations finished on 3000/18484 queries. users per second: 254087"
      ]
     },
     "metadata": {},
     "output_type": "display_data"
    },
    {
     "data": {
      "text/html": [
       "<pre>recommendations finished on 4000/18484 queries. users per second: 183024</pre>"
      ],
      "text/plain": [
       "recommendations finished on 4000/18484 queries. users per second: 183024"
      ]
     },
     "metadata": {},
     "output_type": "display_data"
    },
    {
     "data": {
      "text/html": [
       "<pre>recommendations finished on 5000/18484 queries. users per second: 200393</pre>"
      ],
      "text/plain": [
       "recommendations finished on 5000/18484 queries. users per second: 200393"
      ]
     },
     "metadata": {},
     "output_type": "display_data"
    },
    {
     "data": {
      "text/html": [
       "<pre>recommendations finished on 6000/18484 queries. users per second: 141087</pre>"
      ],
      "text/plain": [
       "recommendations finished on 6000/18484 queries. users per second: 141087"
      ]
     },
     "metadata": {},
     "output_type": "display_data"
    },
    {
     "data": {
      "text/html": [
       "<pre>recommendations finished on 7000/18484 queries. users per second: 119828</pre>"
      ],
      "text/plain": [
       "recommendations finished on 7000/18484 queries. users per second: 119828"
      ]
     },
     "metadata": {},
     "output_type": "display_data"
    },
    {
     "data": {
      "text/html": [
       "<pre>recommendations finished on 8000/18484 queries. users per second: 110922</pre>"
      ],
      "text/plain": [
       "recommendations finished on 8000/18484 queries. users per second: 110922"
      ]
     },
     "metadata": {},
     "output_type": "display_data"
    },
    {
     "data": {
      "text/html": [
       "<pre>recommendations finished on 9000/18484 queries. users per second: 106092</pre>"
      ],
      "text/plain": [
       "recommendations finished on 9000/18484 queries. users per second: 106092"
      ]
     },
     "metadata": {},
     "output_type": "display_data"
    },
    {
     "data": {
      "text/html": [
       "<pre>recommendations finished on 10000/18484 queries. users per second: 103821</pre>"
      ],
      "text/plain": [
       "recommendations finished on 10000/18484 queries. users per second: 103821"
      ]
     },
     "metadata": {},
     "output_type": "display_data"
    },
    {
     "data": {
      "text/html": [
       "<pre>recommendations finished on 11000/18484 queries. users per second: 102037</pre>"
      ],
      "text/plain": [
       "recommendations finished on 11000/18484 queries. users per second: 102037"
      ]
     },
     "metadata": {},
     "output_type": "display_data"
    },
    {
     "data": {
      "text/html": [
       "<pre>recommendations finished on 12000/18484 queries. users per second: 101830</pre>"
      ],
      "text/plain": [
       "recommendations finished on 12000/18484 queries. users per second: 101830"
      ]
     },
     "metadata": {},
     "output_type": "display_data"
    },
    {
     "data": {
      "text/html": [
       "<pre>recommendations finished on 13000/18484 queries. users per second: 106550</pre>"
      ],
      "text/plain": [
       "recommendations finished on 13000/18484 queries. users per second: 106550"
      ]
     },
     "metadata": {},
     "output_type": "display_data"
    },
    {
     "data": {
      "text/html": [
       "<pre>recommendations finished on 14000/18484 queries. users per second: 106562</pre>"
      ],
      "text/plain": [
       "recommendations finished on 14000/18484 queries. users per second: 106562"
      ]
     },
     "metadata": {},
     "output_type": "display_data"
    },
    {
     "data": {
      "text/html": [
       "<pre>recommendations finished on 15000/18484 queries. users per second: 104946</pre>"
      ],
      "text/plain": [
       "recommendations finished on 15000/18484 queries. users per second: 104946"
      ]
     },
     "metadata": {},
     "output_type": "display_data"
    },
    {
     "data": {
      "text/html": [
       "<pre>recommendations finished on 16000/18484 queries. users per second: 102809</pre>"
      ],
      "text/plain": [
       "recommendations finished on 16000/18484 queries. users per second: 102809"
      ]
     },
     "metadata": {},
     "output_type": "display_data"
    },
    {
     "data": {
      "text/html": [
       "<pre>recommendations finished on 17000/18484 queries. users per second: 101507</pre>"
      ],
      "text/plain": [
       "recommendations finished on 17000/18484 queries. users per second: 101507"
      ]
     },
     "metadata": {},
     "output_type": "display_data"
    },
    {
     "data": {
      "text/html": [
       "<pre>recommendations finished on 18000/18484 queries. users per second: 104775</pre>"
      ],
      "text/plain": [
       "recommendations finished on 18000/18484 queries. users per second: 104775"
      ]
     },
     "metadata": {},
     "output_type": "display_data"
    },
    {
     "name": "stdout",
     "output_type": "stream",
     "text": [
      "An output file can be found in 'output' folder with name 'option1_recommendation.csv'\n",
      "(18484, 1)\n"
     ]
    },
    {
     "data": {
      "text/html": [
       "<div>\n",
       "<style scoped>\n",
       "    .dataframe tbody tr th:only-of-type {\n",
       "        vertical-align: middle;\n",
       "    }\n",
       "\n",
       "    .dataframe tbody tr th {\n",
       "        vertical-align: top;\n",
       "    }\n",
       "\n",
       "    .dataframe thead th {\n",
       "        text-align: right;\n",
       "    }\n",
       "</style>\n",
       "<table border=\"1\" class=\"dataframe\">\n",
       "  <thead>\n",
       "    <tr style=\"text-align: right;\">\n",
       "      <th></th>\n",
       "      <th>RecommendedProducts</th>\n",
       "    </tr>\n",
       "    <tr>\n",
       "      <th>CustomerID</th>\n",
       "      <th></th>\n",
       "    </tr>\n",
       "  </thead>\n",
       "  <tbody>\n",
       "    <tr>\n",
       "      <th>11000</th>\n",
       "      <td>Water Bottle - 30 oz.|AWC Logo Cap|Mountain Bo...</td>\n",
       "    </tr>\n",
       "    <tr>\n",
       "      <th>11001</th>\n",
       "      <td>Sport-100 Helmet, Red|HL Mountain Tire|Sport-1...</td>\n",
       "    </tr>\n",
       "    <tr>\n",
       "      <th>11002</th>\n",
       "      <td>Water Bottle - 30 oz.|Mountain Bottle Cage|HL ...</td>\n",
       "    </tr>\n",
       "    <tr>\n",
       "      <th>11003</th>\n",
       "      <td>Touring Tire Tube|Mountain Bottle Cage|Road Bo...</td>\n",
       "    </tr>\n",
       "    <tr>\n",
       "      <th>11004</th>\n",
       "      <td>Mountain Tire Tube|Water Bottle - 30 oz.|HL Mo...</td>\n",
       "    </tr>\n",
       "  </tbody>\n",
       "</table>\n",
       "</div>"
      ],
      "text/plain": [
       "                                          RecommendedProducts\n",
       "CustomerID                                                   \n",
       "11000       Water Bottle - 30 oz.|AWC Logo Cap|Mountain Bo...\n",
       "11001       Sport-100 Helmet, Red|HL Mountain Tire|Sport-1...\n",
       "11002       Water Bottle - 30 oz.|Mountain Bottle Cage|HL ...\n",
       "11003       Touring Tire Tube|Mountain Bottle Cage|Road Bo...\n",
       "11004       Mountain Tire Tube|Water Bottle - 30 oz.|HL Mo..."
      ]
     },
     "execution_count": 36,
     "metadata": {},
     "output_type": "execute_result"
    }
   ],
   "source": [
    "df_output = create_output(cos_dummy, users_to_recommend, n_rec, print_csv=True)\n",
    "print(df_output.shape)\n",
    "df_output.head()"
   ]
  },
  {
   "cell_type": "markdown",
   "metadata": {},
   "source": [
    "#### 9.2. Customer recommendation function\n",
    "Let’s define a function that will return recommendation list given a customer ID:"
   ]
  },
  {
   "cell_type": "code",
   "execution_count": 37,
   "metadata": {},
   "outputs": [],
   "source": [
    "def customer_recomendation(customer_id):\n",
    "    if customer_id not in df_output.index:\n",
    "        print('Customer not found.')\n",
    "        return customer_id\n",
    "    return df_output.loc[customer_id]"
   ]
  },
  {
   "cell_type": "raw",
   "metadata": {},
   "source": [
    "customer_recomendation(11001)"
   ]
  },
  {
   "cell_type": "code",
   "execution_count": 38,
   "metadata": {},
   "outputs": [
    {
     "data": {
      "text/plain": [
       "RecommendedProducts    Sport-100 Helmet, Red|HL Mountain Tire|Sport-1...\n",
       "Name: 11001, dtype: object"
      ]
     },
     "execution_count": 38,
     "metadata": {},
     "output_type": "execute_result"
    }
   ],
   "source": [
    "customer_recomendation(11001)"
   ]
  },
  {
   "cell_type": "markdown",
   "metadata": {},
   "source": [
    "#### End of Code"
   ]
  }
 ],
 "metadata": {
  "kernelspec": {
   "display_name": "Python 3",
   "language": "python",
   "name": "python3"
  },
  "language_info": {
   "codemirror_mode": {
    "name": "ipython",
    "version": 3
   },
   "file_extension": ".py",
   "mimetype": "text/x-python",
   "name": "python",
   "nbconvert_exporter": "python",
   "pygments_lexer": "ipython3",
   "version": "3.6.5"
  }
 },
 "nbformat": 4,
 "nbformat_minor": 2
}
